{
 "cells": [
  {
   "cell_type": "markdown",
   "id": "7daf0d87",
   "metadata": {
    "_cell_guid": "b1076dfc-b9ad-4769-8c92-a6c4dae69d19",
    "_uuid": "8f2839f25d086af736a60e9eeb907d3b93b6e0e5",
    "papermill": {
     "duration": 0.009775,
     "end_time": "2024-09-04T17:05:48.532256",
     "exception": false,
     "start_time": "2024-09-04T17:05:48.522481",
     "status": "completed"
    },
    "tags": []
   },
   "source": [
    "# RSNA2024 LSDC Submission Baseline\n",
    "\n",
    "This code outlines a process for classifying degenerative lumbar spine conditions using MRI images. It starts by importing necessary libraries for data handling, model training, and image processing, including PyTorch for deep learning and Albumentations for data augmentation.\n",
    "\n",
    "A configuration section sets parameters such as device type (CPU/GPU), image size, and model specifications (EfficientNet). The dataset is then defined using a custom RSNA24TestDataset class, which loads and processes DICOM images (MRI scans) into a standardized format suitable for model input.\n",
    "\n",
    "The code then defines a neural network model based on a pre-trained EfficientNet architecture and loads several pre-trained model weights for inference. An inference loop processes the test dataset, passing images through the ensemble of models and aggregating the predictions.\n",
    "\n",
    "Finally, the predictions are formatted into a submission file, which is saved for evaluation in the competition. The notebook concludes by acknowledging potential areas for improvement in the approach used.\n"
   ]
  },
  {
   "cell_type": "markdown",
   "id": "7145d494",
   "metadata": {
    "papermill": {
     "duration": 0.00929,
     "end_time": "2024-09-04T17:05:48.551377",
     "exception": false,
     "start_time": "2024-09-04T17:05:48.542087",
     "status": "completed"
    },
    "tags": []
   },
   "source": []
  },
  {
   "cell_type": "markdown",
   "id": "4013a929",
   "metadata": {
    "papermill": {
     "duration": 0.009144,
     "end_time": "2024-09-04T17:05:48.569936",
     "exception": false,
     "start_time": "2024-09-04T17:05:48.560792",
     "status": "completed"
    },
    "tags": []
   },
   "source": [
    "# Import Libralies"
   ]
  },
  {
   "cell_type": "code",
   "execution_count": 1,
   "id": "fb511abf",
   "metadata": {
    "execution": {
     "iopub.execute_input": "2024-09-04T17:05:48.590942Z",
     "iopub.status.busy": "2024-09-04T17:05:48.590518Z",
     "iopub.status.idle": "2024-09-04T17:05:58.170380Z",
     "shell.execute_reply": "2024-09-04T17:05:58.169481Z"
    },
    "papermill": {
     "duration": 9.593736,
     "end_time": "2024-09-04T17:05:58.173037",
     "exception": false,
     "start_time": "2024-09-04T17:05:48.579301",
     "status": "completed"
    },
    "tags": []
   },
   "outputs": [],
   "source": [
    "import os\n",
    "import gc\n",
    "import sys\n",
    "from PIL import Image\n",
    "import cv2\n",
    "import math, random\n",
    "import numpy as np\n",
    "import pandas as pd\n",
    "from glob import glob\n",
    "from tqdm import tqdm\n",
    "import matplotlib.pyplot as plt\n",
    "from sklearn.model_selection import KFold\n",
    "\n",
    "from collections import OrderedDict\n",
    "\n",
    "import torch\n",
    "import torch.nn.functional as F\n",
    "from torch import nn\n",
    "from torch.utils.data import DataLoader, Dataset\n",
    "from torch.optim import AdamW\n",
    "\n",
    "import timm\n",
    "from timm.utils import ModelEmaV2\n",
    "from transformers import get_cosine_schedule_with_warmup\n",
    "\n",
    "import albumentations as A\n",
    "\n",
    "from sklearn.model_selection import KFold\n",
    "\n",
    "import re\n",
    "import pydicom"
   ]
  },
  {
   "cell_type": "code",
   "execution_count": 2,
   "id": "74627a31",
   "metadata": {
    "execution": {
     "iopub.execute_input": "2024-09-04T17:05:58.193368Z",
     "iopub.status.busy": "2024-09-04T17:05:58.192846Z",
     "iopub.status.idle": "2024-09-04T17:05:58.197662Z",
     "shell.execute_reply": "2024-09-04T17:05:58.196629Z"
    },
    "papermill": {
     "duration": 0.017316,
     "end_time": "2024-09-04T17:05:58.199927",
     "exception": false,
     "start_time": "2024-09-04T17:05:58.182611",
     "status": "completed"
    },
    "tags": []
   },
   "outputs": [],
   "source": [
    "rd = '/kaggle/input/rsna-2024-lumbar-spine-degenerative-classification'\n"
   ]
  },
  {
   "cell_type": "markdown",
   "id": "a8baa78d",
   "metadata": {
    "papermill": {
     "duration": 0.009121,
     "end_time": "2024-09-04T17:05:58.218306",
     "exception": false,
     "start_time": "2024-09-04T17:05:58.209185",
     "status": "completed"
    },
    "tags": []
   },
   "source": [
    "# Config"
   ]
  },
  {
   "cell_type": "code",
   "execution_count": 3,
   "id": "c7f9edfd",
   "metadata": {
    "execution": {
     "iopub.execute_input": "2024-09-04T17:05:58.239098Z",
     "iopub.status.busy": "2024-09-04T17:05:58.238734Z",
     "iopub.status.idle": "2024-09-04T17:05:58.323022Z",
     "shell.execute_reply": "2024-09-04T17:05:58.321890Z"
    },
    "papermill": {
     "duration": 0.097768,
     "end_time": "2024-09-04T17:05:58.325346",
     "exception": false,
     "start_time": "2024-09-04T17:05:58.227578",
     "status": "completed"
    },
    "tags": []
   },
   "outputs": [],
   "source": [
    "device = 'cuda:0' if torch.cuda.is_available() else 'cpu'\n",
    "N_WORKERS = os.cpu_count()\n",
    "USE_AMP = True\n",
    "SEED = 42\n",
    "\n",
    "IMG_SIZE = [512, 512]\n",
    "IN_CHANS = 30\n",
    "N_LABELS = 25\n",
    "N_CLASSES = 3 * N_LABELS\n",
    "\n",
    "N_FOLDS = 2\n",
    "\n",
    "MODEL_NAME = \"tf_efficientnet_b3.ns_jft_in1k\"\n",
    "\n",
    "\n",
    "BATCH_SIZE = 1"
   ]
  },
  {
   "cell_type": "code",
   "execution_count": 4,
   "id": "5c4dfb3b",
   "metadata": {
    "execution": {
     "iopub.execute_input": "2024-09-04T17:05:58.345180Z",
     "iopub.status.busy": "2024-09-04T17:05:58.344827Z",
     "iopub.status.idle": "2024-09-04T17:05:58.349617Z",
     "shell.execute_reply": "2024-09-04T17:05:58.348705Z"
    },
    "papermill": {
     "duration": 0.017247,
     "end_time": "2024-09-04T17:05:58.351930",
     "exception": false,
     "start_time": "2024-09-04T17:05:58.334683",
     "status": "completed"
    },
    "tags": []
   },
   "outputs": [],
   "source": [
    "rd = '/kaggle/input/rsna-2024-lumbar-spine-degenerative-classification'"
   ]
  },
  {
   "cell_type": "code",
   "execution_count": 5,
   "id": "028bd6f1",
   "metadata": {
    "execution": {
     "iopub.execute_input": "2024-09-04T17:05:58.372227Z",
     "iopub.status.busy": "2024-09-04T17:05:58.371891Z",
     "iopub.status.idle": "2024-09-04T17:05:58.379605Z",
     "shell.execute_reply": "2024-09-04T17:05:58.378600Z"
    },
    "papermill": {
     "duration": 0.020595,
     "end_time": "2024-09-04T17:05:58.381924",
     "exception": false,
     "start_time": "2024-09-04T17:05:58.361329",
     "status": "completed"
    },
    "tags": []
   },
   "outputs": [
    {
     "data": {
      "text/plain": [
       "device(type='cuda', index=0)"
      ]
     },
     "execution_count": 5,
     "metadata": {},
     "output_type": "execute_result"
    }
   ],
   "source": [
    "device = torch.device('cuda:0') if torch.cuda.is_available() else torch.device('cpu')\n",
    "device"
   ]
  },
  {
   "cell_type": "code",
   "execution_count": 6,
   "id": "f5c5347c",
   "metadata": {
    "execution": {
     "iopub.execute_input": "2024-09-04T17:05:58.402640Z",
     "iopub.status.busy": "2024-09-04T17:05:58.402314Z",
     "iopub.status.idle": "2024-09-04T17:05:58.428604Z",
     "shell.execute_reply": "2024-09-04T17:05:58.427710Z"
    },
    "papermill": {
     "duration": 0.03933,
     "end_time": "2024-09-04T17:05:58.430921",
     "exception": false,
     "start_time": "2024-09-04T17:05:58.391591",
     "status": "completed"
    },
    "tags": []
   },
   "outputs": [
    {
     "data": {
      "text/html": [
       "<div>\n",
       "<style scoped>\n",
       "    .dataframe tbody tr th:only-of-type {\n",
       "        vertical-align: middle;\n",
       "    }\n",
       "\n",
       "    .dataframe tbody tr th {\n",
       "        vertical-align: top;\n",
       "    }\n",
       "\n",
       "    .dataframe thead th {\n",
       "        text-align: right;\n",
       "    }\n",
       "</style>\n",
       "<table border=\"1\" class=\"dataframe\">\n",
       "  <thead>\n",
       "    <tr style=\"text-align: right;\">\n",
       "      <th></th>\n",
       "      <th>study_id</th>\n",
       "      <th>series_id</th>\n",
       "      <th>series_description</th>\n",
       "    </tr>\n",
       "  </thead>\n",
       "  <tbody>\n",
       "    <tr>\n",
       "      <th>0</th>\n",
       "      <td>44036939</td>\n",
       "      <td>2828203845</td>\n",
       "      <td>Sagittal T1</td>\n",
       "    </tr>\n",
       "    <tr>\n",
       "      <th>1</th>\n",
       "      <td>44036939</td>\n",
       "      <td>3481971518</td>\n",
       "      <td>Axial T2</td>\n",
       "    </tr>\n",
       "    <tr>\n",
       "      <th>2</th>\n",
       "      <td>44036939</td>\n",
       "      <td>3844393089</td>\n",
       "      <td>Sagittal T2/STIR</td>\n",
       "    </tr>\n",
       "  </tbody>\n",
       "</table>\n",
       "</div>"
      ],
      "text/plain": [
       "   study_id   series_id series_description\n",
       "0  44036939  2828203845        Sagittal T1\n",
       "1  44036939  3481971518           Axial T2\n",
       "2  44036939  3844393089   Sagittal T2/STIR"
      ]
     },
     "execution_count": 6,
     "metadata": {},
     "output_type": "execute_result"
    }
   ],
   "source": [
    "df = pd.read_csv(f'{rd}/test_series_descriptions.csv')\n",
    "df.head()"
   ]
  },
  {
   "cell_type": "code",
   "execution_count": 7,
   "id": "3b21fdfb",
   "metadata": {
    "execution": {
     "iopub.execute_input": "2024-09-04T17:05:58.451558Z",
     "iopub.status.busy": "2024-09-04T17:05:58.451257Z",
     "iopub.status.idle": "2024-09-04T17:05:58.457802Z",
     "shell.execute_reply": "2024-09-04T17:05:58.456894Z"
    },
    "papermill": {
     "duration": 0.018857,
     "end_time": "2024-09-04T17:05:58.459854",
     "exception": false,
     "start_time": "2024-09-04T17:05:58.440997",
     "status": "completed"
    },
    "tags": []
   },
   "outputs": [],
   "source": [
    "study_ids = list(df['study_id'].unique())"
   ]
  },
  {
   "cell_type": "code",
   "execution_count": 8,
   "id": "a2b19e32",
   "metadata": {
    "execution": {
     "iopub.execute_input": "2024-09-04T17:05:58.479341Z",
     "iopub.status.busy": "2024-09-04T17:05:58.479042Z",
     "iopub.status.idle": "2024-09-04T17:05:58.488461Z",
     "shell.execute_reply": "2024-09-04T17:05:58.487392Z"
    },
    "papermill": {
     "duration": 0.021908,
     "end_time": "2024-09-04T17:05:58.491003",
     "exception": false,
     "start_time": "2024-09-04T17:05:58.469095",
     "status": "completed"
    },
    "tags": []
   },
   "outputs": [],
   "source": [
    "sample_sub = pd.read_csv(f'{rd}/sample_submission.csv')"
   ]
  },
  {
   "cell_type": "code",
   "execution_count": 9,
   "id": "6fb4bbf8",
   "metadata": {
    "execution": {
     "iopub.execute_input": "2024-09-04T17:05:58.511785Z",
     "iopub.status.busy": "2024-09-04T17:05:58.511478Z",
     "iopub.status.idle": "2024-09-04T17:05:58.517492Z",
     "shell.execute_reply": "2024-09-04T17:05:58.516591Z"
    },
    "papermill": {
     "duration": 0.018195,
     "end_time": "2024-09-04T17:05:58.519649",
     "exception": false,
     "start_time": "2024-09-04T17:05:58.501454",
     "status": "completed"
    },
    "tags": []
   },
   "outputs": [
    {
     "data": {
      "text/plain": [
       "['normal_mild', 'moderate', 'severe']"
      ]
     },
     "execution_count": 9,
     "metadata": {},
     "output_type": "execute_result"
    }
   ],
   "source": [
    "LABELS = list(sample_sub.columns[1:])\n",
    "LABELS"
   ]
  },
  {
   "cell_type": "code",
   "execution_count": 10,
   "id": "30864650",
   "metadata": {
    "execution": {
     "iopub.execute_input": "2024-09-04T17:05:58.539397Z",
     "iopub.status.busy": "2024-09-04T17:05:58.538861Z",
     "iopub.status.idle": "2024-09-04T17:05:58.543807Z",
     "shell.execute_reply": "2024-09-04T17:05:58.542924Z"
    },
    "papermill": {
     "duration": 0.017231,
     "end_time": "2024-09-04T17:05:58.545963",
     "exception": false,
     "start_time": "2024-09-04T17:05:58.528732",
     "status": "completed"
    },
    "tags": []
   },
   "outputs": [],
   "source": [
    "CONDITIONS = [\n",
    "    'spinal_canal_stenosis', \n",
    "    'left_neural_foraminal_narrowing', \n",
    "    'right_neural_foraminal_narrowing',\n",
    "    'left_subarticular_stenosis',\n",
    "    'right_subarticular_stenosis'\n",
    "]\n",
    "\n",
    "LEVELS = [\n",
    "    'l1_l2',\n",
    "    'l2_l3',\n",
    "    'l3_l4',\n",
    "    'l4_l5',\n",
    "    'l5_s1',\n",
    "]"
   ]
  },
  {
   "cell_type": "code",
   "execution_count": 11,
   "id": "0ac64476",
   "metadata": {
    "execution": {
     "iopub.execute_input": "2024-09-04T17:05:58.566311Z",
     "iopub.status.busy": "2024-09-04T17:05:58.565450Z",
     "iopub.status.idle": "2024-09-04T17:05:58.570817Z",
     "shell.execute_reply": "2024-09-04T17:05:58.569879Z"
    },
    "papermill": {
     "duration": 0.017695,
     "end_time": "2024-09-04T17:05:58.572890",
     "exception": false,
     "start_time": "2024-09-04T17:05:58.555195",
     "status": "completed"
    },
    "tags": []
   },
   "outputs": [],
   "source": [
    "def atoi(text):\n",
    "    return int(text) if text.isdigit() else text\n",
    "\n",
    "def natural_keys(text):\n",
    "    return [ atoi(c) for c in re.split(r'(\\d+)', text) ]"
   ]
  },
  {
   "cell_type": "markdown",
   "id": "cbd40f99",
   "metadata": {
    "papermill": {
     "duration": 0.009458,
     "end_time": "2024-09-04T17:05:58.592076",
     "exception": false,
     "start_time": "2024-09-04T17:05:58.582618",
     "status": "completed"
    },
    "tags": []
   },
   "source": [
    "# Define Dataset"
   ]
  },
  {
   "cell_type": "code",
   "execution_count": 12,
   "id": "cc5954eb",
   "metadata": {
    "execution": {
     "iopub.execute_input": "2024-09-04T17:05:58.612847Z",
     "iopub.status.busy": "2024-09-04T17:05:58.612519Z",
     "iopub.status.idle": "2024-09-04T17:05:58.636195Z",
     "shell.execute_reply": "2024-09-04T17:05:58.635306Z"
    },
    "papermill": {
     "duration": 0.036523,
     "end_time": "2024-09-04T17:05:58.638301",
     "exception": false,
     "start_time": "2024-09-04T17:05:58.601778",
     "status": "completed"
    },
    "tags": []
   },
   "outputs": [],
   "source": [
    "class RSNA24TestDataset(Dataset):\n",
    "    def __init__(self, df, study_ids, phase='test', transform=None):\n",
    "        self.df = df\n",
    "        self.study_ids = study_ids\n",
    "        self.transform = transform\n",
    "        self.phase = phase\n",
    "    \n",
    "    def __len__(self):\n",
    "        return len(self.study_ids)\n",
    "    \n",
    "    def get_img_paths(self, study_id, series_desc):\n",
    "        pdf = self.df[self.df['study_id']==study_id]\n",
    "        pdf_ = pdf[pdf['series_description']==series_desc]\n",
    "        allimgs = []\n",
    "        for i, row in pdf_.iterrows():\n",
    "            pimgs = glob.glob(f'{rd}/test_images/{study_id}/{row[\"series_id\"]}/*.dcm')\n",
    "            pimgs = sorted(pimgs, key=natural_keys)\n",
    "            allimgs.extend(pimgs)\n",
    "            \n",
    "        return allimgs\n",
    "    \n",
    "    def read_dcm_ret_arr(self, src_path):\n",
    "        dicom_data = pydicom.dcmread(src_path)\n",
    "        image = dicom_data.pixel_array\n",
    "        image = (image - image.min()) / (image.max() - image.min() + 1e-6) * 255\n",
    "        img = cv2.resize(image, (IMG_SIZE[0], IMG_SIZE[1]),interpolation=cv2.INTER_CUBIC)\n",
    "        assert img.shape==(IMG_SIZE[0], IMG_SIZE[1])\n",
    "        return img\n",
    "\n",
    "    def __getitem__(self, idx):\n",
    "        x = np.zeros((IMG_SIZE[0], IMG_SIZE[1], IN_CHANS), dtype=np.uint8)\n",
    "        st_id = self.study_ids[idx]        \n",
    "        \n",
    "        # Sagittal T1\n",
    "        allimgs_st1 = self.get_img_paths(st_id, 'Sagittal T1')\n",
    "        if len(allimgs_st1)==0:\n",
    "            print(st_id, ': Sagittal T1, has no images')\n",
    "        \n",
    "        else:\n",
    "            step = len(allimgs_st1) / 10.0\n",
    "            st = len(allimgs_st1)/2.0 - 4.0*step\n",
    "            end = len(allimgs_st1)+0.0001\n",
    "            for j, i in enumerate(np.arange(st, end, step)):\n",
    "                try:\n",
    "                    ind2 = max(0, int((i-0.5001).round()))\n",
    "                    img = self.read_dcm_ret_arr(allimgs_st1[ind2])\n",
    "                    x[..., j] = img.astype(np.uint8)\n",
    "                except:\n",
    "                    print(f'failed to load on {st_id}, Sagittal T1')\n",
    "                    pass\n",
    "            \n",
    "        # Sagittal T2/STIR\n",
    "        allimgs_st2 = self.get_img_paths(st_id, 'Sagittal T2/STIR')\n",
    "        if len(allimgs_st2)==0:\n",
    "            print(st_id, ': Sagittal T2/STIR, has no images')\n",
    "            \n",
    "        else:\n",
    "            step = len(allimgs_st2) / 10.0\n",
    "            st = len(allimgs_st2)/2.0 - 4.0*step\n",
    "            end = len(allimgs_st2)+0.0001\n",
    "            for j, i in enumerate(np.arange(st, end, step)):\n",
    "                try:\n",
    "                    ind2 = max(0, int((i-0.5001).round()))\n",
    "                    img = self.read_dcm_ret_arr(allimgs_st2[ind2])\n",
    "                    x[..., j+10] = img.astype(np.uint8)\n",
    "                except:\n",
    "                    print(f'failed to load on {st_id}, Sagittal T2/STIR')\n",
    "                    pass\n",
    "            \n",
    "        # Axial T2\n",
    "        allimgs_at2 = self.get_img_paths(st_id, 'Axial T2')\n",
    "        if len(allimgs_at2)==0:\n",
    "            print(st_id, ': Axial T2, has no images')\n",
    "            \n",
    "        else:\n",
    "            step = len(allimgs_at2) / 10.0\n",
    "            st = len(allimgs_at2)/2.0 - 4.0*step\n",
    "            end = len(allimgs_at2)+0.0001\n",
    "\n",
    "            for j, i in enumerate(np.arange(st, end, step)):\n",
    "                try:\n",
    "                    ind2 = max(0, int((i-0.5001).round()))\n",
    "                    img = self.read_dcm_ret_arr(allimgs_at2[ind2])\n",
    "                    x[..., j+20] = img.astype(np.uint8)\n",
    "                except:\n",
    "                    print(f'failed to load on {st_id}, Axial T2')\n",
    "                    pass  \n",
    "            \n",
    "            \n",
    "        if self.transform is not None:\n",
    "            x = self.transform(image=x)['image']\n",
    "\n",
    "        x = x.transpose(2, 0, 1)\n",
    "                \n",
    "        return x, str(st_id)"
   ]
  },
  {
   "cell_type": "code",
   "execution_count": 13,
   "id": "21f2a758",
   "metadata": {
    "execution": {
     "iopub.execute_input": "2024-09-04T17:05:58.658482Z",
     "iopub.status.busy": "2024-09-04T17:05:58.658093Z",
     "iopub.status.idle": "2024-09-04T17:05:58.663554Z",
     "shell.execute_reply": "2024-09-04T17:05:58.662591Z"
    },
    "papermill": {
     "duration": 0.01809,
     "end_time": "2024-09-04T17:05:58.666005",
     "exception": false,
     "start_time": "2024-09-04T17:05:58.647915",
     "status": "completed"
    },
    "tags": []
   },
   "outputs": [],
   "source": [
    "transforms_test = A.Compose([\n",
    "    A.Resize(IMG_SIZE[0], IMG_SIZE[1]),\n",
    "    A.Normalize(mean=0.5, std=0.5)\n",
    "])"
   ]
  },
  {
   "cell_type": "code",
   "execution_count": 14,
   "id": "cabd8585",
   "metadata": {
    "execution": {
     "iopub.execute_input": "2024-09-04T17:05:58.686141Z",
     "iopub.status.busy": "2024-09-04T17:05:58.685850Z",
     "iopub.status.idle": "2024-09-04T17:05:58.692061Z",
     "shell.execute_reply": "2024-09-04T17:05:58.691309Z"
    },
    "papermill": {
     "duration": 0.018615,
     "end_time": "2024-09-04T17:05:58.694139",
     "exception": false,
     "start_time": "2024-09-04T17:05:58.675524",
     "status": "completed"
    },
    "tags": []
   },
   "outputs": [],
   "source": [
    "test_ds = RSNA24TestDataset(df, study_ids, transform=transforms_test)\n",
    "test_dl = DataLoader(\n",
    "    test_ds, \n",
    "    batch_size=1, \n",
    "    shuffle=False,\n",
    "    num_workers=N_WORKERS,\n",
    "    pin_memory=True,\n",
    "    drop_last=False\n",
    ")"
   ]
  },
  {
   "cell_type": "markdown",
   "id": "9318b1f0",
   "metadata": {
    "papermill": {
     "duration": 0.009352,
     "end_time": "2024-09-04T17:05:58.713022",
     "exception": false,
     "start_time": "2024-09-04T17:05:58.703670",
     "status": "completed"
    },
    "tags": []
   },
   "source": [
    "# Define Model"
   ]
  },
  {
   "cell_type": "code",
   "execution_count": 15,
   "id": "659c6753",
   "metadata": {
    "execution": {
     "iopub.execute_input": "2024-09-04T17:05:58.733464Z",
     "iopub.status.busy": "2024-09-04T17:05:58.733088Z",
     "iopub.status.idle": "2024-09-04T17:05:58.739588Z",
     "shell.execute_reply": "2024-09-04T17:05:58.738689Z"
    },
    "papermill": {
     "duration": 0.019164,
     "end_time": "2024-09-04T17:05:58.741695",
     "exception": false,
     "start_time": "2024-09-04T17:05:58.722531",
     "status": "completed"
    },
    "tags": []
   },
   "outputs": [],
   "source": [
    "class RSNA24Model(nn.Module):\n",
    "    def __init__(self, model_name, in_c=30, n_classes=75, pretrained=True, features_only=False):\n",
    "        super().__init__()\n",
    "        self.model = timm.create_model(\n",
    "                                    model_name,\n",
    "                                    pretrained=pretrained, \n",
    "                                    features_only=features_only,\n",
    "                                    in_chans=in_c,\n",
    "                                    num_classes=n_classes,\n",
    "                                    global_pool='avg'\n",
    "                                    )\n",
    "    \n",
    "    def forward(self, x):\n",
    "        y = self.model(x)\n",
    "        return y"
   ]
  },
  {
   "cell_type": "markdown",
   "id": "7aa97b35",
   "metadata": {
    "papermill": {
     "duration": 0.009465,
     "end_time": "2024-09-04T17:05:58.760612",
     "exception": false,
     "start_time": "2024-09-04T17:05:58.751147",
     "status": "completed"
    },
    "tags": []
   },
   "source": [
    "# Load Models"
   ]
  },
  {
   "cell_type": "code",
   "execution_count": 16,
   "id": "bd71e50d",
   "metadata": {
    "execution": {
     "iopub.execute_input": "2024-09-04T17:05:58.781070Z",
     "iopub.status.busy": "2024-09-04T17:05:58.780733Z",
     "iopub.status.idle": "2024-09-04T17:05:58.784953Z",
     "shell.execute_reply": "2024-09-04T17:05:58.783992Z"
    },
    "papermill": {
     "duration": 0.01703,
     "end_time": "2024-09-04T17:05:58.787094",
     "exception": false,
     "start_time": "2024-09-04T17:05:58.770064",
     "status": "completed"
    },
    "tags": []
   },
   "outputs": [],
   "source": [
    "models = []"
   ]
  },
  {
   "cell_type": "code",
   "execution_count": 17,
   "id": "5fb06017",
   "metadata": {
    "execution": {
     "iopub.execute_input": "2024-09-04T17:05:58.807302Z",
     "iopub.status.busy": "2024-09-04T17:05:58.806995Z",
     "iopub.status.idle": "2024-09-04T17:05:58.815677Z",
     "shell.execute_reply": "2024-09-04T17:05:58.814747Z"
    },
    "papermill": {
     "duration": 0.021283,
     "end_time": "2024-09-04T17:05:58.817881",
     "exception": false,
     "start_time": "2024-09-04T17:05:58.796598",
     "status": "completed"
    },
    "tags": []
   },
   "outputs": [],
   "source": [
    "import glob\n",
    "# CKPT_PATHS = glob.glob('/kaggle/input/rsna-model/pytorch/default/1/rsna24-results/best_wll_model_fold-*.pt')\n",
    "CKPT_PATHS = glob.glob('/kaggle/input/rsna2024-lsdc-training-baseline/rsna24-results/best_wll_model_fold-*.pt')\n",
    "CKPT_PATHS = sorted(CKPT_PATHS)"
   ]
  },
  {
   "cell_type": "code",
   "execution_count": 18,
   "id": "b1b42041",
   "metadata": {
    "execution": {
     "iopub.execute_input": "2024-09-04T17:05:58.837708Z",
     "iopub.status.busy": "2024-09-04T17:05:58.837395Z",
     "iopub.status.idle": "2024-09-04T17:06:02.109311Z",
     "shell.execute_reply": "2024-09-04T17:06:02.106771Z"
    },
    "papermill": {
     "duration": 3.285116,
     "end_time": "2024-09-04T17:06:02.112602",
     "exception": false,
     "start_time": "2024-09-04T17:05:58.827486",
     "status": "completed"
    },
    "tags": []
   },
   "outputs": [
    {
     "name": "stdout",
     "output_type": "stream",
     "text": [
      "loading /kaggle/input/rsna2024-lsdc-training-baseline/rsna24-results/best_wll_model_fold-0.pt...\n",
      "loading /kaggle/input/rsna2024-lsdc-training-baseline/rsna24-results/best_wll_model_fold-1.pt...\n",
      "loading /kaggle/input/rsna2024-lsdc-training-baseline/rsna24-results/best_wll_model_fold-2.pt...\n"
     ]
    }
   ],
   "source": [
    "for i, cp in enumerate(CKPT_PATHS):\n",
    "    print(f'loading {cp}...')\n",
    "    model = RSNA24Model(MODEL_NAME, IN_CHANS, N_CLASSES, pretrained=False)\n",
    "    state_dict = torch.load(cp)    \n",
    "    \n",
    "    model.load_state_dict(torch.load(cp), strict=False)\n",
    "    model.eval()\n",
    "    model.half()\n",
    "    model.to(device)\n",
    "    models.append(model)"
   ]
  },
  {
   "cell_type": "markdown",
   "id": "e1e62a0b",
   "metadata": {
    "papermill": {
     "duration": 0.014306,
     "end_time": "2024-09-04T17:06:02.141835",
     "exception": false,
     "start_time": "2024-09-04T17:06:02.127529",
     "status": "completed"
    },
    "tags": []
   },
   "source": [
    "# Inference loop"
   ]
  },
  {
   "cell_type": "code",
   "execution_count": 19,
   "id": "56ec7e33",
   "metadata": {
    "execution": {
     "iopub.execute_input": "2024-09-04T17:06:02.164255Z",
     "iopub.status.busy": "2024-09-04T17:06:02.163843Z",
     "iopub.status.idle": "2024-09-04T17:06:04.929627Z",
     "shell.execute_reply": "2024-09-04T17:06:04.928187Z"
    },
    "papermill": {
     "duration": 2.779084,
     "end_time": "2024-09-04T17:06:04.932096",
     "exception": false,
     "start_time": "2024-09-04T17:06:02.153012",
     "status": "completed"
    },
    "tags": []
   },
   "outputs": [
    {
     "name": "stderr",
     "output_type": "stream",
     "text": [
      "100%|██████████| 1/1 [00:02<00:00,  2.75s/it]\n"
     ]
    }
   ],
   "source": [
    "autocast = torch.cuda.amp.autocast(enabled=USE_AMP, dtype=torch.half)\n",
    "y_preds = []\n",
    "row_names = []\n",
    "\n",
    "with tqdm(test_dl, leave=True) as pbar:\n",
    "    with torch.no_grad():\n",
    "        for idx, (x, si) in enumerate(pbar):\n",
    "            x = x.to(device)\n",
    "            pred_per_study = np.zeros((25, 3))\n",
    "            \n",
    "            for cond in CONDITIONS:\n",
    "                for level in LEVELS:\n",
    "                    row_names.append(si[0] + '_' + cond + '_' + level)\n",
    "            \n",
    "            with autocast:\n",
    "                for m in models:\n",
    "                    y = m(x)[0]\n",
    "                    for col in range(N_LABELS):\n",
    "                        pred = y[col*3:col*3+3]\n",
    "                        y_pred = pred.float().softmax(0).cpu().numpy()\n",
    "                        pred_per_study[col] += y_pred / len(models)\n",
    "                y_preds.append(pred_per_study)\n",
    "\n",
    "y_preds = np.concatenate(y_preds, axis=0)"
   ]
  },
  {
   "cell_type": "markdown",
   "id": "1a994967",
   "metadata": {
    "papermill": {
     "duration": 0.009441,
     "end_time": "2024-09-04T17:06:04.951950",
     "exception": false,
     "start_time": "2024-09-04T17:06:04.942509",
     "status": "completed"
    },
    "tags": []
   },
   "source": [
    "# Make Submission"
   ]
  },
  {
   "cell_type": "code",
   "execution_count": 20,
   "id": "6c365867",
   "metadata": {
    "execution": {
     "iopub.execute_input": "2024-09-04T17:06:04.975636Z",
     "iopub.status.busy": "2024-09-04T17:06:04.975212Z",
     "iopub.status.idle": "2024-09-04T17:06:05.002310Z",
     "shell.execute_reply": "2024-09-04T17:06:05.001243Z"
    },
    "papermill": {
     "duration": 0.042626,
     "end_time": "2024-09-04T17:06:05.004657",
     "exception": false,
     "start_time": "2024-09-04T17:06:04.962031",
     "status": "completed"
    },
    "tags": []
   },
   "outputs": [
    {
     "data": {
      "text/html": [
       "<div>\n",
       "<style scoped>\n",
       "    .dataframe tbody tr th:only-of-type {\n",
       "        vertical-align: middle;\n",
       "    }\n",
       "\n",
       "    .dataframe tbody tr th {\n",
       "        vertical-align: top;\n",
       "    }\n",
       "\n",
       "    .dataframe thead th {\n",
       "        text-align: right;\n",
       "    }\n",
       "</style>\n",
       "<table border=\"1\" class=\"dataframe\">\n",
       "  <thead>\n",
       "    <tr style=\"text-align: right;\">\n",
       "      <th></th>\n",
       "      <th>row_id</th>\n",
       "      <th>normal_mild</th>\n",
       "      <th>moderate</th>\n",
       "      <th>severe</th>\n",
       "    </tr>\n",
       "  </thead>\n",
       "  <tbody>\n",
       "    <tr>\n",
       "      <th>0</th>\n",
       "      <td>44036939_spinal_canal_stenosis_l1_l2</td>\n",
       "      <td>0.378224</td>\n",
       "      <td>0.361525</td>\n",
       "      <td>0.260251</td>\n",
       "    </tr>\n",
       "    <tr>\n",
       "      <th>1</th>\n",
       "      <td>44036939_spinal_canal_stenosis_l2_l3</td>\n",
       "      <td>0.177187</td>\n",
       "      <td>0.392769</td>\n",
       "      <td>0.430044</td>\n",
       "    </tr>\n",
       "    <tr>\n",
       "      <th>2</th>\n",
       "      <td>44036939_spinal_canal_stenosis_l3_l4</td>\n",
       "      <td>0.119438</td>\n",
       "      <td>0.378317</td>\n",
       "      <td>0.502245</td>\n",
       "    </tr>\n",
       "    <tr>\n",
       "      <th>3</th>\n",
       "      <td>44036939_spinal_canal_stenosis_l4_l5</td>\n",
       "      <td>0.222238</td>\n",
       "      <td>0.241115</td>\n",
       "      <td>0.536647</td>\n",
       "    </tr>\n",
       "    <tr>\n",
       "      <th>4</th>\n",
       "      <td>44036939_spinal_canal_stenosis_l5_s1</td>\n",
       "      <td>0.785111</td>\n",
       "      <td>0.116775</td>\n",
       "      <td>0.098114</td>\n",
       "    </tr>\n",
       "    <tr>\n",
       "      <th>5</th>\n",
       "      <td>44036939_left_neural_foraminal_narrowing_l1_l2</td>\n",
       "      <td>0.484246</td>\n",
       "      <td>0.476969</td>\n",
       "      <td>0.038784</td>\n",
       "    </tr>\n",
       "    <tr>\n",
       "      <th>6</th>\n",
       "      <td>44036939_left_neural_foraminal_narrowing_l2_l3</td>\n",
       "      <td>0.278526</td>\n",
       "      <td>0.598779</td>\n",
       "      <td>0.122696</td>\n",
       "    </tr>\n",
       "    <tr>\n",
       "      <th>7</th>\n",
       "      <td>44036939_left_neural_foraminal_narrowing_l3_l4</td>\n",
       "      <td>0.261854</td>\n",
       "      <td>0.506507</td>\n",
       "      <td>0.231639</td>\n",
       "    </tr>\n",
       "    <tr>\n",
       "      <th>8</th>\n",
       "      <td>44036939_left_neural_foraminal_narrowing_l4_l5</td>\n",
       "      <td>0.141391</td>\n",
       "      <td>0.416776</td>\n",
       "      <td>0.441833</td>\n",
       "    </tr>\n",
       "    <tr>\n",
       "      <th>9</th>\n",
       "      <td>44036939_left_neural_foraminal_narrowing_l5_s1</td>\n",
       "      <td>0.178648</td>\n",
       "      <td>0.348106</td>\n",
       "      <td>0.473246</td>\n",
       "    </tr>\n",
       "    <tr>\n",
       "      <th>10</th>\n",
       "      <td>44036939_right_neural_foraminal_narrowing_l1_l2</td>\n",
       "      <td>0.523305</td>\n",
       "      <td>0.343259</td>\n",
       "      <td>0.133436</td>\n",
       "    </tr>\n",
       "    <tr>\n",
       "      <th>11</th>\n",
       "      <td>44036939_right_neural_foraminal_narrowing_l2_l3</td>\n",
       "      <td>0.375115</td>\n",
       "      <td>0.551811</td>\n",
       "      <td>0.073075</td>\n",
       "    </tr>\n",
       "    <tr>\n",
       "      <th>12</th>\n",
       "      <td>44036939_right_neural_foraminal_narrowing_l3_l4</td>\n",
       "      <td>0.180597</td>\n",
       "      <td>0.587096</td>\n",
       "      <td>0.232307</td>\n",
       "    </tr>\n",
       "    <tr>\n",
       "      <th>13</th>\n",
       "      <td>44036939_right_neural_foraminal_narrowing_l4_l5</td>\n",
       "      <td>0.137890</td>\n",
       "      <td>0.385197</td>\n",
       "      <td>0.476913</td>\n",
       "    </tr>\n",
       "    <tr>\n",
       "      <th>14</th>\n",
       "      <td>44036939_right_neural_foraminal_narrowing_l5_s1</td>\n",
       "      <td>0.211160</td>\n",
       "      <td>0.375311</td>\n",
       "      <td>0.413529</td>\n",
       "    </tr>\n",
       "    <tr>\n",
       "      <th>15</th>\n",
       "      <td>44036939_left_subarticular_stenosis_l1_l2</td>\n",
       "      <td>0.237312</td>\n",
       "      <td>0.447624</td>\n",
       "      <td>0.315064</td>\n",
       "    </tr>\n",
       "    <tr>\n",
       "      <th>16</th>\n",
       "      <td>44036939_left_subarticular_stenosis_l2_l3</td>\n",
       "      <td>0.089989</td>\n",
       "      <td>0.289926</td>\n",
       "      <td>0.620085</td>\n",
       "    </tr>\n",
       "    <tr>\n",
       "      <th>17</th>\n",
       "      <td>44036939_left_subarticular_stenosis_l3_l4</td>\n",
       "      <td>0.060752</td>\n",
       "      <td>0.321289</td>\n",
       "      <td>0.617960</td>\n",
       "    </tr>\n",
       "    <tr>\n",
       "      <th>18</th>\n",
       "      <td>44036939_left_subarticular_stenosis_l4_l5</td>\n",
       "      <td>0.087482</td>\n",
       "      <td>0.230180</td>\n",
       "      <td>0.682337</td>\n",
       "    </tr>\n",
       "    <tr>\n",
       "      <th>19</th>\n",
       "      <td>44036939_left_subarticular_stenosis_l5_s1</td>\n",
       "      <td>0.267432</td>\n",
       "      <td>0.350332</td>\n",
       "      <td>0.382235</td>\n",
       "    </tr>\n",
       "    <tr>\n",
       "      <th>20</th>\n",
       "      <td>44036939_right_subarticular_stenosis_l1_l2</td>\n",
       "      <td>0.311669</td>\n",
       "      <td>0.508843</td>\n",
       "      <td>0.179488</td>\n",
       "    </tr>\n",
       "    <tr>\n",
       "      <th>21</th>\n",
       "      <td>44036939_right_subarticular_stenosis_l2_l3</td>\n",
       "      <td>0.119762</td>\n",
       "      <td>0.430780</td>\n",
       "      <td>0.449458</td>\n",
       "    </tr>\n",
       "    <tr>\n",
       "      <th>22</th>\n",
       "      <td>44036939_right_subarticular_stenosis_l3_l4</td>\n",
       "      <td>0.070541</td>\n",
       "      <td>0.406275</td>\n",
       "      <td>0.523184</td>\n",
       "    </tr>\n",
       "    <tr>\n",
       "      <th>23</th>\n",
       "      <td>44036939_right_subarticular_stenosis_l4_l5</td>\n",
       "      <td>0.078197</td>\n",
       "      <td>0.287594</td>\n",
       "      <td>0.634209</td>\n",
       "    </tr>\n",
       "    <tr>\n",
       "      <th>24</th>\n",
       "      <td>44036939_right_subarticular_stenosis_l5_s1</td>\n",
       "      <td>0.227850</td>\n",
       "      <td>0.330206</td>\n",
       "      <td>0.441943</td>\n",
       "    </tr>\n",
       "  </tbody>\n",
       "</table>\n",
       "</div>"
      ],
      "text/plain": [
       "                                             row_id  normal_mild  moderate  \\\n",
       "0              44036939_spinal_canal_stenosis_l1_l2     0.378224  0.361525   \n",
       "1              44036939_spinal_canal_stenosis_l2_l3     0.177187  0.392769   \n",
       "2              44036939_spinal_canal_stenosis_l3_l4     0.119438  0.378317   \n",
       "3              44036939_spinal_canal_stenosis_l4_l5     0.222238  0.241115   \n",
       "4              44036939_spinal_canal_stenosis_l5_s1     0.785111  0.116775   \n",
       "5    44036939_left_neural_foraminal_narrowing_l1_l2     0.484246  0.476969   \n",
       "6    44036939_left_neural_foraminal_narrowing_l2_l3     0.278526  0.598779   \n",
       "7    44036939_left_neural_foraminal_narrowing_l3_l4     0.261854  0.506507   \n",
       "8    44036939_left_neural_foraminal_narrowing_l4_l5     0.141391  0.416776   \n",
       "9    44036939_left_neural_foraminal_narrowing_l5_s1     0.178648  0.348106   \n",
       "10  44036939_right_neural_foraminal_narrowing_l1_l2     0.523305  0.343259   \n",
       "11  44036939_right_neural_foraminal_narrowing_l2_l3     0.375115  0.551811   \n",
       "12  44036939_right_neural_foraminal_narrowing_l3_l4     0.180597  0.587096   \n",
       "13  44036939_right_neural_foraminal_narrowing_l4_l5     0.137890  0.385197   \n",
       "14  44036939_right_neural_foraminal_narrowing_l5_s1     0.211160  0.375311   \n",
       "15        44036939_left_subarticular_stenosis_l1_l2     0.237312  0.447624   \n",
       "16        44036939_left_subarticular_stenosis_l2_l3     0.089989  0.289926   \n",
       "17        44036939_left_subarticular_stenosis_l3_l4     0.060752  0.321289   \n",
       "18        44036939_left_subarticular_stenosis_l4_l5     0.087482  0.230180   \n",
       "19        44036939_left_subarticular_stenosis_l5_s1     0.267432  0.350332   \n",
       "20       44036939_right_subarticular_stenosis_l1_l2     0.311669  0.508843   \n",
       "21       44036939_right_subarticular_stenosis_l2_l3     0.119762  0.430780   \n",
       "22       44036939_right_subarticular_stenosis_l3_l4     0.070541  0.406275   \n",
       "23       44036939_right_subarticular_stenosis_l4_l5     0.078197  0.287594   \n",
       "24       44036939_right_subarticular_stenosis_l5_s1     0.227850  0.330206   \n",
       "\n",
       "      severe  \n",
       "0   0.260251  \n",
       "1   0.430044  \n",
       "2   0.502245  \n",
       "3   0.536647  \n",
       "4   0.098114  \n",
       "5   0.038784  \n",
       "6   0.122696  \n",
       "7   0.231639  \n",
       "8   0.441833  \n",
       "9   0.473246  \n",
       "10  0.133436  \n",
       "11  0.073075  \n",
       "12  0.232307  \n",
       "13  0.476913  \n",
       "14  0.413529  \n",
       "15  0.315064  \n",
       "16  0.620085  \n",
       "17  0.617960  \n",
       "18  0.682337  \n",
       "19  0.382235  \n",
       "20  0.179488  \n",
       "21  0.449458  \n",
       "22  0.523184  \n",
       "23  0.634209  \n",
       "24  0.441943  "
      ]
     },
     "execution_count": 20,
     "metadata": {},
     "output_type": "execute_result"
    }
   ],
   "source": [
    "sub = pd.DataFrame()\n",
    "sub['row_id'] = row_names\n",
    "sub[LABELS] = y_preds\n",
    "sub.head(25)"
   ]
  },
  {
   "cell_type": "code",
   "execution_count": 21,
   "id": "7ebb1c56",
   "metadata": {
    "execution": {
     "iopub.execute_input": "2024-09-04T17:06:05.027709Z",
     "iopub.status.busy": "2024-09-04T17:06:05.027305Z",
     "iopub.status.idle": "2024-09-04T17:06:05.045935Z",
     "shell.execute_reply": "2024-09-04T17:06:05.044884Z"
    },
    "papermill": {
     "duration": 0.033425,
     "end_time": "2024-09-04T17:06:05.048501",
     "exception": false,
     "start_time": "2024-09-04T17:06:05.015076",
     "status": "completed"
    },
    "tags": []
   },
   "outputs": [
    {
     "data": {
      "text/html": [
       "<div>\n",
       "<style scoped>\n",
       "    .dataframe tbody tr th:only-of-type {\n",
       "        vertical-align: middle;\n",
       "    }\n",
       "\n",
       "    .dataframe tbody tr th {\n",
       "        vertical-align: top;\n",
       "    }\n",
       "\n",
       "    .dataframe thead th {\n",
       "        text-align: right;\n",
       "    }\n",
       "</style>\n",
       "<table border=\"1\" class=\"dataframe\">\n",
       "  <thead>\n",
       "    <tr style=\"text-align: right;\">\n",
       "      <th></th>\n",
       "      <th>row_id</th>\n",
       "      <th>normal_mild</th>\n",
       "      <th>moderate</th>\n",
       "      <th>severe</th>\n",
       "    </tr>\n",
       "  </thead>\n",
       "  <tbody>\n",
       "    <tr>\n",
       "      <th>0</th>\n",
       "      <td>44036939_spinal_canal_stenosis_l1_l2</td>\n",
       "      <td>0.378224</td>\n",
       "      <td>0.361525</td>\n",
       "      <td>0.260251</td>\n",
       "    </tr>\n",
       "    <tr>\n",
       "      <th>1</th>\n",
       "      <td>44036939_spinal_canal_stenosis_l2_l3</td>\n",
       "      <td>0.177187</td>\n",
       "      <td>0.392769</td>\n",
       "      <td>0.430044</td>\n",
       "    </tr>\n",
       "    <tr>\n",
       "      <th>2</th>\n",
       "      <td>44036939_spinal_canal_stenosis_l3_l4</td>\n",
       "      <td>0.119438</td>\n",
       "      <td>0.378317</td>\n",
       "      <td>0.502245</td>\n",
       "    </tr>\n",
       "    <tr>\n",
       "      <th>3</th>\n",
       "      <td>44036939_spinal_canal_stenosis_l4_l5</td>\n",
       "      <td>0.222238</td>\n",
       "      <td>0.241115</td>\n",
       "      <td>0.536647</td>\n",
       "    </tr>\n",
       "    <tr>\n",
       "      <th>4</th>\n",
       "      <td>44036939_spinal_canal_stenosis_l5_s1</td>\n",
       "      <td>0.785111</td>\n",
       "      <td>0.116775</td>\n",
       "      <td>0.098114</td>\n",
       "    </tr>\n",
       "  </tbody>\n",
       "</table>\n",
       "</div>"
      ],
      "text/plain": [
       "                                 row_id  normal_mild  moderate    severe\n",
       "0  44036939_spinal_canal_stenosis_l1_l2     0.378224  0.361525  0.260251\n",
       "1  44036939_spinal_canal_stenosis_l2_l3     0.177187  0.392769  0.430044\n",
       "2  44036939_spinal_canal_stenosis_l3_l4     0.119438  0.378317  0.502245\n",
       "3  44036939_spinal_canal_stenosis_l4_l5     0.222238  0.241115  0.536647\n",
       "4  44036939_spinal_canal_stenosis_l5_s1     0.785111  0.116775  0.098114"
      ]
     },
     "execution_count": 21,
     "metadata": {},
     "output_type": "execute_result"
    }
   ],
   "source": [
    "sub.to_csv('submission.csv', index=False)\n",
    "pd.read_csv('submission.csv').head()"
   ]
  },
  {
   "cell_type": "markdown",
   "id": "0489c35f",
   "metadata": {
    "papermill": {
     "duration": 0.010852,
     "end_time": "2024-09-04T17:06:05.071726",
     "exception": false,
     "start_time": "2024-09-04T17:06:05.060874",
     "status": "completed"
    },
    "tags": []
   },
   "source": [
    "# Conclusion\n",
    "We created the dataset, performed training, and inference in this notebook. \n",
    "\n",
    "This competition is a bit complicated to handle the dataset, so there may be a better way.\n",
    "\n",
    "I think there are many other areas to improve in my notebook. I hope you can learn from my notebook and get a better score."
   ]
  },
  {
   "cell_type": "code",
   "execution_count": null,
   "id": "68156dd8",
   "metadata": {
    "papermill": {
     "duration": 0.010395,
     "end_time": "2024-09-04T17:06:05.093095",
     "exception": false,
     "start_time": "2024-09-04T17:06:05.082700",
     "status": "completed"
    },
    "tags": []
   },
   "outputs": [],
   "source": []
  }
 ],
 "metadata": {
  "kaggle": {
   "accelerator": "nvidiaTeslaT4",
   "dataSources": [
    {
     "databundleVersionId": 8561470,
     "sourceId": 71549,
     "sourceType": "competition"
    },
    {
     "sourceId": 195293329,
     "sourceType": "kernelVersion"
    }
   ],
   "dockerImageVersionId": 30733,
   "isGpuEnabled": true,
   "isInternetEnabled": false,
   "language": "python",
   "sourceType": "notebook"
  },
  "kernelspec": {
   "display_name": "Python 3",
   "language": "python",
   "name": "python3"
  },
  "language_info": {
   "codemirror_mode": {
    "name": "ipython",
    "version": 3
   },
   "file_extension": ".py",
   "mimetype": "text/x-python",
   "name": "python",
   "nbconvert_exporter": "python",
   "pygments_lexer": "ipython3",
   "version": "3.10.13"
  },
  "papermill": {
   "default_parameters": {},
   "duration": 22.418467,
   "end_time": "2024-09-04T17:06:07.765162",
   "environment_variables": {},
   "exception": null,
   "input_path": "__notebook__.ipynb",
   "output_path": "__notebook__.ipynb",
   "parameters": {},
   "start_time": "2024-09-04T17:05:45.346695",
   "version": "2.5.0"
  }
 },
 "nbformat": 4,
 "nbformat_minor": 5
}
