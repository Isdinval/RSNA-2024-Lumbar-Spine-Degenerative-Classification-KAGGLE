{
 "cells": [
  {
   "cell_type": "markdown",
   "id": "cd436157",
   "metadata": {
    "_cell_guid": "b1076dfc-b9ad-4769-8c92-a6c4dae69d19",
    "_uuid": "8f2839f25d086af736a60e9eeb907d3b93b6e0e5",
    "papermill": {
     "duration": 0.008607,
     "end_time": "2024-09-09T16:23:33.816884",
     "exception": false,
     "start_time": "2024-09-09T16:23:33.808277",
     "status": "completed"
    },
    "tags": []
   },
   "source": [
    "# RSNA2024 LSDC Submission Baseline\n",
    "\n",
    "This code outlines a process for classifying degenerative lumbar spine conditions using MRI images. It starts by importing necessary libraries for data handling, model training, and image processing, including PyTorch for deep learning and Albumentations for data augmentation.\n",
    "\n",
    "A configuration section sets parameters such as device type (CPU/GPU), image size, and model specifications (EfficientNet). The dataset is then defined using a custom RSNA24TestDataset class, which loads and processes DICOM images (MRI scans) into a standardized format suitable for model input.\n",
    "\n",
    "The code then defines a neural network model based on a pre-trained EfficientNet architecture and loads several pre-trained model weights for inference. An inference loop processes the test dataset, passing images through the ensemble of models and aggregating the predictions.\n",
    "\n",
    "Finally, the predictions are formatted into a submission file, which is saved for evaluation in the competition. The notebook concludes by acknowledging potential areas for improvement in the approach used.\n"
   ]
  },
  {
   "cell_type": "markdown",
   "id": "80176e27",
   "metadata": {
    "papermill": {
     "duration": 0.007931,
     "end_time": "2024-09-09T16:23:33.833354",
     "exception": false,
     "start_time": "2024-09-09T16:23:33.825423",
     "status": "completed"
    },
    "tags": []
   },
   "source": [
    "Training Baseline V18"
   ]
  },
  {
   "cell_type": "markdown",
   "id": "55620ad3",
   "metadata": {
    "papermill": {
     "duration": 0.008153,
     "end_time": "2024-09-09T16:23:33.849401",
     "exception": false,
     "start_time": "2024-09-09T16:23:33.841248",
     "status": "completed"
    },
    "tags": []
   },
   "source": [
    "# Import Libralies"
   ]
  },
  {
   "cell_type": "code",
   "execution_count": 1,
   "id": "70ebbc57",
   "metadata": {
    "execution": {
     "iopub.execute_input": "2024-09-09T16:23:33.867019Z",
     "iopub.status.busy": "2024-09-09T16:23:33.866680Z",
     "iopub.status.idle": "2024-09-09T16:23:44.302917Z",
     "shell.execute_reply": "2024-09-09T16:23:44.301932Z"
    },
    "papermill": {
     "duration": 10.447793,
     "end_time": "2024-09-09T16:23:44.305336",
     "exception": false,
     "start_time": "2024-09-09T16:23:33.857543",
     "status": "completed"
    },
    "tags": []
   },
   "outputs": [],
   "source": [
    "import os\n",
    "import gc\n",
    "import sys\n",
    "from PIL import Image\n",
    "import cv2\n",
    "import math, random\n",
    "import numpy as np\n",
    "import pandas as pd\n",
    "from glob import glob\n",
    "from tqdm import tqdm\n",
    "import matplotlib.pyplot as plt\n",
    "from sklearn.model_selection import KFold\n",
    "\n",
    "from collections import OrderedDict\n",
    "\n",
    "import torch\n",
    "import torch.nn.functional as F\n",
    "from torch import nn\n",
    "from torch.utils.data import DataLoader, Dataset\n",
    "from torch.optim import AdamW\n",
    "\n",
    "import timm\n",
    "from timm.utils import ModelEmaV2\n",
    "from transformers import get_cosine_schedule_with_warmup\n",
    "\n",
    "import albumentations as A\n",
    "\n",
    "from sklearn.model_selection import KFold\n",
    "\n",
    "import re\n",
    "import pydicom"
   ]
  },
  {
   "cell_type": "code",
   "execution_count": 2,
   "id": "096aad5b",
   "metadata": {
    "execution": {
     "iopub.execute_input": "2024-09-09T16:23:44.323455Z",
     "iopub.status.busy": "2024-09-09T16:23:44.322942Z",
     "iopub.status.idle": "2024-09-09T16:23:44.327295Z",
     "shell.execute_reply": "2024-09-09T16:23:44.326321Z"
    },
    "papermill": {
     "duration": 0.016205,
     "end_time": "2024-09-09T16:23:44.329803",
     "exception": false,
     "start_time": "2024-09-09T16:23:44.313598",
     "status": "completed"
    },
    "tags": []
   },
   "outputs": [],
   "source": [
    "rd = '/kaggle/input/rsna-2024-lumbar-spine-degenerative-classification'\n"
   ]
  },
  {
   "cell_type": "markdown",
   "id": "9ed03412",
   "metadata": {
    "papermill": {
     "duration": 0.007929,
     "end_time": "2024-09-09T16:23:44.345986",
     "exception": false,
     "start_time": "2024-09-09T16:23:44.338057",
     "status": "completed"
    },
    "tags": []
   },
   "source": [
    "# Config"
   ]
  },
  {
   "cell_type": "code",
   "execution_count": 3,
   "id": "8b9c13ba",
   "metadata": {
    "execution": {
     "iopub.execute_input": "2024-09-09T16:23:44.363821Z",
     "iopub.status.busy": "2024-09-09T16:23:44.363558Z",
     "iopub.status.idle": "2024-09-09T16:23:44.455873Z",
     "shell.execute_reply": "2024-09-09T16:23:44.454878Z"
    },
    "papermill": {
     "duration": 0.10415,
     "end_time": "2024-09-09T16:23:44.458051",
     "exception": false,
     "start_time": "2024-09-09T16:23:44.353901",
     "status": "completed"
    },
    "tags": []
   },
   "outputs": [],
   "source": [
    "device = 'cuda:0' if torch.cuda.is_available() else 'cpu'\n",
    "N_WORKERS = os.cpu_count()\n",
    "USE_AMP = False # True if we can use GPU. \n",
    "SEED = 42\n",
    "\n",
    "IMG_SIZE = [512, 512]\n",
    "IN_CHANS = 30\n",
    "N_LABELS = 25\n",
    "N_CLASSES = 3 * N_LABELS\n",
    "\n",
    "N_FOLDS = 2\n",
    "\n",
    "# MODEL_NAME = \"tf_efficientnet_b3.ns_jft_in1k\"\n",
    "# MODEL_NAME = \"tf_efficientnet_b5.ns_jft_in1k\"\n",
    "MODEL_NAME = \"resnet101.a1_in1k\"\n",
    "\n",
    "\n",
    "\n",
    "BATCH_SIZE = 1"
   ]
  },
  {
   "cell_type": "code",
   "execution_count": 4,
   "id": "26887026",
   "metadata": {
    "execution": {
     "iopub.execute_input": "2024-09-09T16:23:44.475621Z",
     "iopub.status.busy": "2024-09-09T16:23:44.475309Z",
     "iopub.status.idle": "2024-09-09T16:23:44.480027Z",
     "shell.execute_reply": "2024-09-09T16:23:44.479337Z"
    },
    "papermill": {
     "duration": 0.01549,
     "end_time": "2024-09-09T16:23:44.481851",
     "exception": false,
     "start_time": "2024-09-09T16:23:44.466361",
     "status": "completed"
    },
    "tags": []
   },
   "outputs": [],
   "source": [
    "rd = '/kaggle/input/rsna-2024-lumbar-spine-degenerative-classification'"
   ]
  },
  {
   "cell_type": "code",
   "execution_count": 5,
   "id": "cb702e7f",
   "metadata": {
    "execution": {
     "iopub.execute_input": "2024-09-09T16:23:44.500008Z",
     "iopub.status.busy": "2024-09-09T16:23:44.499367Z",
     "iopub.status.idle": "2024-09-09T16:23:44.506025Z",
     "shell.execute_reply": "2024-09-09T16:23:44.505228Z"
    },
    "papermill": {
     "duration": 0.017249,
     "end_time": "2024-09-09T16:23:44.507926",
     "exception": false,
     "start_time": "2024-09-09T16:23:44.490677",
     "status": "completed"
    },
    "tags": []
   },
   "outputs": [
    {
     "data": {
      "text/plain": [
       "device(type='cuda', index=0)"
      ]
     },
     "execution_count": 5,
     "metadata": {},
     "output_type": "execute_result"
    }
   ],
   "source": [
    "device = torch.device('cuda:0') if torch.cuda.is_available() else torch.device('cpu')\n",
    "device"
   ]
  },
  {
   "cell_type": "code",
   "execution_count": 6,
   "id": "30439eb2",
   "metadata": {
    "execution": {
     "iopub.execute_input": "2024-09-09T16:23:44.524918Z",
     "iopub.status.busy": "2024-09-09T16:23:44.524642Z",
     "iopub.status.idle": "2024-09-09T16:23:44.551195Z",
     "shell.execute_reply": "2024-09-09T16:23:44.550350Z"
    },
    "papermill": {
     "duration": 0.037133,
     "end_time": "2024-09-09T16:23:44.553088",
     "exception": false,
     "start_time": "2024-09-09T16:23:44.515955",
     "status": "completed"
    },
    "tags": []
   },
   "outputs": [
    {
     "data": {
      "text/html": [
       "<div>\n",
       "<style scoped>\n",
       "    .dataframe tbody tr th:only-of-type {\n",
       "        vertical-align: middle;\n",
       "    }\n",
       "\n",
       "    .dataframe tbody tr th {\n",
       "        vertical-align: top;\n",
       "    }\n",
       "\n",
       "    .dataframe thead th {\n",
       "        text-align: right;\n",
       "    }\n",
       "</style>\n",
       "<table border=\"1\" class=\"dataframe\">\n",
       "  <thead>\n",
       "    <tr style=\"text-align: right;\">\n",
       "      <th></th>\n",
       "      <th>study_id</th>\n",
       "      <th>series_id</th>\n",
       "      <th>series_description</th>\n",
       "    </tr>\n",
       "  </thead>\n",
       "  <tbody>\n",
       "    <tr>\n",
       "      <th>0</th>\n",
       "      <td>44036939</td>\n",
       "      <td>2828203845</td>\n",
       "      <td>Sagittal T1</td>\n",
       "    </tr>\n",
       "    <tr>\n",
       "      <th>1</th>\n",
       "      <td>44036939</td>\n",
       "      <td>3481971518</td>\n",
       "      <td>Axial T2</td>\n",
       "    </tr>\n",
       "    <tr>\n",
       "      <th>2</th>\n",
       "      <td>44036939</td>\n",
       "      <td>3844393089</td>\n",
       "      <td>Sagittal T2/STIR</td>\n",
       "    </tr>\n",
       "  </tbody>\n",
       "</table>\n",
       "</div>"
      ],
      "text/plain": [
       "   study_id   series_id series_description\n",
       "0  44036939  2828203845        Sagittal T1\n",
       "1  44036939  3481971518           Axial T2\n",
       "2  44036939  3844393089   Sagittal T2/STIR"
      ]
     },
     "execution_count": 6,
     "metadata": {},
     "output_type": "execute_result"
    }
   ],
   "source": [
    "df = pd.read_csv(f'{rd}/test_series_descriptions.csv')\n",
    "df.head()"
   ]
  },
  {
   "cell_type": "code",
   "execution_count": 7,
   "id": "172d4ec4",
   "metadata": {
    "execution": {
     "iopub.execute_input": "2024-09-09T16:23:44.571642Z",
     "iopub.status.busy": "2024-09-09T16:23:44.570779Z",
     "iopub.status.idle": "2024-09-09T16:23:44.577255Z",
     "shell.execute_reply": "2024-09-09T16:23:44.576576Z"
    },
    "papermill": {
     "duration": 0.017292,
     "end_time": "2024-09-09T16:23:44.579091",
     "exception": false,
     "start_time": "2024-09-09T16:23:44.561799",
     "status": "completed"
    },
    "tags": []
   },
   "outputs": [],
   "source": [
    "study_ids = list(df['study_id'].unique())"
   ]
  },
  {
   "cell_type": "code",
   "execution_count": 8,
   "id": "6a3fe99a",
   "metadata": {
    "execution": {
     "iopub.execute_input": "2024-09-09T16:23:44.596810Z",
     "iopub.status.busy": "2024-09-09T16:23:44.596549Z",
     "iopub.status.idle": "2024-09-09T16:23:44.605237Z",
     "shell.execute_reply": "2024-09-09T16:23:44.604526Z"
    },
    "papermill": {
     "duration": 0.0197,
     "end_time": "2024-09-09T16:23:44.607272",
     "exception": false,
     "start_time": "2024-09-09T16:23:44.587572",
     "status": "completed"
    },
    "tags": []
   },
   "outputs": [],
   "source": [
    "sample_sub = pd.read_csv(f'{rd}/sample_submission.csv')"
   ]
  },
  {
   "cell_type": "code",
   "execution_count": 9,
   "id": "9c8a4671",
   "metadata": {
    "execution": {
     "iopub.execute_input": "2024-09-09T16:23:44.625863Z",
     "iopub.status.busy": "2024-09-09T16:23:44.625388Z",
     "iopub.status.idle": "2024-09-09T16:23:44.630829Z",
     "shell.execute_reply": "2024-09-09T16:23:44.629974Z"
    },
    "papermill": {
     "duration": 0.016354,
     "end_time": "2024-09-09T16:23:44.632821",
     "exception": false,
     "start_time": "2024-09-09T16:23:44.616467",
     "status": "completed"
    },
    "tags": []
   },
   "outputs": [
    {
     "data": {
      "text/plain": [
       "['normal_mild', 'moderate', 'severe']"
      ]
     },
     "execution_count": 9,
     "metadata": {},
     "output_type": "execute_result"
    }
   ],
   "source": [
    "LABELS = list(sample_sub.columns[1:])\n",
    "LABELS"
   ]
  },
  {
   "cell_type": "code",
   "execution_count": 10,
   "id": "714ac8c9",
   "metadata": {
    "execution": {
     "iopub.execute_input": "2024-09-09T16:23:44.651514Z",
     "iopub.status.busy": "2024-09-09T16:23:44.651045Z",
     "iopub.status.idle": "2024-09-09T16:23:44.655356Z",
     "shell.execute_reply": "2024-09-09T16:23:44.654518Z"
    },
    "papermill": {
     "duration": 0.016038,
     "end_time": "2024-09-09T16:23:44.657386",
     "exception": false,
     "start_time": "2024-09-09T16:23:44.641348",
     "status": "completed"
    },
    "tags": []
   },
   "outputs": [],
   "source": [
    "CONDITIONS = [\n",
    "    'spinal_canal_stenosis', \n",
    "    'left_neural_foraminal_narrowing', \n",
    "    'right_neural_foraminal_narrowing',\n",
    "    'left_subarticular_stenosis',\n",
    "    'right_subarticular_stenosis'\n",
    "]\n",
    "\n",
    "LEVELS = [\n",
    "    'l1_l2',\n",
    "    'l2_l3',\n",
    "    'l3_l4',\n",
    "    'l4_l5',\n",
    "    'l5_s1',\n",
    "]"
   ]
  },
  {
   "cell_type": "code",
   "execution_count": 11,
   "id": "be8940d7",
   "metadata": {
    "execution": {
     "iopub.execute_input": "2024-09-09T16:23:44.675726Z",
     "iopub.status.busy": "2024-09-09T16:23:44.674975Z",
     "iopub.status.idle": "2024-09-09T16:23:44.679575Z",
     "shell.execute_reply": "2024-09-09T16:23:44.678835Z"
    },
    "papermill": {
     "duration": 0.015574,
     "end_time": "2024-09-09T16:23:44.681448",
     "exception": false,
     "start_time": "2024-09-09T16:23:44.665874",
     "status": "completed"
    },
    "tags": []
   },
   "outputs": [],
   "source": [
    "def atoi(text):\n",
    "    return int(text) if text.isdigit() else text\n",
    "\n",
    "def natural_keys(text):\n",
    "    return [ atoi(c) for c in re.split(r'(\\d+)', text) ]"
   ]
  },
  {
   "cell_type": "markdown",
   "id": "213c5bca",
   "metadata": {
    "papermill": {
     "duration": 0.008333,
     "end_time": "2024-09-09T16:23:44.698252",
     "exception": false,
     "start_time": "2024-09-09T16:23:44.689919",
     "status": "completed"
    },
    "tags": []
   },
   "source": [
    "# Define Dataset"
   ]
  },
  {
   "cell_type": "code",
   "execution_count": 12,
   "id": "937bd4b6",
   "metadata": {
    "execution": {
     "iopub.execute_input": "2024-09-09T16:23:44.716212Z",
     "iopub.status.busy": "2024-09-09T16:23:44.715955Z",
     "iopub.status.idle": "2024-09-09T16:23:44.735545Z",
     "shell.execute_reply": "2024-09-09T16:23:44.734882Z"
    },
    "papermill": {
     "duration": 0.030737,
     "end_time": "2024-09-09T16:23:44.737418",
     "exception": false,
     "start_time": "2024-09-09T16:23:44.706681",
     "status": "completed"
    },
    "tags": []
   },
   "outputs": [],
   "source": [
    "class RSNA24TestDataset(Dataset):\n",
    "    def __init__(self, df, study_ids, phase='test', transform=None):\n",
    "        self.df = df\n",
    "        self.study_ids = study_ids\n",
    "        self.transform = transform\n",
    "        self.phase = phase\n",
    "    \n",
    "    def __len__(self):\n",
    "        return len(self.study_ids)\n",
    "    \n",
    "    def get_img_paths(self, study_id, series_desc):\n",
    "        pdf = self.df[self.df['study_id']==study_id]\n",
    "        pdf_ = pdf[pdf['series_description']==series_desc]\n",
    "        allimgs = []\n",
    "        for i, row in pdf_.iterrows():\n",
    "            pimgs = glob.glob(f'{rd}/test_images/{study_id}/{row[\"series_id\"]}/*.dcm')\n",
    "            pimgs = sorted(pimgs, key=natural_keys)\n",
    "            allimgs.extend(pimgs)\n",
    "            \n",
    "        return allimgs\n",
    "    \n",
    "    def read_dcm_ret_arr(self, src_path):\n",
    "        dicom_data = pydicom.dcmread(src_path)\n",
    "        image = dicom_data.pixel_array\n",
    "        image = (image - image.min()) / (image.max() - image.min() + 1e-6) * 255\n",
    "        img = cv2.resize(image, (IMG_SIZE[0], IMG_SIZE[1]),interpolation=cv2.INTER_CUBIC)\n",
    "        assert img.shape==(IMG_SIZE[0], IMG_SIZE[1])\n",
    "        return img\n",
    "\n",
    "    def __getitem__(self, idx):\n",
    "        x = np.zeros((IMG_SIZE[0], IMG_SIZE[1], IN_CHANS), dtype=np.uint8)\n",
    "        st_id = self.study_ids[idx]        \n",
    "        \n",
    "        # Sagittal T1\n",
    "        allimgs_st1 = self.get_img_paths(st_id, 'Sagittal T1')\n",
    "        if len(allimgs_st1)==0:\n",
    "            print(st_id, ': Sagittal T1, has no images')\n",
    "        \n",
    "        else:\n",
    "            step = len(allimgs_st1) / 10.0\n",
    "            st = len(allimgs_st1)/2.0 - 4.0*step\n",
    "            end = len(allimgs_st1)+0.0001\n",
    "            for j, i in enumerate(np.arange(st, end, step)):\n",
    "                try:\n",
    "                    ind2 = max(0, int((i-0.5001).round()))\n",
    "                    img = self.read_dcm_ret_arr(allimgs_st1[ind2])\n",
    "                    x[..., j] = img.astype(np.uint8)\n",
    "                except:\n",
    "                    print(f'failed to load on {st_id}, Sagittal T1')\n",
    "                    pass\n",
    "            \n",
    "        # Sagittal T2/STIR\n",
    "        allimgs_st2 = self.get_img_paths(st_id, 'Sagittal T2/STIR')\n",
    "        if len(allimgs_st2)==0:\n",
    "            print(st_id, ': Sagittal T2/STIR, has no images')\n",
    "            \n",
    "        else:\n",
    "            step = len(allimgs_st2) / 10.0\n",
    "            st = len(allimgs_st2)/2.0 - 4.0*step\n",
    "            end = len(allimgs_st2)+0.0001\n",
    "            for j, i in enumerate(np.arange(st, end, step)):\n",
    "                try:\n",
    "                    ind2 = max(0, int((i-0.5001).round()))\n",
    "                    img = self.read_dcm_ret_arr(allimgs_st2[ind2])\n",
    "                    x[..., j+10] = img.astype(np.uint8)\n",
    "                except:\n",
    "                    print(f'failed to load on {st_id}, Sagittal T2/STIR')\n",
    "                    pass\n",
    "            \n",
    "        # Axial T2\n",
    "        allimgs_at2 = self.get_img_paths(st_id, 'Axial T2')\n",
    "        if len(allimgs_at2)==0:\n",
    "            print(st_id, ': Axial T2, has no images')\n",
    "            \n",
    "        else:\n",
    "            step = len(allimgs_at2) / 10.0\n",
    "            st = len(allimgs_at2)/2.0 - 4.0*step\n",
    "            end = len(allimgs_at2)+0.0001\n",
    "\n",
    "            for j, i in enumerate(np.arange(st, end, step)):\n",
    "                try:\n",
    "                    ind2 = max(0, int((i-0.5001).round()))\n",
    "                    img = self.read_dcm_ret_arr(allimgs_at2[ind2])\n",
    "                    x[..., j+20] = img.astype(np.uint8)\n",
    "                except:\n",
    "                    print(f'failed to load on {st_id}, Axial T2')\n",
    "                    pass  \n",
    "            \n",
    "            \n",
    "        if self.transform is not None:\n",
    "            x = self.transform(image=x)['image']\n",
    "\n",
    "        x = x.transpose(2, 0, 1)\n",
    "                \n",
    "        return x, str(st_id)"
   ]
  },
  {
   "cell_type": "code",
   "execution_count": 13,
   "id": "baad4267",
   "metadata": {
    "execution": {
     "iopub.execute_input": "2024-09-09T16:23:44.755789Z",
     "iopub.status.busy": "2024-09-09T16:23:44.755025Z",
     "iopub.status.idle": "2024-09-09T16:23:44.759336Z",
     "shell.execute_reply": "2024-09-09T16:23:44.758677Z"
    },
    "papermill": {
     "duration": 0.015214,
     "end_time": "2024-09-09T16:23:44.761252",
     "exception": false,
     "start_time": "2024-09-09T16:23:44.746038",
     "status": "completed"
    },
    "tags": []
   },
   "outputs": [],
   "source": [
    "transforms_test = A.Compose([\n",
    "    A.Resize(IMG_SIZE[0], IMG_SIZE[1]),\n",
    "    A.Normalize(mean=0.5, std=0.5)\n",
    "])"
   ]
  },
  {
   "cell_type": "code",
   "execution_count": 14,
   "id": "d01e02e5",
   "metadata": {
    "execution": {
     "iopub.execute_input": "2024-09-09T16:23:44.779111Z",
     "iopub.status.busy": "2024-09-09T16:23:44.778848Z",
     "iopub.status.idle": "2024-09-09T16:23:44.783448Z",
     "shell.execute_reply": "2024-09-09T16:23:44.782636Z"
    },
    "papermill": {
     "duration": 0.015801,
     "end_time": "2024-09-09T16:23:44.785453",
     "exception": false,
     "start_time": "2024-09-09T16:23:44.769652",
     "status": "completed"
    },
    "tags": []
   },
   "outputs": [],
   "source": [
    "test_ds = RSNA24TestDataset(df, study_ids, transform=transforms_test)\n",
    "test_dl = DataLoader(\n",
    "    test_ds, \n",
    "    batch_size=1, \n",
    "    shuffle=False,\n",
    "    num_workers=N_WORKERS,\n",
    "    pin_memory=True,\n",
    "    drop_last=False\n",
    ")"
   ]
  },
  {
   "cell_type": "markdown",
   "id": "b228eca9",
   "metadata": {
    "papermill": {
     "duration": 0.008428,
     "end_time": "2024-09-09T16:23:44.802238",
     "exception": false,
     "start_time": "2024-09-09T16:23:44.793810",
     "status": "completed"
    },
    "tags": []
   },
   "source": [
    "# Define Model"
   ]
  },
  {
   "cell_type": "code",
   "execution_count": 15,
   "id": "d41db3e5",
   "metadata": {
    "execution": {
     "iopub.execute_input": "2024-09-09T16:23:44.820231Z",
     "iopub.status.busy": "2024-09-09T16:23:44.819974Z",
     "iopub.status.idle": "2024-09-09T16:23:44.825818Z",
     "shell.execute_reply": "2024-09-09T16:23:44.824897Z"
    },
    "papermill": {
     "duration": 0.01723,
     "end_time": "2024-09-09T16:23:44.827929",
     "exception": false,
     "start_time": "2024-09-09T16:23:44.810699",
     "status": "completed"
    },
    "tags": []
   },
   "outputs": [],
   "source": [
    "class RSNA24Model(nn.Module):\n",
    "    def __init__(self, model_name, in_c=30, n_classes=75, pretrained=True, features_only=False):\n",
    "        super().__init__()\n",
    "        self.model = timm.create_model(\n",
    "                                    model_name,\n",
    "                                    pretrained=pretrained, \n",
    "                                    features_only=features_only,\n",
    "                                    in_chans=in_c,\n",
    "                                    num_classes=n_classes,\n",
    "                                    global_pool='avg'\n",
    "                                    )\n",
    "    \n",
    "    def forward(self, x):\n",
    "        y = self.model(x)\n",
    "        return y"
   ]
  },
  {
   "cell_type": "markdown",
   "id": "9ba75ae9",
   "metadata": {
    "papermill": {
     "duration": 0.008389,
     "end_time": "2024-09-09T16:23:44.844996",
     "exception": false,
     "start_time": "2024-09-09T16:23:44.836607",
     "status": "completed"
    },
    "tags": []
   },
   "source": [
    "# Load Models"
   ]
  },
  {
   "cell_type": "code",
   "execution_count": 16,
   "id": "99f0b976",
   "metadata": {
    "execution": {
     "iopub.execute_input": "2024-09-09T16:23:44.864283Z",
     "iopub.status.busy": "2024-09-09T16:23:44.863629Z",
     "iopub.status.idle": "2024-09-09T16:23:44.867941Z",
     "shell.execute_reply": "2024-09-09T16:23:44.867058Z"
    },
    "papermill": {
     "duration": 0.016424,
     "end_time": "2024-09-09T16:23:44.869860",
     "exception": false,
     "start_time": "2024-09-09T16:23:44.853436",
     "status": "completed"
    },
    "tags": []
   },
   "outputs": [],
   "source": [
    "models = []"
   ]
  },
  {
   "cell_type": "code",
   "execution_count": 17,
   "id": "a582e0dd",
   "metadata": {
    "execution": {
     "iopub.execute_input": "2024-09-09T16:23:44.888814Z",
     "iopub.status.busy": "2024-09-09T16:23:44.888175Z",
     "iopub.status.idle": "2024-09-09T16:23:44.897909Z",
     "shell.execute_reply": "2024-09-09T16:23:44.897234Z"
    },
    "papermill": {
     "duration": 0.021012,
     "end_time": "2024-09-09T16:23:44.899750",
     "exception": false,
     "start_time": "2024-09-09T16:23:44.878738",
     "status": "completed"
    },
    "tags": []
   },
   "outputs": [],
   "source": [
    "import glob\n",
    "# CKPT_PATHS = glob.glob('/kaggle/input/rsna-model/pytorch/default/1/rsna24-results/best_wll_model_fold-*.pt')\n",
    "# CKPT_PATHS = glob.glob('/kaggle/input/rsna2024-lsdc-training-baseline/rsna24-results/best_wll_model_fold-*.pt')\n",
    "CKPT_PATHS = glob.glob('/kaggle/input/rsna2024-lsdc-training-resnet-timm-resnet101-a1-in/rsna24-results/best_wll_model_fold-*.pt')\n",
    "CKPT_PATHS = sorted(CKPT_PATHS)"
   ]
  },
  {
   "cell_type": "code",
   "execution_count": 18,
   "id": "652737a4",
   "metadata": {
    "execution": {
     "iopub.execute_input": "2024-09-09T16:23:44.917593Z",
     "iopub.status.busy": "2024-09-09T16:23:44.917318Z",
     "iopub.status.idle": "2024-09-09T16:23:58.764055Z",
     "shell.execute_reply": "2024-09-09T16:23:58.763217Z"
    },
    "papermill": {
     "duration": 13.858408,
     "end_time": "2024-09-09T16:23:58.766510",
     "exception": false,
     "start_time": "2024-09-09T16:23:44.908102",
     "status": "completed"
    },
    "tags": []
   },
   "outputs": [
    {
     "name": "stdout",
     "output_type": "stream",
     "text": [
      "loading /kaggle/input/rsna2024-lsdc-training-resnet-timm-resnet101-a1-in/rsna24-results/best_wll_model_fold-0.pt...\n",
      "loading /kaggle/input/rsna2024-lsdc-training-resnet-timm-resnet101-a1-in/rsna24-results/best_wll_model_fold-1.pt...\n",
      "loading /kaggle/input/rsna2024-lsdc-training-resnet-timm-resnet101-a1-in/rsna24-results/best_wll_model_fold-2.pt...\n",
      "loading /kaggle/input/rsna2024-lsdc-training-resnet-timm-resnet101-a1-in/rsna24-results/best_wll_model_fold-3.pt...\n",
      "loading /kaggle/input/rsna2024-lsdc-training-resnet-timm-resnet101-a1-in/rsna24-results/best_wll_model_fold-4.pt...\n"
     ]
    }
   ],
   "source": [
    "for i, cp in enumerate(CKPT_PATHS):\n",
    "    print(f'loading {cp}...')\n",
    "    model = RSNA24Model(MODEL_NAME, IN_CHANS, N_CLASSES, pretrained=False)\n",
    "    if torch.device('cpu'):\n",
    "        state_dict = torch.load(cp, map_location=torch.device('cpu')) \n",
    "        model.load_state_dict(torch.load(cp, map_location=torch.device('cpu')), strict=False)\n",
    "    else:\n",
    "        state_dict = torch.load(cp)\n",
    "        model.load_state_dict(torch.load(cp), strict=False)\n",
    "    \n",
    "\n",
    "    model.eval()\n",
    "    model.half()\n",
    "    model.to(device)\n",
    "    models.append(model)"
   ]
  },
  {
   "cell_type": "markdown",
   "id": "f636adf2",
   "metadata": {
    "papermill": {
     "duration": 0.0088,
     "end_time": "2024-09-09T16:23:58.784727",
     "exception": false,
     "start_time": "2024-09-09T16:23:58.775927",
     "status": "completed"
    },
    "tags": []
   },
   "source": [
    "# Inference loop"
   ]
  },
  {
   "cell_type": "code",
   "execution_count": 19,
   "id": "6e0ba279",
   "metadata": {
    "execution": {
     "iopub.execute_input": "2024-09-09T16:23:58.804027Z",
     "iopub.status.busy": "2024-09-09T16:23:58.803697Z",
     "iopub.status.idle": "2024-09-09T16:24:01.435763Z",
     "shell.execute_reply": "2024-09-09T16:24:01.434419Z"
    },
    "papermill": {
     "duration": 2.644325,
     "end_time": "2024-09-09T16:24:01.437886",
     "exception": false,
     "start_time": "2024-09-09T16:23:58.793561",
     "status": "completed"
    },
    "tags": []
   },
   "outputs": [
    {
     "name": "stderr",
     "output_type": "stream",
     "text": [
      "100%|██████████| 1/1 [00:02<00:00,  2.52s/it]\n"
     ]
    }
   ],
   "source": [
    "if torch.device('cpu'):\n",
    "    # Ensure the model is in full precision\n",
    "    for m in models:\n",
    "        m = m.float()\n",
    "\n",
    "\n",
    "autocast = torch.cuda.amp.autocast(enabled=USE_AMP, dtype=torch.half)\n",
    "y_preds = []\n",
    "row_names = []\n",
    "\n",
    "with tqdm(test_dl, leave=True) as pbar:\n",
    "    with torch.no_grad():\n",
    "        for idx, (x, si) in enumerate(pbar):\n",
    "            x = x.to(device)\n",
    "            pred_per_study = np.zeros((25, 3))\n",
    "            \n",
    "            for cond in CONDITIONS:\n",
    "                for level in LEVELS:\n",
    "                    row_names.append(si[0] + '_' + cond + '_' + level)\n",
    "            \n",
    "            with autocast:\n",
    "                for m in models:\n",
    "                    y = m(x)[0]\n",
    "                    for col in range(N_LABELS):\n",
    "                        pred = y[col*3:col*3+3]\n",
    "                        y_pred = pred.float().softmax(0).cpu().numpy()\n",
    "                        pred_per_study[col] += y_pred / len(models)\n",
    "                y_preds.append(pred_per_study)\n",
    "\n",
    "y_preds = np.concatenate(y_preds, axis=0)"
   ]
  },
  {
   "cell_type": "markdown",
   "id": "15ef68a5",
   "metadata": {
    "papermill": {
     "duration": 0.009315,
     "end_time": "2024-09-09T16:24:01.456667",
     "exception": false,
     "start_time": "2024-09-09T16:24:01.447352",
     "status": "completed"
    },
    "tags": []
   },
   "source": [
    "# Make Submission"
   ]
  },
  {
   "cell_type": "code",
   "execution_count": 20,
   "id": "e463563d",
   "metadata": {
    "execution": {
     "iopub.execute_input": "2024-09-09T16:24:01.476337Z",
     "iopub.status.busy": "2024-09-09T16:24:01.475968Z",
     "iopub.status.idle": "2024-09-09T16:24:01.501344Z",
     "shell.execute_reply": "2024-09-09T16:24:01.500540Z"
    },
    "papermill": {
     "duration": 0.03772,
     "end_time": "2024-09-09T16:24:01.503380",
     "exception": false,
     "start_time": "2024-09-09T16:24:01.465660",
     "status": "completed"
    },
    "tags": []
   },
   "outputs": [
    {
     "data": {
      "text/html": [
       "<div>\n",
       "<style scoped>\n",
       "    .dataframe tbody tr th:only-of-type {\n",
       "        vertical-align: middle;\n",
       "    }\n",
       "\n",
       "    .dataframe tbody tr th {\n",
       "        vertical-align: top;\n",
       "    }\n",
       "\n",
       "    .dataframe thead th {\n",
       "        text-align: right;\n",
       "    }\n",
       "</style>\n",
       "<table border=\"1\" class=\"dataframe\">\n",
       "  <thead>\n",
       "    <tr style=\"text-align: right;\">\n",
       "      <th></th>\n",
       "      <th>row_id</th>\n",
       "      <th>normal_mild</th>\n",
       "      <th>moderate</th>\n",
       "      <th>severe</th>\n",
       "    </tr>\n",
       "  </thead>\n",
       "  <tbody>\n",
       "    <tr>\n",
       "      <th>0</th>\n",
       "      <td>44036939_spinal_canal_stenosis_l1_l2</td>\n",
       "      <td>0.648743</td>\n",
       "      <td>0.213311</td>\n",
       "      <td>0.137946</td>\n",
       "    </tr>\n",
       "    <tr>\n",
       "      <th>1</th>\n",
       "      <td>44036939_spinal_canal_stenosis_l2_l3</td>\n",
       "      <td>0.416110</td>\n",
       "      <td>0.340638</td>\n",
       "      <td>0.243252</td>\n",
       "    </tr>\n",
       "    <tr>\n",
       "      <th>2</th>\n",
       "      <td>44036939_spinal_canal_stenosis_l3_l4</td>\n",
       "      <td>0.291394</td>\n",
       "      <td>0.328492</td>\n",
       "      <td>0.380114</td>\n",
       "    </tr>\n",
       "    <tr>\n",
       "      <th>3</th>\n",
       "      <td>44036939_spinal_canal_stenosis_l4_l5</td>\n",
       "      <td>0.227858</td>\n",
       "      <td>0.208958</td>\n",
       "      <td>0.563184</td>\n",
       "    </tr>\n",
       "    <tr>\n",
       "      <th>4</th>\n",
       "      <td>44036939_spinal_canal_stenosis_l5_s1</td>\n",
       "      <td>0.755028</td>\n",
       "      <td>0.132331</td>\n",
       "      <td>0.112641</td>\n",
       "    </tr>\n",
       "    <tr>\n",
       "      <th>5</th>\n",
       "      <td>44036939_left_neural_foraminal_narrowing_l1_l2</td>\n",
       "      <td>0.735311</td>\n",
       "      <td>0.212748</td>\n",
       "      <td>0.051941</td>\n",
       "    </tr>\n",
       "    <tr>\n",
       "      <th>6</th>\n",
       "      <td>44036939_left_neural_foraminal_narrowing_l2_l3</td>\n",
       "      <td>0.565994</td>\n",
       "      <td>0.341895</td>\n",
       "      <td>0.092110</td>\n",
       "    </tr>\n",
       "    <tr>\n",
       "      <th>7</th>\n",
       "      <td>44036939_left_neural_foraminal_narrowing_l3_l4</td>\n",
       "      <td>0.348439</td>\n",
       "      <td>0.485174</td>\n",
       "      <td>0.166387</td>\n",
       "    </tr>\n",
       "    <tr>\n",
       "      <th>8</th>\n",
       "      <td>44036939_left_neural_foraminal_narrowing_l4_l5</td>\n",
       "      <td>0.218618</td>\n",
       "      <td>0.451983</td>\n",
       "      <td>0.329400</td>\n",
       "    </tr>\n",
       "    <tr>\n",
       "      <th>9</th>\n",
       "      <td>44036939_left_neural_foraminal_narrowing_l5_s1</td>\n",
       "      <td>0.263036</td>\n",
       "      <td>0.356774</td>\n",
       "      <td>0.380190</td>\n",
       "    </tr>\n",
       "    <tr>\n",
       "      <th>10</th>\n",
       "      <td>44036939_right_neural_foraminal_narrowing_l1_l2</td>\n",
       "      <td>0.680812</td>\n",
       "      <td>0.198945</td>\n",
       "      <td>0.120243</td>\n",
       "    </tr>\n",
       "    <tr>\n",
       "      <th>11</th>\n",
       "      <td>44036939_right_neural_foraminal_narrowing_l2_l3</td>\n",
       "      <td>0.579564</td>\n",
       "      <td>0.351515</td>\n",
       "      <td>0.068921</td>\n",
       "    </tr>\n",
       "    <tr>\n",
       "      <th>12</th>\n",
       "      <td>44036939_right_neural_foraminal_narrowing_l3_l4</td>\n",
       "      <td>0.329709</td>\n",
       "      <td>0.510674</td>\n",
       "      <td>0.159617</td>\n",
       "    </tr>\n",
       "    <tr>\n",
       "      <th>13</th>\n",
       "      <td>44036939_right_neural_foraminal_narrowing_l4_l5</td>\n",
       "      <td>0.211156</td>\n",
       "      <td>0.485697</td>\n",
       "      <td>0.303147</td>\n",
       "    </tr>\n",
       "    <tr>\n",
       "      <th>14</th>\n",
       "      <td>44036939_right_neural_foraminal_narrowing_l5_s1</td>\n",
       "      <td>0.286123</td>\n",
       "      <td>0.337739</td>\n",
       "      <td>0.376138</td>\n",
       "    </tr>\n",
       "    <tr>\n",
       "      <th>15</th>\n",
       "      <td>44036939_left_subarticular_stenosis_l1_l2</td>\n",
       "      <td>0.560021</td>\n",
       "      <td>0.263533</td>\n",
       "      <td>0.176445</td>\n",
       "    </tr>\n",
       "    <tr>\n",
       "      <th>16</th>\n",
       "      <td>44036939_left_subarticular_stenosis_l2_l3</td>\n",
       "      <td>0.322268</td>\n",
       "      <td>0.359241</td>\n",
       "      <td>0.318491</td>\n",
       "    </tr>\n",
       "    <tr>\n",
       "      <th>17</th>\n",
       "      <td>44036939_left_subarticular_stenosis_l3_l4</td>\n",
       "      <td>0.165876</td>\n",
       "      <td>0.372826</td>\n",
       "      <td>0.461297</td>\n",
       "    </tr>\n",
       "    <tr>\n",
       "      <th>18</th>\n",
       "      <td>44036939_left_subarticular_stenosis_l4_l5</td>\n",
       "      <td>0.082098</td>\n",
       "      <td>0.279705</td>\n",
       "      <td>0.638198</td>\n",
       "    </tr>\n",
       "    <tr>\n",
       "      <th>19</th>\n",
       "      <td>44036939_left_subarticular_stenosis_l5_s1</td>\n",
       "      <td>0.341132</td>\n",
       "      <td>0.319425</td>\n",
       "      <td>0.339444</td>\n",
       "    </tr>\n",
       "    <tr>\n",
       "      <th>20</th>\n",
       "      <td>44036939_right_subarticular_stenosis_l1_l2</td>\n",
       "      <td>0.554434</td>\n",
       "      <td>0.292031</td>\n",
       "      <td>0.153536</td>\n",
       "    </tr>\n",
       "    <tr>\n",
       "      <th>21</th>\n",
       "      <td>44036939_right_subarticular_stenosis_l2_l3</td>\n",
       "      <td>0.334797</td>\n",
       "      <td>0.353831</td>\n",
       "      <td>0.311372</td>\n",
       "    </tr>\n",
       "    <tr>\n",
       "      <th>22</th>\n",
       "      <td>44036939_right_subarticular_stenosis_l3_l4</td>\n",
       "      <td>0.164888</td>\n",
       "      <td>0.354352</td>\n",
       "      <td>0.480760</td>\n",
       "    </tr>\n",
       "    <tr>\n",
       "      <th>23</th>\n",
       "      <td>44036939_right_subarticular_stenosis_l4_l5</td>\n",
       "      <td>0.085351</td>\n",
       "      <td>0.260539</td>\n",
       "      <td>0.654111</td>\n",
       "    </tr>\n",
       "    <tr>\n",
       "      <th>24</th>\n",
       "      <td>44036939_right_subarticular_stenosis_l5_s1</td>\n",
       "      <td>0.338214</td>\n",
       "      <td>0.322536</td>\n",
       "      <td>0.339251</td>\n",
       "    </tr>\n",
       "  </tbody>\n",
       "</table>\n",
       "</div>"
      ],
      "text/plain": [
       "                                             row_id  normal_mild  moderate  \\\n",
       "0              44036939_spinal_canal_stenosis_l1_l2     0.648743  0.213311   \n",
       "1              44036939_spinal_canal_stenosis_l2_l3     0.416110  0.340638   \n",
       "2              44036939_spinal_canal_stenosis_l3_l4     0.291394  0.328492   \n",
       "3              44036939_spinal_canal_stenosis_l4_l5     0.227858  0.208958   \n",
       "4              44036939_spinal_canal_stenosis_l5_s1     0.755028  0.132331   \n",
       "5    44036939_left_neural_foraminal_narrowing_l1_l2     0.735311  0.212748   \n",
       "6    44036939_left_neural_foraminal_narrowing_l2_l3     0.565994  0.341895   \n",
       "7    44036939_left_neural_foraminal_narrowing_l3_l4     0.348439  0.485174   \n",
       "8    44036939_left_neural_foraminal_narrowing_l4_l5     0.218618  0.451983   \n",
       "9    44036939_left_neural_foraminal_narrowing_l5_s1     0.263036  0.356774   \n",
       "10  44036939_right_neural_foraminal_narrowing_l1_l2     0.680812  0.198945   \n",
       "11  44036939_right_neural_foraminal_narrowing_l2_l3     0.579564  0.351515   \n",
       "12  44036939_right_neural_foraminal_narrowing_l3_l4     0.329709  0.510674   \n",
       "13  44036939_right_neural_foraminal_narrowing_l4_l5     0.211156  0.485697   \n",
       "14  44036939_right_neural_foraminal_narrowing_l5_s1     0.286123  0.337739   \n",
       "15        44036939_left_subarticular_stenosis_l1_l2     0.560021  0.263533   \n",
       "16        44036939_left_subarticular_stenosis_l2_l3     0.322268  0.359241   \n",
       "17        44036939_left_subarticular_stenosis_l3_l4     0.165876  0.372826   \n",
       "18        44036939_left_subarticular_stenosis_l4_l5     0.082098  0.279705   \n",
       "19        44036939_left_subarticular_stenosis_l5_s1     0.341132  0.319425   \n",
       "20       44036939_right_subarticular_stenosis_l1_l2     0.554434  0.292031   \n",
       "21       44036939_right_subarticular_stenosis_l2_l3     0.334797  0.353831   \n",
       "22       44036939_right_subarticular_stenosis_l3_l4     0.164888  0.354352   \n",
       "23       44036939_right_subarticular_stenosis_l4_l5     0.085351  0.260539   \n",
       "24       44036939_right_subarticular_stenosis_l5_s1     0.338214  0.322536   \n",
       "\n",
       "      severe  \n",
       "0   0.137946  \n",
       "1   0.243252  \n",
       "2   0.380114  \n",
       "3   0.563184  \n",
       "4   0.112641  \n",
       "5   0.051941  \n",
       "6   0.092110  \n",
       "7   0.166387  \n",
       "8   0.329400  \n",
       "9   0.380190  \n",
       "10  0.120243  \n",
       "11  0.068921  \n",
       "12  0.159617  \n",
       "13  0.303147  \n",
       "14  0.376138  \n",
       "15  0.176445  \n",
       "16  0.318491  \n",
       "17  0.461297  \n",
       "18  0.638198  \n",
       "19  0.339444  \n",
       "20  0.153536  \n",
       "21  0.311372  \n",
       "22  0.480760  \n",
       "23  0.654111  \n",
       "24  0.339251  "
      ]
     },
     "execution_count": 20,
     "metadata": {},
     "output_type": "execute_result"
    }
   ],
   "source": [
    "sub = pd.DataFrame()\n",
    "sub['row_id'] = row_names\n",
    "sub[LABELS] = y_preds\n",
    "sub.head(25)"
   ]
  },
  {
   "cell_type": "code",
   "execution_count": 21,
   "id": "fe9cc19b",
   "metadata": {
    "execution": {
     "iopub.execute_input": "2024-09-09T16:24:01.523829Z",
     "iopub.status.busy": "2024-09-09T16:24:01.523560Z",
     "iopub.status.idle": "2024-09-09T16:24:01.540046Z",
     "shell.execute_reply": "2024-09-09T16:24:01.539115Z"
    },
    "papermill": {
     "duration": 0.028853,
     "end_time": "2024-09-09T16:24:01.542010",
     "exception": false,
     "start_time": "2024-09-09T16:24:01.513157",
     "status": "completed"
    },
    "tags": []
   },
   "outputs": [
    {
     "data": {
      "text/html": [
       "<div>\n",
       "<style scoped>\n",
       "    .dataframe tbody tr th:only-of-type {\n",
       "        vertical-align: middle;\n",
       "    }\n",
       "\n",
       "    .dataframe tbody tr th {\n",
       "        vertical-align: top;\n",
       "    }\n",
       "\n",
       "    .dataframe thead th {\n",
       "        text-align: right;\n",
       "    }\n",
       "</style>\n",
       "<table border=\"1\" class=\"dataframe\">\n",
       "  <thead>\n",
       "    <tr style=\"text-align: right;\">\n",
       "      <th></th>\n",
       "      <th>row_id</th>\n",
       "      <th>normal_mild</th>\n",
       "      <th>moderate</th>\n",
       "      <th>severe</th>\n",
       "    </tr>\n",
       "  </thead>\n",
       "  <tbody>\n",
       "    <tr>\n",
       "      <th>0</th>\n",
       "      <td>44036939_spinal_canal_stenosis_l1_l2</td>\n",
       "      <td>0.648743</td>\n",
       "      <td>0.213311</td>\n",
       "      <td>0.137946</td>\n",
       "    </tr>\n",
       "    <tr>\n",
       "      <th>1</th>\n",
       "      <td>44036939_spinal_canal_stenosis_l2_l3</td>\n",
       "      <td>0.416110</td>\n",
       "      <td>0.340638</td>\n",
       "      <td>0.243252</td>\n",
       "    </tr>\n",
       "    <tr>\n",
       "      <th>2</th>\n",
       "      <td>44036939_spinal_canal_stenosis_l3_l4</td>\n",
       "      <td>0.291394</td>\n",
       "      <td>0.328492</td>\n",
       "      <td>0.380114</td>\n",
       "    </tr>\n",
       "    <tr>\n",
       "      <th>3</th>\n",
       "      <td>44036939_spinal_canal_stenosis_l4_l5</td>\n",
       "      <td>0.227858</td>\n",
       "      <td>0.208958</td>\n",
       "      <td>0.563184</td>\n",
       "    </tr>\n",
       "    <tr>\n",
       "      <th>4</th>\n",
       "      <td>44036939_spinal_canal_stenosis_l5_s1</td>\n",
       "      <td>0.755028</td>\n",
       "      <td>0.132331</td>\n",
       "      <td>0.112641</td>\n",
       "    </tr>\n",
       "  </tbody>\n",
       "</table>\n",
       "</div>"
      ],
      "text/plain": [
       "                                 row_id  normal_mild  moderate    severe\n",
       "0  44036939_spinal_canal_stenosis_l1_l2     0.648743  0.213311  0.137946\n",
       "1  44036939_spinal_canal_stenosis_l2_l3     0.416110  0.340638  0.243252\n",
       "2  44036939_spinal_canal_stenosis_l3_l4     0.291394  0.328492  0.380114\n",
       "3  44036939_spinal_canal_stenosis_l4_l5     0.227858  0.208958  0.563184\n",
       "4  44036939_spinal_canal_stenosis_l5_s1     0.755028  0.132331  0.112641"
      ]
     },
     "execution_count": 21,
     "metadata": {},
     "output_type": "execute_result"
    }
   ],
   "source": [
    "sub.to_csv('submission.csv', index=False)\n",
    "pd.read_csv('submission.csv').head()"
   ]
  },
  {
   "cell_type": "markdown",
   "id": "220fc1ac",
   "metadata": {
    "papermill": {
     "duration": 0.01048,
     "end_time": "2024-09-09T16:24:01.563567",
     "exception": false,
     "start_time": "2024-09-09T16:24:01.553087",
     "status": "completed"
    },
    "tags": []
   },
   "source": [
    "# Conclusion\n",
    "We created the dataset, performed training, and inference in this notebook. \n",
    "\n",
    "This competition is a bit complicated to handle the dataset, so there may be a better way.\n",
    "\n",
    "I think there are many other areas to improve in my notebook. I hope you can learn from my notebook and get a better score."
   ]
  },
  {
   "cell_type": "code",
   "execution_count": null,
   "id": "5a9b99f4",
   "metadata": {
    "papermill": {
     "duration": 0.00955,
     "end_time": "2024-09-09T16:24:01.583134",
     "exception": false,
     "start_time": "2024-09-09T16:24:01.573584",
     "status": "completed"
    },
    "tags": []
   },
   "outputs": [],
   "source": []
  }
 ],
 "metadata": {
  "kaggle": {
   "accelerator": "nvidiaTeslaT4",
   "dataSources": [
    {
     "databundleVersionId": 8561470,
     "sourceId": 71549,
     "sourceType": "competition"
    },
    {
     "sourceId": 195893611,
     "sourceType": "kernelVersion"
    }
   ],
   "dockerImageVersionId": 30733,
   "isGpuEnabled": true,
   "isInternetEnabled": false,
   "language": "python",
   "sourceType": "notebook"
  },
  "kernelspec": {
   "display_name": "Python 3",
   "language": "python",
   "name": "python3"
  },
  "language_info": {
   "codemirror_mode": {
    "name": "ipython",
    "version": 3
   },
   "file_extension": ".py",
   "mimetype": "text/x-python",
   "name": "python",
   "nbconvert_exporter": "python",
   "pygments_lexer": "ipython3",
   "version": "3.10.13"
  },
  "papermill": {
   "default_parameters": {},
   "duration": 33.404088,
   "end_time": "2024-09-09T16:24:04.084929",
   "environment_variables": {},
   "exception": null,
   "input_path": "__notebook__.ipynb",
   "output_path": "__notebook__.ipynb",
   "parameters": {},
   "start_time": "2024-09-09T16:23:30.680841",
   "version": "2.5.0"
  }
 },
 "nbformat": 4,
 "nbformat_minor": 5
}
