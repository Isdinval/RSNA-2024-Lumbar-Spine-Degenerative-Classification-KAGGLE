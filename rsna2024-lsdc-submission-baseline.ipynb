{
 "cells": [
  {
   "cell_type": "markdown",
   "id": "b14e1275",
   "metadata": {
    "_cell_guid": "b1076dfc-b9ad-4769-8c92-a6c4dae69d19",
    "_uuid": "8f2839f25d086af736a60e9eeb907d3b93b6e0e5",
    "papermill": {
     "duration": 0.010901,
     "end_time": "2024-09-06T07:46:38.164269",
     "exception": false,
     "start_time": "2024-09-06T07:46:38.153368",
     "status": "completed"
    },
    "tags": []
   },
   "source": [
    "# RSNA2024 LSDC Submission Baseline\n",
    "\n",
    "This code outlines a process for classifying degenerative lumbar spine conditions using MRI images. It starts by importing necessary libraries for data handling, model training, and image processing, including PyTorch for deep learning and Albumentations for data augmentation.\n",
    "\n",
    "A configuration section sets parameters such as device type (CPU/GPU), image size, and model specifications (EfficientNet). The dataset is then defined using a custom RSNA24TestDataset class, which loads and processes DICOM images (MRI scans) into a standardized format suitable for model input.\n",
    "\n",
    "The code then defines a neural network model based on a pre-trained EfficientNet architecture and loads several pre-trained model weights for inference. An inference loop processes the test dataset, passing images through the ensemble of models and aggregating the predictions.\n",
    "\n",
    "Finally, the predictions are formatted into a submission file, which is saved for evaluation in the competition. The notebook concludes by acknowledging potential areas for improvement in the approach used.\n"
   ]
  },
  {
   "cell_type": "markdown",
   "id": "182f2c6a",
   "metadata": {
    "papermill": {
     "duration": 0.010057,
     "end_time": "2024-09-06T07:46:38.184742",
     "exception": false,
     "start_time": "2024-09-06T07:46:38.174685",
     "status": "completed"
    },
    "tags": []
   },
   "source": [
    "Training Baseline V18"
   ]
  },
  {
   "cell_type": "markdown",
   "id": "7934d604",
   "metadata": {
    "papermill": {
     "duration": 0.009793,
     "end_time": "2024-09-06T07:46:38.204790",
     "exception": false,
     "start_time": "2024-09-06T07:46:38.194997",
     "status": "completed"
    },
    "tags": []
   },
   "source": [
    "# Import Libralies"
   ]
  },
  {
   "cell_type": "code",
   "execution_count": 1,
   "id": "d8e66f93",
   "metadata": {
    "execution": {
     "iopub.execute_input": "2024-09-06T07:46:38.227423Z",
     "iopub.status.busy": "2024-09-06T07:46:38.226574Z",
     "iopub.status.idle": "2024-09-06T07:46:50.281140Z",
     "shell.execute_reply": "2024-09-06T07:46:50.279681Z"
    },
    "papermill": {
     "duration": 12.069246,
     "end_time": "2024-09-06T07:46:50.284227",
     "exception": false,
     "start_time": "2024-09-06T07:46:38.214981",
     "status": "completed"
    },
    "tags": []
   },
   "outputs": [],
   "source": [
    "import os\n",
    "import gc\n",
    "import sys\n",
    "from PIL import Image\n",
    "import cv2\n",
    "import math, random\n",
    "import numpy as np\n",
    "import pandas as pd\n",
    "from glob import glob\n",
    "from tqdm import tqdm\n",
    "import matplotlib.pyplot as plt\n",
    "from sklearn.model_selection import KFold\n",
    "\n",
    "from collections import OrderedDict\n",
    "\n",
    "import torch\n",
    "import torch.nn.functional as F\n",
    "from torch import nn\n",
    "from torch.utils.data import DataLoader, Dataset\n",
    "from torch.optim import AdamW\n",
    "\n",
    "import timm\n",
    "from timm.utils import ModelEmaV2\n",
    "from transformers import get_cosine_schedule_with_warmup\n",
    "\n",
    "import albumentations as A\n",
    "\n",
    "from sklearn.model_selection import KFold\n",
    "\n",
    "import re\n",
    "import pydicom"
   ]
  },
  {
   "cell_type": "code",
   "execution_count": 2,
   "id": "2937188a",
   "metadata": {
    "execution": {
     "iopub.execute_input": "2024-09-06T07:46:50.306666Z",
     "iopub.status.busy": "2024-09-06T07:46:50.305901Z",
     "iopub.status.idle": "2024-09-06T07:46:50.312690Z",
     "shell.execute_reply": "2024-09-06T07:46:50.311097Z"
    },
    "papermill": {
     "duration": 0.020945,
     "end_time": "2024-09-06T07:46:50.315237",
     "exception": false,
     "start_time": "2024-09-06T07:46:50.294292",
     "status": "completed"
    },
    "tags": []
   },
   "outputs": [],
   "source": [
    "rd = '/kaggle/input/rsna-2024-lumbar-spine-degenerative-classification'\n"
   ]
  },
  {
   "cell_type": "markdown",
   "id": "5a77d111",
   "metadata": {
    "papermill": {
     "duration": 0.009797,
     "end_time": "2024-09-06T07:46:50.335195",
     "exception": false,
     "start_time": "2024-09-06T07:46:50.325398",
     "status": "completed"
    },
    "tags": []
   },
   "source": [
    "# Config"
   ]
  },
  {
   "cell_type": "code",
   "execution_count": 3,
   "id": "e8d3247d",
   "metadata": {
    "execution": {
     "iopub.execute_input": "2024-09-06T07:46:50.357623Z",
     "iopub.status.busy": "2024-09-06T07:46:50.356674Z",
     "iopub.status.idle": "2024-09-06T07:46:50.364682Z",
     "shell.execute_reply": "2024-09-06T07:46:50.363298Z"
    },
    "papermill": {
     "duration": 0.022597,
     "end_time": "2024-09-06T07:46:50.367568",
     "exception": false,
     "start_time": "2024-09-06T07:46:50.344971",
     "status": "completed"
    },
    "tags": []
   },
   "outputs": [],
   "source": [
    "device = 'cuda:0' if torch.cuda.is_available() else 'cpu'\n",
    "N_WORKERS = os.cpu_count()\n",
    "USE_AMP = False # True if we can use GPU. \n",
    "SEED = 42\n",
    "\n",
    "IMG_SIZE = [512, 512]\n",
    "IN_CHANS = 30\n",
    "N_LABELS = 25\n",
    "N_CLASSES = 3 * N_LABELS\n",
    "\n",
    "N_FOLDS = 2\n",
    "\n",
    "# MODEL_NAME = \"tf_efficientnet_b3.ns_jft_in1k\"\n",
    "MODEL_NAME = \"tf_efficientnet_b5.ns_jft_in1k\"\n",
    "\n",
    "\n",
    "\n",
    "BATCH_SIZE = 1"
   ]
  },
  {
   "cell_type": "code",
   "execution_count": 4,
   "id": "6573022c",
   "metadata": {
    "execution": {
     "iopub.execute_input": "2024-09-06T07:46:50.390173Z",
     "iopub.status.busy": "2024-09-06T07:46:50.389750Z",
     "iopub.status.idle": "2024-09-06T07:46:50.395307Z",
     "shell.execute_reply": "2024-09-06T07:46:50.394083Z"
    },
    "papermill": {
     "duration": 0.020411,
     "end_time": "2024-09-06T07:46:50.398589",
     "exception": false,
     "start_time": "2024-09-06T07:46:50.378178",
     "status": "completed"
    },
    "tags": []
   },
   "outputs": [],
   "source": [
    "rd = '/kaggle/input/rsna-2024-lumbar-spine-degenerative-classification'"
   ]
  },
  {
   "cell_type": "code",
   "execution_count": 5,
   "id": "49a2e33a",
   "metadata": {
    "execution": {
     "iopub.execute_input": "2024-09-06T07:46:50.421995Z",
     "iopub.status.busy": "2024-09-06T07:46:50.421402Z",
     "iopub.status.idle": "2024-09-06T07:46:50.431624Z",
     "shell.execute_reply": "2024-09-06T07:46:50.430130Z"
    },
    "papermill": {
     "duration": 0.025366,
     "end_time": "2024-09-06T07:46:50.434397",
     "exception": false,
     "start_time": "2024-09-06T07:46:50.409031",
     "status": "completed"
    },
    "tags": []
   },
   "outputs": [
    {
     "data": {
      "text/plain": [
       "device(type='cpu')"
      ]
     },
     "execution_count": 5,
     "metadata": {},
     "output_type": "execute_result"
    }
   ],
   "source": [
    "device = torch.device('cuda:0') if torch.cuda.is_available() else torch.device('cpu')\n",
    "device"
   ]
  },
  {
   "cell_type": "code",
   "execution_count": 6,
   "id": "a9e485d2",
   "metadata": {
    "execution": {
     "iopub.execute_input": "2024-09-06T07:46:50.458928Z",
     "iopub.status.busy": "2024-09-06T07:46:50.458429Z",
     "iopub.status.idle": "2024-09-06T07:46:50.493125Z",
     "shell.execute_reply": "2024-09-06T07:46:50.491652Z"
    },
    "papermill": {
     "duration": 0.049985,
     "end_time": "2024-09-06T07:46:50.495767",
     "exception": false,
     "start_time": "2024-09-06T07:46:50.445782",
     "status": "completed"
    },
    "tags": []
   },
   "outputs": [
    {
     "data": {
      "text/html": [
       "<div>\n",
       "<style scoped>\n",
       "    .dataframe tbody tr th:only-of-type {\n",
       "        vertical-align: middle;\n",
       "    }\n",
       "\n",
       "    .dataframe tbody tr th {\n",
       "        vertical-align: top;\n",
       "    }\n",
       "\n",
       "    .dataframe thead th {\n",
       "        text-align: right;\n",
       "    }\n",
       "</style>\n",
       "<table border=\"1\" class=\"dataframe\">\n",
       "  <thead>\n",
       "    <tr style=\"text-align: right;\">\n",
       "      <th></th>\n",
       "      <th>study_id</th>\n",
       "      <th>series_id</th>\n",
       "      <th>series_description</th>\n",
       "    </tr>\n",
       "  </thead>\n",
       "  <tbody>\n",
       "    <tr>\n",
       "      <th>0</th>\n",
       "      <td>44036939</td>\n",
       "      <td>2828203845</td>\n",
       "      <td>Sagittal T1</td>\n",
       "    </tr>\n",
       "    <tr>\n",
       "      <th>1</th>\n",
       "      <td>44036939</td>\n",
       "      <td>3481971518</td>\n",
       "      <td>Axial T2</td>\n",
       "    </tr>\n",
       "    <tr>\n",
       "      <th>2</th>\n",
       "      <td>44036939</td>\n",
       "      <td>3844393089</td>\n",
       "      <td>Sagittal T2/STIR</td>\n",
       "    </tr>\n",
       "  </tbody>\n",
       "</table>\n",
       "</div>"
      ],
      "text/plain": [
       "   study_id   series_id series_description\n",
       "0  44036939  2828203845        Sagittal T1\n",
       "1  44036939  3481971518           Axial T2\n",
       "2  44036939  3844393089   Sagittal T2/STIR"
      ]
     },
     "execution_count": 6,
     "metadata": {},
     "output_type": "execute_result"
    }
   ],
   "source": [
    "df = pd.read_csv(f'{rd}/test_series_descriptions.csv')\n",
    "df.head()"
   ]
  },
  {
   "cell_type": "code",
   "execution_count": 7,
   "id": "3ab27cab",
   "metadata": {
    "execution": {
     "iopub.execute_input": "2024-09-06T07:46:50.519070Z",
     "iopub.status.busy": "2024-09-06T07:46:50.518595Z",
     "iopub.status.idle": "2024-09-06T07:46:50.528315Z",
     "shell.execute_reply": "2024-09-06T07:46:50.526993Z"
    },
    "papermill": {
     "duration": 0.024457,
     "end_time": "2024-09-06T07:46:50.530902",
     "exception": false,
     "start_time": "2024-09-06T07:46:50.506445",
     "status": "completed"
    },
    "tags": []
   },
   "outputs": [],
   "source": [
    "study_ids = list(df['study_id'].unique())"
   ]
  },
  {
   "cell_type": "code",
   "execution_count": 8,
   "id": "52b0a0a8",
   "metadata": {
    "execution": {
     "iopub.execute_input": "2024-09-06T07:46:50.554024Z",
     "iopub.status.busy": "2024-09-06T07:46:50.553533Z",
     "iopub.status.idle": "2024-09-06T07:46:50.565248Z",
     "shell.execute_reply": "2024-09-06T07:46:50.563944Z"
    },
    "papermill": {
     "duration": 0.027309,
     "end_time": "2024-09-06T07:46:50.568439",
     "exception": false,
     "start_time": "2024-09-06T07:46:50.541130",
     "status": "completed"
    },
    "tags": []
   },
   "outputs": [],
   "source": [
    "sample_sub = pd.read_csv(f'{rd}/sample_submission.csv')"
   ]
  },
  {
   "cell_type": "code",
   "execution_count": 9,
   "id": "f59f5c73",
   "metadata": {
    "execution": {
     "iopub.execute_input": "2024-09-06T07:46:50.591912Z",
     "iopub.status.busy": "2024-09-06T07:46:50.591451Z",
     "iopub.status.idle": "2024-09-06T07:46:50.599575Z",
     "shell.execute_reply": "2024-09-06T07:46:50.598366Z"
    },
    "papermill": {
     "duration": 0.023092,
     "end_time": "2024-09-06T07:46:50.602405",
     "exception": false,
     "start_time": "2024-09-06T07:46:50.579313",
     "status": "completed"
    },
    "tags": []
   },
   "outputs": [
    {
     "data": {
      "text/plain": [
       "['normal_mild', 'moderate', 'severe']"
      ]
     },
     "execution_count": 9,
     "metadata": {},
     "output_type": "execute_result"
    }
   ],
   "source": [
    "LABELS = list(sample_sub.columns[1:])\n",
    "LABELS"
   ]
  },
  {
   "cell_type": "code",
   "execution_count": 10,
   "id": "47822a49",
   "metadata": {
    "execution": {
     "iopub.execute_input": "2024-09-06T07:46:50.626010Z",
     "iopub.status.busy": "2024-09-06T07:46:50.625586Z",
     "iopub.status.idle": "2024-09-06T07:46:50.632061Z",
     "shell.execute_reply": "2024-09-06T07:46:50.630900Z"
    },
    "papermill": {
     "duration": 0.021319,
     "end_time": "2024-09-06T07:46:50.634653",
     "exception": false,
     "start_time": "2024-09-06T07:46:50.613334",
     "status": "completed"
    },
    "tags": []
   },
   "outputs": [],
   "source": [
    "CONDITIONS = [\n",
    "    'spinal_canal_stenosis', \n",
    "    'left_neural_foraminal_narrowing', \n",
    "    'right_neural_foraminal_narrowing',\n",
    "    'left_subarticular_stenosis',\n",
    "    'right_subarticular_stenosis'\n",
    "]\n",
    "\n",
    "LEVELS = [\n",
    "    'l1_l2',\n",
    "    'l2_l3',\n",
    "    'l3_l4',\n",
    "    'l4_l5',\n",
    "    'l5_s1',\n",
    "]"
   ]
  },
  {
   "cell_type": "code",
   "execution_count": 11,
   "id": "cdfb212f",
   "metadata": {
    "execution": {
     "iopub.execute_input": "2024-09-06T07:46:50.658071Z",
     "iopub.status.busy": "2024-09-06T07:46:50.657608Z",
     "iopub.status.idle": "2024-09-06T07:46:50.664506Z",
     "shell.execute_reply": "2024-09-06T07:46:50.663268Z"
    },
    "papermill": {
     "duration": 0.021454,
     "end_time": "2024-09-06T07:46:50.666995",
     "exception": false,
     "start_time": "2024-09-06T07:46:50.645541",
     "status": "completed"
    },
    "tags": []
   },
   "outputs": [],
   "source": [
    "def atoi(text):\n",
    "    return int(text) if text.isdigit() else text\n",
    "\n",
    "def natural_keys(text):\n",
    "    return [ atoi(c) for c in re.split(r'(\\d+)', text) ]"
   ]
  },
  {
   "cell_type": "markdown",
   "id": "1c691b65",
   "metadata": {
    "papermill": {
     "duration": 0.010204,
     "end_time": "2024-09-06T07:46:50.688211",
     "exception": false,
     "start_time": "2024-09-06T07:46:50.678007",
     "status": "completed"
    },
    "tags": []
   },
   "source": [
    "# Define Dataset"
   ]
  },
  {
   "cell_type": "code",
   "execution_count": 12,
   "id": "662d4efc",
   "metadata": {
    "execution": {
     "iopub.execute_input": "2024-09-06T07:46:50.715463Z",
     "iopub.status.busy": "2024-09-06T07:46:50.714997Z",
     "iopub.status.idle": "2024-09-06T07:46:50.741798Z",
     "shell.execute_reply": "2024-09-06T07:46:50.740565Z"
    },
    "papermill": {
     "duration": 0.042412,
     "end_time": "2024-09-06T07:46:50.745118",
     "exception": false,
     "start_time": "2024-09-06T07:46:50.702706",
     "status": "completed"
    },
    "tags": []
   },
   "outputs": [],
   "source": [
    "class RSNA24TestDataset(Dataset):\n",
    "    def __init__(self, df, study_ids, phase='test', transform=None):\n",
    "        self.df = df\n",
    "        self.study_ids = study_ids\n",
    "        self.transform = transform\n",
    "        self.phase = phase\n",
    "    \n",
    "    def __len__(self):\n",
    "        return len(self.study_ids)\n",
    "    \n",
    "    def get_img_paths(self, study_id, series_desc):\n",
    "        pdf = self.df[self.df['study_id']==study_id]\n",
    "        pdf_ = pdf[pdf['series_description']==series_desc]\n",
    "        allimgs = []\n",
    "        for i, row in pdf_.iterrows():\n",
    "            pimgs = glob.glob(f'{rd}/test_images/{study_id}/{row[\"series_id\"]}/*.dcm')\n",
    "            pimgs = sorted(pimgs, key=natural_keys)\n",
    "            allimgs.extend(pimgs)\n",
    "            \n",
    "        return allimgs\n",
    "    \n",
    "    def read_dcm_ret_arr(self, src_path):\n",
    "        dicom_data = pydicom.dcmread(src_path)\n",
    "        image = dicom_data.pixel_array\n",
    "        image = (image - image.min()) / (image.max() - image.min() + 1e-6) * 255\n",
    "        img = cv2.resize(image, (IMG_SIZE[0], IMG_SIZE[1]),interpolation=cv2.INTER_CUBIC)\n",
    "        assert img.shape==(IMG_SIZE[0], IMG_SIZE[1])\n",
    "        return img\n",
    "\n",
    "    def __getitem__(self, idx):\n",
    "        x = np.zeros((IMG_SIZE[0], IMG_SIZE[1], IN_CHANS), dtype=np.uint8)\n",
    "        st_id = self.study_ids[idx]        \n",
    "        \n",
    "        # Sagittal T1\n",
    "        allimgs_st1 = self.get_img_paths(st_id, 'Sagittal T1')\n",
    "        if len(allimgs_st1)==0:\n",
    "            print(st_id, ': Sagittal T1, has no images')\n",
    "        \n",
    "        else:\n",
    "            step = len(allimgs_st1) / 10.0\n",
    "            st = len(allimgs_st1)/2.0 - 4.0*step\n",
    "            end = len(allimgs_st1)+0.0001\n",
    "            for j, i in enumerate(np.arange(st, end, step)):\n",
    "                try:\n",
    "                    ind2 = max(0, int((i-0.5001).round()))\n",
    "                    img = self.read_dcm_ret_arr(allimgs_st1[ind2])\n",
    "                    x[..., j] = img.astype(np.uint8)\n",
    "                except:\n",
    "                    print(f'failed to load on {st_id}, Sagittal T1')\n",
    "                    pass\n",
    "            \n",
    "        # Sagittal T2/STIR\n",
    "        allimgs_st2 = self.get_img_paths(st_id, 'Sagittal T2/STIR')\n",
    "        if len(allimgs_st2)==0:\n",
    "            print(st_id, ': Sagittal T2/STIR, has no images')\n",
    "            \n",
    "        else:\n",
    "            step = len(allimgs_st2) / 10.0\n",
    "            st = len(allimgs_st2)/2.0 - 4.0*step\n",
    "            end = len(allimgs_st2)+0.0001\n",
    "            for j, i in enumerate(np.arange(st, end, step)):\n",
    "                try:\n",
    "                    ind2 = max(0, int((i-0.5001).round()))\n",
    "                    img = self.read_dcm_ret_arr(allimgs_st2[ind2])\n",
    "                    x[..., j+10] = img.astype(np.uint8)\n",
    "                except:\n",
    "                    print(f'failed to load on {st_id}, Sagittal T2/STIR')\n",
    "                    pass\n",
    "            \n",
    "        # Axial T2\n",
    "        allimgs_at2 = self.get_img_paths(st_id, 'Axial T2')\n",
    "        if len(allimgs_at2)==0:\n",
    "            print(st_id, ': Axial T2, has no images')\n",
    "            \n",
    "        else:\n",
    "            step = len(allimgs_at2) / 10.0\n",
    "            st = len(allimgs_at2)/2.0 - 4.0*step\n",
    "            end = len(allimgs_at2)+0.0001\n",
    "\n",
    "            for j, i in enumerate(np.arange(st, end, step)):\n",
    "                try:\n",
    "                    ind2 = max(0, int((i-0.5001).round()))\n",
    "                    img = self.read_dcm_ret_arr(allimgs_at2[ind2])\n",
    "                    x[..., j+20] = img.astype(np.uint8)\n",
    "                except:\n",
    "                    print(f'failed to load on {st_id}, Axial T2')\n",
    "                    pass  \n",
    "            \n",
    "            \n",
    "        if self.transform is not None:\n",
    "            x = self.transform(image=x)['image']\n",
    "\n",
    "        x = x.transpose(2, 0, 1)\n",
    "                \n",
    "        return x, str(st_id)"
   ]
  },
  {
   "cell_type": "code",
   "execution_count": 13,
   "id": "db078e13",
   "metadata": {
    "execution": {
     "iopub.execute_input": "2024-09-06T07:46:50.768497Z",
     "iopub.status.busy": "2024-09-06T07:46:50.768035Z",
     "iopub.status.idle": "2024-09-06T07:46:50.774927Z",
     "shell.execute_reply": "2024-09-06T07:46:50.773573Z"
    },
    "papermill": {
     "duration": 0.021736,
     "end_time": "2024-09-06T07:46:50.777457",
     "exception": false,
     "start_time": "2024-09-06T07:46:50.755721",
     "status": "completed"
    },
    "tags": []
   },
   "outputs": [],
   "source": [
    "transforms_test = A.Compose([\n",
    "    A.Resize(IMG_SIZE[0], IMG_SIZE[1]),\n",
    "    A.Normalize(mean=0.5, std=0.5)\n",
    "])"
   ]
  },
  {
   "cell_type": "code",
   "execution_count": 14,
   "id": "70d8a23c",
   "metadata": {
    "execution": {
     "iopub.execute_input": "2024-09-06T07:46:50.801973Z",
     "iopub.status.busy": "2024-09-06T07:46:50.801440Z",
     "iopub.status.idle": "2024-09-06T07:46:50.808250Z",
     "shell.execute_reply": "2024-09-06T07:46:50.807062Z"
    },
    "papermill": {
     "duration": 0.021224,
     "end_time": "2024-09-06T07:46:50.810769",
     "exception": false,
     "start_time": "2024-09-06T07:46:50.789545",
     "status": "completed"
    },
    "tags": []
   },
   "outputs": [],
   "source": [
    "test_ds = RSNA24TestDataset(df, study_ids, transform=transforms_test)\n",
    "test_dl = DataLoader(\n",
    "    test_ds, \n",
    "    batch_size=1, \n",
    "    shuffle=False,\n",
    "    num_workers=N_WORKERS,\n",
    "    pin_memory=True,\n",
    "    drop_last=False\n",
    ")"
   ]
  },
  {
   "cell_type": "markdown",
   "id": "5511a99b",
   "metadata": {
    "papermill": {
     "duration": 0.01009,
     "end_time": "2024-09-06T07:46:50.831113",
     "exception": false,
     "start_time": "2024-09-06T07:46:50.821023",
     "status": "completed"
    },
    "tags": []
   },
   "source": [
    "# Define Model"
   ]
  },
  {
   "cell_type": "code",
   "execution_count": 15,
   "id": "199f5964",
   "metadata": {
    "execution": {
     "iopub.execute_input": "2024-09-06T07:46:50.854235Z",
     "iopub.status.busy": "2024-09-06T07:46:50.853731Z",
     "iopub.status.idle": "2024-09-06T07:46:50.861757Z",
     "shell.execute_reply": "2024-09-06T07:46:50.860581Z"
    },
    "papermill": {
     "duration": 0.022731,
     "end_time": "2024-09-06T07:46:50.864327",
     "exception": false,
     "start_time": "2024-09-06T07:46:50.841596",
     "status": "completed"
    },
    "tags": []
   },
   "outputs": [],
   "source": [
    "class RSNA24Model(nn.Module):\n",
    "    def __init__(self, model_name, in_c=30, n_classes=75, pretrained=True, features_only=False):\n",
    "        super().__init__()\n",
    "        self.model = timm.create_model(\n",
    "                                    model_name,\n",
    "                                    pretrained=pretrained, \n",
    "                                    features_only=features_only,\n",
    "                                    in_chans=in_c,\n",
    "                                    num_classes=n_classes,\n",
    "                                    global_pool='avg'\n",
    "                                    )\n",
    "    \n",
    "    def forward(self, x):\n",
    "        y = self.model(x)\n",
    "        return y"
   ]
  },
  {
   "cell_type": "markdown",
   "id": "efd2a758",
   "metadata": {
    "papermill": {
     "duration": 0.010046,
     "end_time": "2024-09-06T07:46:50.884657",
     "exception": false,
     "start_time": "2024-09-06T07:46:50.874611",
     "status": "completed"
    },
    "tags": []
   },
   "source": [
    "# Load Models"
   ]
  },
  {
   "cell_type": "code",
   "execution_count": 16,
   "id": "3954c7f0",
   "metadata": {
    "execution": {
     "iopub.execute_input": "2024-09-06T07:46:50.908466Z",
     "iopub.status.busy": "2024-09-06T07:46:50.907975Z",
     "iopub.status.idle": "2024-09-06T07:46:50.914058Z",
     "shell.execute_reply": "2024-09-06T07:46:50.912728Z"
    },
    "papermill": {
     "duration": 0.021106,
     "end_time": "2024-09-06T07:46:50.916708",
     "exception": false,
     "start_time": "2024-09-06T07:46:50.895602",
     "status": "completed"
    },
    "tags": []
   },
   "outputs": [],
   "source": [
    "models = []"
   ]
  },
  {
   "cell_type": "code",
   "execution_count": 17,
   "id": "a504721e",
   "metadata": {
    "execution": {
     "iopub.execute_input": "2024-09-06T07:46:50.941248Z",
     "iopub.status.busy": "2024-09-06T07:46:50.940736Z",
     "iopub.status.idle": "2024-09-06T07:46:50.952995Z",
     "shell.execute_reply": "2024-09-06T07:46:50.951629Z"
    },
    "papermill": {
     "duration": 0.028679,
     "end_time": "2024-09-06T07:46:50.956074",
     "exception": false,
     "start_time": "2024-09-06T07:46:50.927395",
     "status": "completed"
    },
    "tags": []
   },
   "outputs": [],
   "source": [
    "import glob\n",
    "# CKPT_PATHS = glob.glob('/kaggle/input/rsna-model/pytorch/default/1/rsna24-results/best_wll_model_fold-*.pt')\n",
    "CKPT_PATHS = glob.glob('/kaggle/input/rsna2024-lsdc-training-baseline/rsna24-results/best_wll_model_fold-*.pt')\n",
    "CKPT_PATHS = sorted(CKPT_PATHS)"
   ]
  },
  {
   "cell_type": "code",
   "execution_count": 18,
   "id": "b342179c",
   "metadata": {
    "execution": {
     "iopub.execute_input": "2024-09-06T07:46:50.979847Z",
     "iopub.status.busy": "2024-09-06T07:46:50.978703Z",
     "iopub.status.idle": "2024-09-06T07:47:01.478997Z",
     "shell.execute_reply": "2024-09-06T07:47:01.477718Z"
    },
    "papermill": {
     "duration": 10.515448,
     "end_time": "2024-09-06T07:47:01.482065",
     "exception": false,
     "start_time": "2024-09-06T07:46:50.966617",
     "status": "completed"
    },
    "tags": []
   },
   "outputs": [
    {
     "name": "stdout",
     "output_type": "stream",
     "text": [
      "loading /kaggle/input/rsna2024-lsdc-training-baseline/rsna24-results/best_wll_model_fold-0.pt...\n",
      "loading /kaggle/input/rsna2024-lsdc-training-baseline/rsna24-results/best_wll_model_fold-1.pt...\n",
      "loading /kaggle/input/rsna2024-lsdc-training-baseline/rsna24-results/best_wll_model_fold-2.pt...\n",
      "loading /kaggle/input/rsna2024-lsdc-training-baseline/rsna24-results/best_wll_model_fold-3.pt...\n",
      "loading /kaggle/input/rsna2024-lsdc-training-baseline/rsna24-results/best_wll_model_fold-4.pt...\n"
     ]
    }
   ],
   "source": [
    "for i, cp in enumerate(CKPT_PATHS):\n",
    "    print(f'loading {cp}...')\n",
    "    model = RSNA24Model(MODEL_NAME, IN_CHANS, N_CLASSES, pretrained=False)\n",
    "    if torch.device('cpu'):\n",
    "        state_dict = torch.load(cp, map_location=torch.device('cpu')) \n",
    "        model.load_state_dict(torch.load(cp, map_location=torch.device('cpu')), strict=False)\n",
    "    else:\n",
    "        state_dict = torch.load(cp)\n",
    "        model.load_state_dict(torch.load(cp), strict=False)\n",
    "    \n",
    "\n",
    "    model.eval()\n",
    "    model.half()\n",
    "    model.to(device)\n",
    "    models.append(model)"
   ]
  },
  {
   "cell_type": "markdown",
   "id": "df99a16e",
   "metadata": {
    "papermill": {
     "duration": 0.010552,
     "end_time": "2024-09-06T07:47:01.503456",
     "exception": false,
     "start_time": "2024-09-06T07:47:01.492904",
     "status": "completed"
    },
    "tags": []
   },
   "source": [
    "# Inference loop"
   ]
  },
  {
   "cell_type": "code",
   "execution_count": 19,
   "id": "71a9e549",
   "metadata": {
    "execution": {
     "iopub.execute_input": "2024-09-06T07:47:01.527274Z",
     "iopub.status.busy": "2024-09-06T07:47:01.526842Z",
     "iopub.status.idle": "2024-09-06T07:47:07.927063Z",
     "shell.execute_reply": "2024-09-06T07:47:07.925226Z"
    },
    "papermill": {
     "duration": 6.416044,
     "end_time": "2024-09-06T07:47:07.930340",
     "exception": false,
     "start_time": "2024-09-06T07:47:01.514296",
     "status": "completed"
    },
    "tags": []
   },
   "outputs": [
    {
     "name": "stderr",
     "output_type": "stream",
     "text": [
      "100%|██████████| 1/1 [00:06<00:00,  6.12s/it]\n"
     ]
    }
   ],
   "source": [
    "if torch.device('cpu'):\n",
    "    # Ensure the model is in full precision\n",
    "    for m in models:\n",
    "        m = m.float()\n",
    "\n",
    "\n",
    "autocast = torch.cuda.amp.autocast(enabled=USE_AMP, dtype=torch.half)\n",
    "y_preds = []\n",
    "row_names = []\n",
    "\n",
    "with tqdm(test_dl, leave=True) as pbar:\n",
    "    with torch.no_grad():\n",
    "        for idx, (x, si) in enumerate(pbar):\n",
    "            x = x.to(device)\n",
    "            pred_per_study = np.zeros((25, 3))\n",
    "            \n",
    "            for cond in CONDITIONS:\n",
    "                for level in LEVELS:\n",
    "                    row_names.append(si[0] + '_' + cond + '_' + level)\n",
    "            \n",
    "            with autocast:\n",
    "                for m in models:\n",
    "                    y = m(x)[0]\n",
    "                    for col in range(N_LABELS):\n",
    "                        pred = y[col*3:col*3+3]\n",
    "                        y_pred = pred.float().softmax(0).cpu().numpy()\n",
    "                        pred_per_study[col] += y_pred / len(models)\n",
    "                y_preds.append(pred_per_study)\n",
    "\n",
    "y_preds = np.concatenate(y_preds, axis=0)"
   ]
  },
  {
   "cell_type": "markdown",
   "id": "ee05fedf",
   "metadata": {
    "papermill": {
     "duration": 0.011647,
     "end_time": "2024-09-06T07:47:07.954239",
     "exception": false,
     "start_time": "2024-09-06T07:47:07.942592",
     "status": "completed"
    },
    "tags": []
   },
   "source": [
    "# Make Submission"
   ]
  },
  {
   "cell_type": "code",
   "execution_count": 20,
   "id": "3f629abd",
   "metadata": {
    "execution": {
     "iopub.execute_input": "2024-09-06T07:47:07.979115Z",
     "iopub.status.busy": "2024-09-06T07:47:07.978659Z",
     "iopub.status.idle": "2024-09-06T07:47:08.008996Z",
     "shell.execute_reply": "2024-09-06T07:47:08.007534Z"
    },
    "papermill": {
     "duration": 0.046455,
     "end_time": "2024-09-06T07:47:08.011998",
     "exception": false,
     "start_time": "2024-09-06T07:47:07.965543",
     "status": "completed"
    },
    "tags": []
   },
   "outputs": [
    {
     "data": {
      "text/html": [
       "<div>\n",
       "<style scoped>\n",
       "    .dataframe tbody tr th:only-of-type {\n",
       "        vertical-align: middle;\n",
       "    }\n",
       "\n",
       "    .dataframe tbody tr th {\n",
       "        vertical-align: top;\n",
       "    }\n",
       "\n",
       "    .dataframe thead th {\n",
       "        text-align: right;\n",
       "    }\n",
       "</style>\n",
       "<table border=\"1\" class=\"dataframe\">\n",
       "  <thead>\n",
       "    <tr style=\"text-align: right;\">\n",
       "      <th></th>\n",
       "      <th>row_id</th>\n",
       "      <th>normal_mild</th>\n",
       "      <th>moderate</th>\n",
       "      <th>severe</th>\n",
       "    </tr>\n",
       "  </thead>\n",
       "  <tbody>\n",
       "    <tr>\n",
       "      <th>0</th>\n",
       "      <td>44036939_spinal_canal_stenosis_l1_l2</td>\n",
       "      <td>0.384177</td>\n",
       "      <td>0.360840</td>\n",
       "      <td>0.254983</td>\n",
       "    </tr>\n",
       "    <tr>\n",
       "      <th>1</th>\n",
       "      <td>44036939_spinal_canal_stenosis_l2_l3</td>\n",
       "      <td>0.184678</td>\n",
       "      <td>0.419238</td>\n",
       "      <td>0.396084</td>\n",
       "    </tr>\n",
       "    <tr>\n",
       "      <th>2</th>\n",
       "      <td>44036939_spinal_canal_stenosis_l3_l4</td>\n",
       "      <td>0.132314</td>\n",
       "      <td>0.452070</td>\n",
       "      <td>0.415616</td>\n",
       "    </tr>\n",
       "    <tr>\n",
       "      <th>3</th>\n",
       "      <td>44036939_spinal_canal_stenosis_l4_l5</td>\n",
       "      <td>0.211898</td>\n",
       "      <td>0.250336</td>\n",
       "      <td>0.537767</td>\n",
       "    </tr>\n",
       "    <tr>\n",
       "      <th>4</th>\n",
       "      <td>44036939_spinal_canal_stenosis_l5_s1</td>\n",
       "      <td>0.733873</td>\n",
       "      <td>0.143866</td>\n",
       "      <td>0.122261</td>\n",
       "    </tr>\n",
       "    <tr>\n",
       "      <th>5</th>\n",
       "      <td>44036939_left_neural_foraminal_narrowing_l1_l2</td>\n",
       "      <td>0.408383</td>\n",
       "      <td>0.544523</td>\n",
       "      <td>0.047095</td>\n",
       "    </tr>\n",
       "    <tr>\n",
       "      <th>6</th>\n",
       "      <td>44036939_left_neural_foraminal_narrowing_l2_l3</td>\n",
       "      <td>0.287050</td>\n",
       "      <td>0.571474</td>\n",
       "      <td>0.141476</td>\n",
       "    </tr>\n",
       "    <tr>\n",
       "      <th>7</th>\n",
       "      <td>44036939_left_neural_foraminal_narrowing_l3_l4</td>\n",
       "      <td>0.209938</td>\n",
       "      <td>0.505964</td>\n",
       "      <td>0.284098</td>\n",
       "    </tr>\n",
       "    <tr>\n",
       "      <th>8</th>\n",
       "      <td>44036939_left_neural_foraminal_narrowing_l4_l5</td>\n",
       "      <td>0.122861</td>\n",
       "      <td>0.566228</td>\n",
       "      <td>0.310911</td>\n",
       "    </tr>\n",
       "    <tr>\n",
       "      <th>9</th>\n",
       "      <td>44036939_left_neural_foraminal_narrowing_l5_s1</td>\n",
       "      <td>0.169073</td>\n",
       "      <td>0.388842</td>\n",
       "      <td>0.442085</td>\n",
       "    </tr>\n",
       "    <tr>\n",
       "      <th>10</th>\n",
       "      <td>44036939_right_neural_foraminal_narrowing_l1_l2</td>\n",
       "      <td>0.416728</td>\n",
       "      <td>0.405530</td>\n",
       "      <td>0.177742</td>\n",
       "    </tr>\n",
       "    <tr>\n",
       "      <th>11</th>\n",
       "      <td>44036939_right_neural_foraminal_narrowing_l2_l3</td>\n",
       "      <td>0.290270</td>\n",
       "      <td>0.624857</td>\n",
       "      <td>0.084873</td>\n",
       "    </tr>\n",
       "    <tr>\n",
       "      <th>12</th>\n",
       "      <td>44036939_right_neural_foraminal_narrowing_l3_l4</td>\n",
       "      <td>0.145712</td>\n",
       "      <td>0.654330</td>\n",
       "      <td>0.199958</td>\n",
       "    </tr>\n",
       "    <tr>\n",
       "      <th>13</th>\n",
       "      <td>44036939_right_neural_foraminal_narrowing_l4_l5</td>\n",
       "      <td>0.116382</td>\n",
       "      <td>0.425111</td>\n",
       "      <td>0.458507</td>\n",
       "    </tr>\n",
       "    <tr>\n",
       "      <th>14</th>\n",
       "      <td>44036939_right_neural_foraminal_narrowing_l5_s1</td>\n",
       "      <td>0.175145</td>\n",
       "      <td>0.347546</td>\n",
       "      <td>0.477310</td>\n",
       "    </tr>\n",
       "    <tr>\n",
       "      <th>15</th>\n",
       "      <td>44036939_left_subarticular_stenosis_l1_l2</td>\n",
       "      <td>0.207044</td>\n",
       "      <td>0.487194</td>\n",
       "      <td>0.305762</td>\n",
       "    </tr>\n",
       "    <tr>\n",
       "      <th>16</th>\n",
       "      <td>44036939_left_subarticular_stenosis_l2_l3</td>\n",
       "      <td>0.101447</td>\n",
       "      <td>0.287232</td>\n",
       "      <td>0.611321</td>\n",
       "    </tr>\n",
       "    <tr>\n",
       "      <th>17</th>\n",
       "      <td>44036939_left_subarticular_stenosis_l3_l4</td>\n",
       "      <td>0.072017</td>\n",
       "      <td>0.394054</td>\n",
       "      <td>0.533929</td>\n",
       "    </tr>\n",
       "    <tr>\n",
       "      <th>18</th>\n",
       "      <td>44036939_left_subarticular_stenosis_l4_l5</td>\n",
       "      <td>0.072424</td>\n",
       "      <td>0.284796</td>\n",
       "      <td>0.642780</td>\n",
       "    </tr>\n",
       "    <tr>\n",
       "      <th>19</th>\n",
       "      <td>44036939_left_subarticular_stenosis_l5_s1</td>\n",
       "      <td>0.296624</td>\n",
       "      <td>0.287184</td>\n",
       "      <td>0.416192</td>\n",
       "    </tr>\n",
       "    <tr>\n",
       "      <th>20</th>\n",
       "      <td>44036939_right_subarticular_stenosis_l1_l2</td>\n",
       "      <td>0.267563</td>\n",
       "      <td>0.487711</td>\n",
       "      <td>0.244727</td>\n",
       "    </tr>\n",
       "    <tr>\n",
       "      <th>21</th>\n",
       "      <td>44036939_right_subarticular_stenosis_l2_l3</td>\n",
       "      <td>0.093762</td>\n",
       "      <td>0.444261</td>\n",
       "      <td>0.461977</td>\n",
       "    </tr>\n",
       "    <tr>\n",
       "      <th>22</th>\n",
       "      <td>44036939_right_subarticular_stenosis_l3_l4</td>\n",
       "      <td>0.069715</td>\n",
       "      <td>0.416528</td>\n",
       "      <td>0.513758</td>\n",
       "    </tr>\n",
       "    <tr>\n",
       "      <th>23</th>\n",
       "      <td>44036939_right_subarticular_stenosis_l4_l5</td>\n",
       "      <td>0.057382</td>\n",
       "      <td>0.258951</td>\n",
       "      <td>0.683667</td>\n",
       "    </tr>\n",
       "    <tr>\n",
       "      <th>24</th>\n",
       "      <td>44036939_right_subarticular_stenosis_l5_s1</td>\n",
       "      <td>0.255257</td>\n",
       "      <td>0.357421</td>\n",
       "      <td>0.387322</td>\n",
       "    </tr>\n",
       "  </tbody>\n",
       "</table>\n",
       "</div>"
      ],
      "text/plain": [
       "                                             row_id  normal_mild  moderate  \\\n",
       "0              44036939_spinal_canal_stenosis_l1_l2     0.384177  0.360840   \n",
       "1              44036939_spinal_canal_stenosis_l2_l3     0.184678  0.419238   \n",
       "2              44036939_spinal_canal_stenosis_l3_l4     0.132314  0.452070   \n",
       "3              44036939_spinal_canal_stenosis_l4_l5     0.211898  0.250336   \n",
       "4              44036939_spinal_canal_stenosis_l5_s1     0.733873  0.143866   \n",
       "5    44036939_left_neural_foraminal_narrowing_l1_l2     0.408383  0.544523   \n",
       "6    44036939_left_neural_foraminal_narrowing_l2_l3     0.287050  0.571474   \n",
       "7    44036939_left_neural_foraminal_narrowing_l3_l4     0.209938  0.505964   \n",
       "8    44036939_left_neural_foraminal_narrowing_l4_l5     0.122861  0.566228   \n",
       "9    44036939_left_neural_foraminal_narrowing_l5_s1     0.169073  0.388842   \n",
       "10  44036939_right_neural_foraminal_narrowing_l1_l2     0.416728  0.405530   \n",
       "11  44036939_right_neural_foraminal_narrowing_l2_l3     0.290270  0.624857   \n",
       "12  44036939_right_neural_foraminal_narrowing_l3_l4     0.145712  0.654330   \n",
       "13  44036939_right_neural_foraminal_narrowing_l4_l5     0.116382  0.425111   \n",
       "14  44036939_right_neural_foraminal_narrowing_l5_s1     0.175145  0.347546   \n",
       "15        44036939_left_subarticular_stenosis_l1_l2     0.207044  0.487194   \n",
       "16        44036939_left_subarticular_stenosis_l2_l3     0.101447  0.287232   \n",
       "17        44036939_left_subarticular_stenosis_l3_l4     0.072017  0.394054   \n",
       "18        44036939_left_subarticular_stenosis_l4_l5     0.072424  0.284796   \n",
       "19        44036939_left_subarticular_stenosis_l5_s1     0.296624  0.287184   \n",
       "20       44036939_right_subarticular_stenosis_l1_l2     0.267563  0.487711   \n",
       "21       44036939_right_subarticular_stenosis_l2_l3     0.093762  0.444261   \n",
       "22       44036939_right_subarticular_stenosis_l3_l4     0.069715  0.416528   \n",
       "23       44036939_right_subarticular_stenosis_l4_l5     0.057382  0.258951   \n",
       "24       44036939_right_subarticular_stenosis_l5_s1     0.255257  0.357421   \n",
       "\n",
       "      severe  \n",
       "0   0.254983  \n",
       "1   0.396084  \n",
       "2   0.415616  \n",
       "3   0.537767  \n",
       "4   0.122261  \n",
       "5   0.047095  \n",
       "6   0.141476  \n",
       "7   0.284098  \n",
       "8   0.310911  \n",
       "9   0.442085  \n",
       "10  0.177742  \n",
       "11  0.084873  \n",
       "12  0.199958  \n",
       "13  0.458507  \n",
       "14  0.477310  \n",
       "15  0.305762  \n",
       "16  0.611321  \n",
       "17  0.533929  \n",
       "18  0.642780  \n",
       "19  0.416192  \n",
       "20  0.244727  \n",
       "21  0.461977  \n",
       "22  0.513758  \n",
       "23  0.683667  \n",
       "24  0.387322  "
      ]
     },
     "execution_count": 20,
     "metadata": {},
     "output_type": "execute_result"
    }
   ],
   "source": [
    "sub = pd.DataFrame()\n",
    "sub['row_id'] = row_names\n",
    "sub[LABELS] = y_preds\n",
    "sub.head(25)"
   ]
  },
  {
   "cell_type": "code",
   "execution_count": 21,
   "id": "701738ab",
   "metadata": {
    "execution": {
     "iopub.execute_input": "2024-09-06T07:47:08.039665Z",
     "iopub.status.busy": "2024-09-06T07:47:08.039236Z",
     "iopub.status.idle": "2024-09-06T07:47:08.063555Z",
     "shell.execute_reply": "2024-09-06T07:47:08.062071Z"
    },
    "papermill": {
     "duration": 0.042335,
     "end_time": "2024-09-06T07:47:08.066798",
     "exception": false,
     "start_time": "2024-09-06T07:47:08.024463",
     "status": "completed"
    },
    "tags": []
   },
   "outputs": [
    {
     "data": {
      "text/html": [
       "<div>\n",
       "<style scoped>\n",
       "    .dataframe tbody tr th:only-of-type {\n",
       "        vertical-align: middle;\n",
       "    }\n",
       "\n",
       "    .dataframe tbody tr th {\n",
       "        vertical-align: top;\n",
       "    }\n",
       "\n",
       "    .dataframe thead th {\n",
       "        text-align: right;\n",
       "    }\n",
       "</style>\n",
       "<table border=\"1\" class=\"dataframe\">\n",
       "  <thead>\n",
       "    <tr style=\"text-align: right;\">\n",
       "      <th></th>\n",
       "      <th>row_id</th>\n",
       "      <th>normal_mild</th>\n",
       "      <th>moderate</th>\n",
       "      <th>severe</th>\n",
       "    </tr>\n",
       "  </thead>\n",
       "  <tbody>\n",
       "    <tr>\n",
       "      <th>0</th>\n",
       "      <td>44036939_spinal_canal_stenosis_l1_l2</td>\n",
       "      <td>0.384177</td>\n",
       "      <td>0.360840</td>\n",
       "      <td>0.254983</td>\n",
       "    </tr>\n",
       "    <tr>\n",
       "      <th>1</th>\n",
       "      <td>44036939_spinal_canal_stenosis_l2_l3</td>\n",
       "      <td>0.184678</td>\n",
       "      <td>0.419238</td>\n",
       "      <td>0.396084</td>\n",
       "    </tr>\n",
       "    <tr>\n",
       "      <th>2</th>\n",
       "      <td>44036939_spinal_canal_stenosis_l3_l4</td>\n",
       "      <td>0.132314</td>\n",
       "      <td>0.452070</td>\n",
       "      <td>0.415616</td>\n",
       "    </tr>\n",
       "    <tr>\n",
       "      <th>3</th>\n",
       "      <td>44036939_spinal_canal_stenosis_l4_l5</td>\n",
       "      <td>0.211898</td>\n",
       "      <td>0.250336</td>\n",
       "      <td>0.537767</td>\n",
       "    </tr>\n",
       "    <tr>\n",
       "      <th>4</th>\n",
       "      <td>44036939_spinal_canal_stenosis_l5_s1</td>\n",
       "      <td>0.733873</td>\n",
       "      <td>0.143866</td>\n",
       "      <td>0.122261</td>\n",
       "    </tr>\n",
       "  </tbody>\n",
       "</table>\n",
       "</div>"
      ],
      "text/plain": [
       "                                 row_id  normal_mild  moderate    severe\n",
       "0  44036939_spinal_canal_stenosis_l1_l2     0.384177  0.360840  0.254983\n",
       "1  44036939_spinal_canal_stenosis_l2_l3     0.184678  0.419238  0.396084\n",
       "2  44036939_spinal_canal_stenosis_l3_l4     0.132314  0.452070  0.415616\n",
       "3  44036939_spinal_canal_stenosis_l4_l5     0.211898  0.250336  0.537767\n",
       "4  44036939_spinal_canal_stenosis_l5_s1     0.733873  0.143866  0.122261"
      ]
     },
     "execution_count": 21,
     "metadata": {},
     "output_type": "execute_result"
    }
   ],
   "source": [
    "sub.to_csv('submission.csv', index=False)\n",
    "pd.read_csv('submission.csv').head()"
   ]
  },
  {
   "cell_type": "markdown",
   "id": "51c00d8a",
   "metadata": {
    "papermill": {
     "duration": 0.011728,
     "end_time": "2024-09-06T07:47:08.091101",
     "exception": false,
     "start_time": "2024-09-06T07:47:08.079373",
     "status": "completed"
    },
    "tags": []
   },
   "source": [
    "# Conclusion\n",
    "We created the dataset, performed training, and inference in this notebook. \n",
    "\n",
    "This competition is a bit complicated to handle the dataset, so there may be a better way.\n",
    "\n",
    "I think there are many other areas to improve in my notebook. I hope you can learn from my notebook and get a better score."
   ]
  },
  {
   "cell_type": "code",
   "execution_count": null,
   "id": "16360266",
   "metadata": {
    "papermill": {
     "duration": 0.011867,
     "end_time": "2024-09-06T07:47:08.115116",
     "exception": false,
     "start_time": "2024-09-06T07:47:08.103249",
     "status": "completed"
    },
    "tags": []
   },
   "outputs": [],
   "source": []
  }
 ],
 "metadata": {
  "kaggle": {
   "accelerator": "none",
   "dataSources": [
    {
     "databundleVersionId": 8561470,
     "sourceId": 71549,
     "sourceType": "competition"
    },
    {
     "sourceId": 195416726,
     "sourceType": "kernelVersion"
    }
   ],
   "dockerImageVersionId": 30733,
   "isGpuEnabled": false,
   "isInternetEnabled": false,
   "language": "python",
   "sourceType": "notebook"
  },
  "kernelspec": {
   "display_name": "Python 3",
   "language": "python",
   "name": "python3"
  },
  "language_info": {
   "codemirror_mode": {
    "name": "ipython",
    "version": 3
   },
   "file_extension": ".py",
   "mimetype": "text/x-python",
   "name": "python",
   "nbconvert_exporter": "python",
   "pygments_lexer": "ipython3",
   "version": "3.10.13"
  },
  "papermill": {
   "default_parameters": {},
   "duration": 36.78752,
   "end_time": "2024-09-06T07:47:10.957025",
   "environment_variables": {},
   "exception": null,
   "input_path": "__notebook__.ipynb",
   "output_path": "__notebook__.ipynb",
   "parameters": {},
   "start_time": "2024-09-06T07:46:34.169505",
   "version": "2.5.0"
  }
 },
 "nbformat": 4,
 "nbformat_minor": 5
}
