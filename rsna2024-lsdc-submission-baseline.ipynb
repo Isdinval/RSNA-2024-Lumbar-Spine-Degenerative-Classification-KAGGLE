{
 "cells": [
  {
   "cell_type": "markdown",
   "id": "9849df8e",
   "metadata": {
    "_cell_guid": "b1076dfc-b9ad-4769-8c92-a6c4dae69d19",
    "_uuid": "8f2839f25d086af736a60e9eeb907d3b93b6e0e5",
    "papermill": {
     "duration": 0.008348,
     "end_time": "2024-09-05T08:49:02.114169",
     "exception": false,
     "start_time": "2024-09-05T08:49:02.105821",
     "status": "completed"
    },
    "tags": []
   },
   "source": [
    "# RSNA2024 LSDC Submission Baseline\n",
    "\n",
    "This code outlines a process for classifying degenerative lumbar spine conditions using MRI images. It starts by importing necessary libraries for data handling, model training, and image processing, including PyTorch for deep learning and Albumentations for data augmentation.\n",
    "\n",
    "A configuration section sets parameters such as device type (CPU/GPU), image size, and model specifications (EfficientNet). The dataset is then defined using a custom RSNA24TestDataset class, which loads and processes DICOM images (MRI scans) into a standardized format suitable for model input.\n",
    "\n",
    "The code then defines a neural network model based on a pre-trained EfficientNet architecture and loads several pre-trained model weights for inference. An inference loop processes the test dataset, passing images through the ensemble of models and aggregating the predictions.\n",
    "\n",
    "Finally, the predictions are formatted into a submission file, which is saved for evaluation in the competition. The notebook concludes by acknowledging potential areas for improvement in the approach used.\n"
   ]
  },
  {
   "cell_type": "markdown",
   "id": "c949f80a",
   "metadata": {
    "papermill": {
     "duration": 0.007634,
     "end_time": "2024-09-05T08:49:02.129899",
     "exception": false,
     "start_time": "2024-09-05T08:49:02.122265",
     "status": "completed"
    },
    "tags": []
   },
   "source": [
    "Training Baseline V18"
   ]
  },
  {
   "cell_type": "markdown",
   "id": "be6e7264",
   "metadata": {
    "papermill": {
     "duration": 0.007647,
     "end_time": "2024-09-05T08:49:02.145307",
     "exception": false,
     "start_time": "2024-09-05T08:49:02.137660",
     "status": "completed"
    },
    "tags": []
   },
   "source": [
    "# Import Libralies"
   ]
  },
  {
   "cell_type": "code",
   "execution_count": 1,
   "id": "bcc50506",
   "metadata": {
    "execution": {
     "iopub.execute_input": "2024-09-05T08:49:02.162611Z",
     "iopub.status.busy": "2024-09-05T08:49:02.162327Z",
     "iopub.status.idle": "2024-09-05T08:49:10.776505Z",
     "shell.execute_reply": "2024-09-05T08:49:10.775691Z"
    },
    "papermill": {
     "duration": 8.625817,
     "end_time": "2024-09-05T08:49:10.778847",
     "exception": false,
     "start_time": "2024-09-05T08:49:02.153030",
     "status": "completed"
    },
    "tags": []
   },
   "outputs": [],
   "source": [
    "import os\n",
    "import gc\n",
    "import sys\n",
    "from PIL import Image\n",
    "import cv2\n",
    "import math, random\n",
    "import numpy as np\n",
    "import pandas as pd\n",
    "from glob import glob\n",
    "from tqdm import tqdm\n",
    "import matplotlib.pyplot as plt\n",
    "from sklearn.model_selection import KFold\n",
    "\n",
    "from collections import OrderedDict\n",
    "\n",
    "import torch\n",
    "import torch.nn.functional as F\n",
    "from torch import nn\n",
    "from torch.utils.data import DataLoader, Dataset\n",
    "from torch.optim import AdamW\n",
    "\n",
    "import timm\n",
    "from timm.utils import ModelEmaV2\n",
    "from transformers import get_cosine_schedule_with_warmup\n",
    "\n",
    "import albumentations as A\n",
    "\n",
    "from sklearn.model_selection import KFold\n",
    "\n",
    "import re\n",
    "import pydicom"
   ]
  },
  {
   "cell_type": "code",
   "execution_count": 2,
   "id": "a94d4f1e",
   "metadata": {
    "execution": {
     "iopub.execute_input": "2024-09-05T08:49:10.796191Z",
     "iopub.status.busy": "2024-09-05T08:49:10.795736Z",
     "iopub.status.idle": "2024-09-05T08:49:10.799818Z",
     "shell.execute_reply": "2024-09-05T08:49:10.798998Z"
    },
    "papermill": {
     "duration": 0.014705,
     "end_time": "2024-09-05T08:49:10.801687",
     "exception": false,
     "start_time": "2024-09-05T08:49:10.786982",
     "status": "completed"
    },
    "tags": []
   },
   "outputs": [],
   "source": [
    "rd = '/kaggle/input/rsna-2024-lumbar-spine-degenerative-classification'\n"
   ]
  },
  {
   "cell_type": "markdown",
   "id": "f1ba20bc",
   "metadata": {
    "papermill": {
     "duration": 0.007529,
     "end_time": "2024-09-05T08:49:10.817002",
     "exception": false,
     "start_time": "2024-09-05T08:49:10.809473",
     "status": "completed"
    },
    "tags": []
   },
   "source": [
    "# Config"
   ]
  },
  {
   "cell_type": "code",
   "execution_count": 3,
   "id": "6869e862",
   "metadata": {
    "execution": {
     "iopub.execute_input": "2024-09-05T08:49:10.834743Z",
     "iopub.status.busy": "2024-09-05T08:49:10.833986Z",
     "iopub.status.idle": "2024-09-05T08:49:10.916512Z",
     "shell.execute_reply": "2024-09-05T08:49:10.915618Z"
    },
    "papermill": {
     "duration": 0.093853,
     "end_time": "2024-09-05T08:49:10.918493",
     "exception": false,
     "start_time": "2024-09-05T08:49:10.824640",
     "status": "completed"
    },
    "tags": []
   },
   "outputs": [],
   "source": [
    "device = 'cuda:0' if torch.cuda.is_available() else 'cpu'\n",
    "N_WORKERS = os.cpu_count()\n",
    "USE_AMP = True\n",
    "SEED = 42\n",
    "\n",
    "IMG_SIZE = [512, 512]\n",
    "IN_CHANS = 30\n",
    "N_LABELS = 25\n",
    "N_CLASSES = 3 * N_LABELS\n",
    "\n",
    "N_FOLDS = 2\n",
    "\n",
    "MODEL_NAME = \"tf_efficientnet_b3.ns_jft_in1k\"\n",
    "\n",
    "\n",
    "BATCH_SIZE = 1"
   ]
  },
  {
   "cell_type": "code",
   "execution_count": 4,
   "id": "a3eb0e15",
   "metadata": {
    "execution": {
     "iopub.execute_input": "2024-09-05T08:49:10.935722Z",
     "iopub.status.busy": "2024-09-05T08:49:10.935127Z",
     "iopub.status.idle": "2024-09-05T08:49:10.939022Z",
     "shell.execute_reply": "2024-09-05T08:49:10.938189Z"
    },
    "papermill": {
     "duration": 0.014624,
     "end_time": "2024-09-05T08:49:10.941096",
     "exception": false,
     "start_time": "2024-09-05T08:49:10.926472",
     "status": "completed"
    },
    "tags": []
   },
   "outputs": [],
   "source": [
    "rd = '/kaggle/input/rsna-2024-lumbar-spine-degenerative-classification'"
   ]
  },
  {
   "cell_type": "code",
   "execution_count": 5,
   "id": "f7596a24",
   "metadata": {
    "execution": {
     "iopub.execute_input": "2024-09-05T08:49:10.957680Z",
     "iopub.status.busy": "2024-09-05T08:49:10.957432Z",
     "iopub.status.idle": "2024-09-05T08:49:10.963838Z",
     "shell.execute_reply": "2024-09-05T08:49:10.963058Z"
    },
    "papermill": {
     "duration": 0.016863,
     "end_time": "2024-09-05T08:49:10.965727",
     "exception": false,
     "start_time": "2024-09-05T08:49:10.948864",
     "status": "completed"
    },
    "tags": []
   },
   "outputs": [
    {
     "data": {
      "text/plain": [
       "device(type='cuda', index=0)"
      ]
     },
     "execution_count": 5,
     "metadata": {},
     "output_type": "execute_result"
    }
   ],
   "source": [
    "device = torch.device('cuda:0') if torch.cuda.is_available() else torch.device('cpu')\n",
    "device"
   ]
  },
  {
   "cell_type": "code",
   "execution_count": 6,
   "id": "25b42833",
   "metadata": {
    "execution": {
     "iopub.execute_input": "2024-09-05T08:49:10.982785Z",
     "iopub.status.busy": "2024-09-05T08:49:10.982276Z",
     "iopub.status.idle": "2024-09-05T08:49:11.006711Z",
     "shell.execute_reply": "2024-09-05T08:49:11.005806Z"
    },
    "papermill": {
     "duration": 0.035031,
     "end_time": "2024-09-05T08:49:11.008711",
     "exception": false,
     "start_time": "2024-09-05T08:49:10.973680",
     "status": "completed"
    },
    "tags": []
   },
   "outputs": [
    {
     "data": {
      "text/html": [
       "<div>\n",
       "<style scoped>\n",
       "    .dataframe tbody tr th:only-of-type {\n",
       "        vertical-align: middle;\n",
       "    }\n",
       "\n",
       "    .dataframe tbody tr th {\n",
       "        vertical-align: top;\n",
       "    }\n",
       "\n",
       "    .dataframe thead th {\n",
       "        text-align: right;\n",
       "    }\n",
       "</style>\n",
       "<table border=\"1\" class=\"dataframe\">\n",
       "  <thead>\n",
       "    <tr style=\"text-align: right;\">\n",
       "      <th></th>\n",
       "      <th>study_id</th>\n",
       "      <th>series_id</th>\n",
       "      <th>series_description</th>\n",
       "    </tr>\n",
       "  </thead>\n",
       "  <tbody>\n",
       "    <tr>\n",
       "      <th>0</th>\n",
       "      <td>44036939</td>\n",
       "      <td>2828203845</td>\n",
       "      <td>Sagittal T1</td>\n",
       "    </tr>\n",
       "    <tr>\n",
       "      <th>1</th>\n",
       "      <td>44036939</td>\n",
       "      <td>3481971518</td>\n",
       "      <td>Axial T2</td>\n",
       "    </tr>\n",
       "    <tr>\n",
       "      <th>2</th>\n",
       "      <td>44036939</td>\n",
       "      <td>3844393089</td>\n",
       "      <td>Sagittal T2/STIR</td>\n",
       "    </tr>\n",
       "  </tbody>\n",
       "</table>\n",
       "</div>"
      ],
      "text/plain": [
       "   study_id   series_id series_description\n",
       "0  44036939  2828203845        Sagittal T1\n",
       "1  44036939  3481971518           Axial T2\n",
       "2  44036939  3844393089   Sagittal T2/STIR"
      ]
     },
     "execution_count": 6,
     "metadata": {},
     "output_type": "execute_result"
    }
   ],
   "source": [
    "df = pd.read_csv(f'{rd}/test_series_descriptions.csv')\n",
    "df.head()"
   ]
  },
  {
   "cell_type": "code",
   "execution_count": 7,
   "id": "dfe03bbc",
   "metadata": {
    "execution": {
     "iopub.execute_input": "2024-09-05T08:49:11.026313Z",
     "iopub.status.busy": "2024-09-05T08:49:11.026043Z",
     "iopub.status.idle": "2024-09-05T08:49:11.031667Z",
     "shell.execute_reply": "2024-09-05T08:49:11.030908Z"
    },
    "papermill": {
     "duration": 0.016567,
     "end_time": "2024-09-05T08:49:11.033542",
     "exception": false,
     "start_time": "2024-09-05T08:49:11.016975",
     "status": "completed"
    },
    "tags": []
   },
   "outputs": [],
   "source": [
    "study_ids = list(df['study_id'].unique())"
   ]
  },
  {
   "cell_type": "code",
   "execution_count": 8,
   "id": "a2806f15",
   "metadata": {
    "execution": {
     "iopub.execute_input": "2024-09-05T08:49:11.050463Z",
     "iopub.status.busy": "2024-09-05T08:49:11.050221Z",
     "iopub.status.idle": "2024-09-05T08:49:11.058873Z",
     "shell.execute_reply": "2024-09-05T08:49:11.058112Z"
    },
    "papermill": {
     "duration": 0.019209,
     "end_time": "2024-09-05T08:49:11.060758",
     "exception": false,
     "start_time": "2024-09-05T08:49:11.041549",
     "status": "completed"
    },
    "tags": []
   },
   "outputs": [],
   "source": [
    "sample_sub = pd.read_csv(f'{rd}/sample_submission.csv')"
   ]
  },
  {
   "cell_type": "code",
   "execution_count": 9,
   "id": "82256fda",
   "metadata": {
    "execution": {
     "iopub.execute_input": "2024-09-05T08:49:11.078823Z",
     "iopub.status.busy": "2024-09-05T08:49:11.078186Z",
     "iopub.status.idle": "2024-09-05T08:49:11.083817Z",
     "shell.execute_reply": "2024-09-05T08:49:11.082995Z"
    },
    "papermill": {
     "duration": 0.016654,
     "end_time": "2024-09-05T08:49:11.085731",
     "exception": false,
     "start_time": "2024-09-05T08:49:11.069077",
     "status": "completed"
    },
    "tags": []
   },
   "outputs": [
    {
     "data": {
      "text/plain": [
       "['normal_mild', 'moderate', 'severe']"
      ]
     },
     "execution_count": 9,
     "metadata": {},
     "output_type": "execute_result"
    }
   ],
   "source": [
    "LABELS = list(sample_sub.columns[1:])\n",
    "LABELS"
   ]
  },
  {
   "cell_type": "code",
   "execution_count": 10,
   "id": "223ec465",
   "metadata": {
    "execution": {
     "iopub.execute_input": "2024-09-05T08:49:11.103428Z",
     "iopub.status.busy": "2024-09-05T08:49:11.103149Z",
     "iopub.status.idle": "2024-09-05T08:49:11.107496Z",
     "shell.execute_reply": "2024-09-05T08:49:11.106625Z"
    },
    "papermill": {
     "duration": 0.015389,
     "end_time": "2024-09-05T08:49:11.109272",
     "exception": false,
     "start_time": "2024-09-05T08:49:11.093883",
     "status": "completed"
    },
    "tags": []
   },
   "outputs": [],
   "source": [
    "CONDITIONS = [\n",
    "    'spinal_canal_stenosis', \n",
    "    'left_neural_foraminal_narrowing', \n",
    "    'right_neural_foraminal_narrowing',\n",
    "    'left_subarticular_stenosis',\n",
    "    'right_subarticular_stenosis'\n",
    "]\n",
    "\n",
    "LEVELS = [\n",
    "    'l1_l2',\n",
    "    'l2_l3',\n",
    "    'l3_l4',\n",
    "    'l4_l5',\n",
    "    'l5_s1',\n",
    "]"
   ]
  },
  {
   "cell_type": "code",
   "execution_count": 11,
   "id": "aa5d51cd",
   "metadata": {
    "execution": {
     "iopub.execute_input": "2024-09-05T08:49:11.126749Z",
     "iopub.status.busy": "2024-09-05T08:49:11.126474Z",
     "iopub.status.idle": "2024-09-05T08:49:11.130819Z",
     "shell.execute_reply": "2024-09-05T08:49:11.130014Z"
    },
    "papermill": {
     "duration": 0.015298,
     "end_time": "2024-09-05T08:49:11.132824",
     "exception": false,
     "start_time": "2024-09-05T08:49:11.117526",
     "status": "completed"
    },
    "tags": []
   },
   "outputs": [],
   "source": [
    "def atoi(text):\n",
    "    return int(text) if text.isdigit() else text\n",
    "\n",
    "def natural_keys(text):\n",
    "    return [ atoi(c) for c in re.split(r'(\\d+)', text) ]"
   ]
  },
  {
   "cell_type": "markdown",
   "id": "2353d515",
   "metadata": {
    "papermill": {
     "duration": 0.008077,
     "end_time": "2024-09-05T08:49:11.149339",
     "exception": false,
     "start_time": "2024-09-05T08:49:11.141262",
     "status": "completed"
    },
    "tags": []
   },
   "source": [
    "# Define Dataset"
   ]
  },
  {
   "cell_type": "code",
   "execution_count": 12,
   "id": "50d6aed8",
   "metadata": {
    "execution": {
     "iopub.execute_input": "2024-09-05T08:49:11.166811Z",
     "iopub.status.busy": "2024-09-05T08:49:11.166553Z",
     "iopub.status.idle": "2024-09-05T08:49:11.185927Z",
     "shell.execute_reply": "2024-09-05T08:49:11.185110Z"
    },
    "papermill": {
     "duration": 0.03024,
     "end_time": "2024-09-05T08:49:11.187750",
     "exception": false,
     "start_time": "2024-09-05T08:49:11.157510",
     "status": "completed"
    },
    "tags": []
   },
   "outputs": [],
   "source": [
    "class RSNA24TestDataset(Dataset):\n",
    "    def __init__(self, df, study_ids, phase='test', transform=None):\n",
    "        self.df = df\n",
    "        self.study_ids = study_ids\n",
    "        self.transform = transform\n",
    "        self.phase = phase\n",
    "    \n",
    "    def __len__(self):\n",
    "        return len(self.study_ids)\n",
    "    \n",
    "    def get_img_paths(self, study_id, series_desc):\n",
    "        pdf = self.df[self.df['study_id']==study_id]\n",
    "        pdf_ = pdf[pdf['series_description']==series_desc]\n",
    "        allimgs = []\n",
    "        for i, row in pdf_.iterrows():\n",
    "            pimgs = glob.glob(f'{rd}/test_images/{study_id}/{row[\"series_id\"]}/*.dcm')\n",
    "            pimgs = sorted(pimgs, key=natural_keys)\n",
    "            allimgs.extend(pimgs)\n",
    "            \n",
    "        return allimgs\n",
    "    \n",
    "    def read_dcm_ret_arr(self, src_path):\n",
    "        dicom_data = pydicom.dcmread(src_path)\n",
    "        image = dicom_data.pixel_array\n",
    "        image = (image - image.min()) / (image.max() - image.min() + 1e-6) * 255\n",
    "        img = cv2.resize(image, (IMG_SIZE[0], IMG_SIZE[1]),interpolation=cv2.INTER_CUBIC)\n",
    "        assert img.shape==(IMG_SIZE[0], IMG_SIZE[1])\n",
    "        return img\n",
    "\n",
    "    def __getitem__(self, idx):\n",
    "        x = np.zeros((IMG_SIZE[0], IMG_SIZE[1], IN_CHANS), dtype=np.uint8)\n",
    "        st_id = self.study_ids[idx]        \n",
    "        \n",
    "        # Sagittal T1\n",
    "        allimgs_st1 = self.get_img_paths(st_id, 'Sagittal T1')\n",
    "        if len(allimgs_st1)==0:\n",
    "            print(st_id, ': Sagittal T1, has no images')\n",
    "        \n",
    "        else:\n",
    "            step = len(allimgs_st1) / 10.0\n",
    "            st = len(allimgs_st1)/2.0 - 4.0*step\n",
    "            end = len(allimgs_st1)+0.0001\n",
    "            for j, i in enumerate(np.arange(st, end, step)):\n",
    "                try:\n",
    "                    ind2 = max(0, int((i-0.5001).round()))\n",
    "                    img = self.read_dcm_ret_arr(allimgs_st1[ind2])\n",
    "                    x[..., j] = img.astype(np.uint8)\n",
    "                except:\n",
    "                    print(f'failed to load on {st_id}, Sagittal T1')\n",
    "                    pass\n",
    "            \n",
    "        # Sagittal T2/STIR\n",
    "        allimgs_st2 = self.get_img_paths(st_id, 'Sagittal T2/STIR')\n",
    "        if len(allimgs_st2)==0:\n",
    "            print(st_id, ': Sagittal T2/STIR, has no images')\n",
    "            \n",
    "        else:\n",
    "            step = len(allimgs_st2) / 10.0\n",
    "            st = len(allimgs_st2)/2.0 - 4.0*step\n",
    "            end = len(allimgs_st2)+0.0001\n",
    "            for j, i in enumerate(np.arange(st, end, step)):\n",
    "                try:\n",
    "                    ind2 = max(0, int((i-0.5001).round()))\n",
    "                    img = self.read_dcm_ret_arr(allimgs_st2[ind2])\n",
    "                    x[..., j+10] = img.astype(np.uint8)\n",
    "                except:\n",
    "                    print(f'failed to load on {st_id}, Sagittal T2/STIR')\n",
    "                    pass\n",
    "            \n",
    "        # Axial T2\n",
    "        allimgs_at2 = self.get_img_paths(st_id, 'Axial T2')\n",
    "        if len(allimgs_at2)==0:\n",
    "            print(st_id, ': Axial T2, has no images')\n",
    "            \n",
    "        else:\n",
    "            step = len(allimgs_at2) / 10.0\n",
    "            st = len(allimgs_at2)/2.0 - 4.0*step\n",
    "            end = len(allimgs_at2)+0.0001\n",
    "\n",
    "            for j, i in enumerate(np.arange(st, end, step)):\n",
    "                try:\n",
    "                    ind2 = max(0, int((i-0.5001).round()))\n",
    "                    img = self.read_dcm_ret_arr(allimgs_at2[ind2])\n",
    "                    x[..., j+20] = img.astype(np.uint8)\n",
    "                except:\n",
    "                    print(f'failed to load on {st_id}, Axial T2')\n",
    "                    pass  \n",
    "            \n",
    "            \n",
    "        if self.transform is not None:\n",
    "            x = self.transform(image=x)['image']\n",
    "\n",
    "        x = x.transpose(2, 0, 1)\n",
    "                \n",
    "        return x, str(st_id)"
   ]
  },
  {
   "cell_type": "code",
   "execution_count": 13,
   "id": "08a72b8a",
   "metadata": {
    "execution": {
     "iopub.execute_input": "2024-09-05T08:49:11.205026Z",
     "iopub.status.busy": "2024-09-05T08:49:11.204791Z",
     "iopub.status.idle": "2024-09-05T08:49:11.209937Z",
     "shell.execute_reply": "2024-09-05T08:49:11.209295Z"
    },
    "papermill": {
     "duration": 0.015704,
     "end_time": "2024-09-05T08:49:11.211738",
     "exception": false,
     "start_time": "2024-09-05T08:49:11.196034",
     "status": "completed"
    },
    "tags": []
   },
   "outputs": [],
   "source": [
    "transforms_test = A.Compose([\n",
    "    A.Resize(IMG_SIZE[0], IMG_SIZE[1]),\n",
    "    A.Normalize(mean=0.5, std=0.5)\n",
    "])"
   ]
  },
  {
   "cell_type": "code",
   "execution_count": 14,
   "id": "fd0d85da",
   "metadata": {
    "execution": {
     "iopub.execute_input": "2024-09-05T08:49:11.228941Z",
     "iopub.status.busy": "2024-09-05T08:49:11.228709Z",
     "iopub.status.idle": "2024-09-05T08:49:11.233110Z",
     "shell.execute_reply": "2024-09-05T08:49:11.232371Z"
    },
    "papermill": {
     "duration": 0.015149,
     "end_time": "2024-09-05T08:49:11.235065",
     "exception": false,
     "start_time": "2024-09-05T08:49:11.219916",
     "status": "completed"
    },
    "tags": []
   },
   "outputs": [],
   "source": [
    "test_ds = RSNA24TestDataset(df, study_ids, transform=transforms_test)\n",
    "test_dl = DataLoader(\n",
    "    test_ds, \n",
    "    batch_size=1, \n",
    "    shuffle=False,\n",
    "    num_workers=N_WORKERS,\n",
    "    pin_memory=True,\n",
    "    drop_last=False\n",
    ")"
   ]
  },
  {
   "cell_type": "markdown",
   "id": "397e7353",
   "metadata": {
    "papermill": {
     "duration": 0.008682,
     "end_time": "2024-09-05T08:49:11.251977",
     "exception": false,
     "start_time": "2024-09-05T08:49:11.243295",
     "status": "completed"
    },
    "tags": []
   },
   "source": [
    "# Define Model"
   ]
  },
  {
   "cell_type": "code",
   "execution_count": 15,
   "id": "056c3528",
   "metadata": {
    "execution": {
     "iopub.execute_input": "2024-09-05T08:49:11.269505Z",
     "iopub.status.busy": "2024-09-05T08:49:11.269224Z",
     "iopub.status.idle": "2024-09-05T08:49:11.274788Z",
     "shell.execute_reply": "2024-09-05T08:49:11.273935Z"
    },
    "papermill": {
     "duration": 0.016546,
     "end_time": "2024-09-05T08:49:11.276864",
     "exception": false,
     "start_time": "2024-09-05T08:49:11.260318",
     "status": "completed"
    },
    "tags": []
   },
   "outputs": [],
   "source": [
    "class RSNA24Model(nn.Module):\n",
    "    def __init__(self, model_name, in_c=30, n_classes=75, pretrained=True, features_only=False):\n",
    "        super().__init__()\n",
    "        self.model = timm.create_model(\n",
    "                                    model_name,\n",
    "                                    pretrained=pretrained, \n",
    "                                    features_only=features_only,\n",
    "                                    in_chans=in_c,\n",
    "                                    num_classes=n_classes,\n",
    "                                    global_pool='avg'\n",
    "                                    )\n",
    "    \n",
    "    def forward(self, x):\n",
    "        y = self.model(x)\n",
    "        return y"
   ]
  },
  {
   "cell_type": "markdown",
   "id": "92076184",
   "metadata": {
    "papermill": {
     "duration": 0.007965,
     "end_time": "2024-09-05T08:49:11.293233",
     "exception": false,
     "start_time": "2024-09-05T08:49:11.285268",
     "status": "completed"
    },
    "tags": []
   },
   "source": [
    "# Load Models"
   ]
  },
  {
   "cell_type": "code",
   "execution_count": 16,
   "id": "1f6e68e2",
   "metadata": {
    "execution": {
     "iopub.execute_input": "2024-09-05T08:49:11.311835Z",
     "iopub.status.busy": "2024-09-05T08:49:11.311587Z",
     "iopub.status.idle": "2024-09-05T08:49:11.315264Z",
     "shell.execute_reply": "2024-09-05T08:49:11.314393Z"
    },
    "papermill": {
     "duration": 0.015434,
     "end_time": "2024-09-05T08:49:11.317288",
     "exception": false,
     "start_time": "2024-09-05T08:49:11.301854",
     "status": "completed"
    },
    "tags": []
   },
   "outputs": [],
   "source": [
    "models = []"
   ]
  },
  {
   "cell_type": "code",
   "execution_count": 17,
   "id": "dd3b6461",
   "metadata": {
    "execution": {
     "iopub.execute_input": "2024-09-05T08:49:11.334571Z",
     "iopub.status.busy": "2024-09-05T08:49:11.334286Z",
     "iopub.status.idle": "2024-09-05T08:49:11.343985Z",
     "shell.execute_reply": "2024-09-05T08:49:11.343185Z"
    },
    "papermill": {
     "duration": 0.020555,
     "end_time": "2024-09-05T08:49:11.345935",
     "exception": false,
     "start_time": "2024-09-05T08:49:11.325380",
     "status": "completed"
    },
    "tags": []
   },
   "outputs": [],
   "source": [
    "import glob\n",
    "# CKPT_PATHS = glob.glob('/kaggle/input/rsna-model/pytorch/default/1/rsna24-results/best_wll_model_fold-*.pt')\n",
    "CKPT_PATHS = glob.glob('/kaggle/input/rsna2024-lsdc-training-baseline/rsna24-results/best_wll_model_fold-*.pt')\n",
    "CKPT_PATHS = sorted(CKPT_PATHS)"
   ]
  },
  {
   "cell_type": "code",
   "execution_count": 18,
   "id": "b8743a4a",
   "metadata": {
    "execution": {
     "iopub.execute_input": "2024-09-05T08:49:11.363879Z",
     "iopub.status.busy": "2024-09-05T08:49:11.363618Z",
     "iopub.status.idle": "2024-09-05T08:49:16.426370Z",
     "shell.execute_reply": "2024-09-05T08:49:16.425553Z"
    },
    "papermill": {
     "duration": 5.074331,
     "end_time": "2024-09-05T08:49:16.428767",
     "exception": false,
     "start_time": "2024-09-05T08:49:11.354436",
     "status": "completed"
    },
    "tags": []
   },
   "outputs": [
    {
     "name": "stdout",
     "output_type": "stream",
     "text": [
      "loading /kaggle/input/rsna2024-lsdc-training-baseline/rsna24-results/best_wll_model_fold-0.pt...\n",
      "loading /kaggle/input/rsna2024-lsdc-training-baseline/rsna24-results/best_wll_model_fold-1.pt...\n",
      "loading /kaggle/input/rsna2024-lsdc-training-baseline/rsna24-results/best_wll_model_fold-2.pt...\n",
      "loading /kaggle/input/rsna2024-lsdc-training-baseline/rsna24-results/best_wll_model_fold-3.pt...\n",
      "loading /kaggle/input/rsna2024-lsdc-training-baseline/rsna24-results/best_wll_model_fold-4.pt...\n"
     ]
    }
   ],
   "source": [
    "for i, cp in enumerate(CKPT_PATHS):\n",
    "    print(f'loading {cp}...')\n",
    "    model = RSNA24Model(MODEL_NAME, IN_CHANS, N_CLASSES, pretrained=False)\n",
    "    state_dict = torch.load(cp)    \n",
    "    \n",
    "    model.load_state_dict(torch.load(cp), strict=False)\n",
    "    model.eval()\n",
    "    model.half()\n",
    "    model.to(device)\n",
    "    models.append(model)"
   ]
  },
  {
   "cell_type": "markdown",
   "id": "6742e5cc",
   "metadata": {
    "papermill": {
     "duration": 0.008959,
     "end_time": "2024-09-05T08:49:16.447122",
     "exception": false,
     "start_time": "2024-09-05T08:49:16.438163",
     "status": "completed"
    },
    "tags": []
   },
   "source": [
    "# Inference loop"
   ]
  },
  {
   "cell_type": "code",
   "execution_count": 19,
   "id": "940a80d0",
   "metadata": {
    "execution": {
     "iopub.execute_input": "2024-09-05T08:49:16.465442Z",
     "iopub.status.busy": "2024-09-05T08:49:16.465116Z",
     "iopub.status.idle": "2024-09-05T08:49:18.960364Z",
     "shell.execute_reply": "2024-09-05T08:49:18.959228Z"
    },
    "papermill": {
     "duration": 2.506969,
     "end_time": "2024-09-05T08:49:18.962572",
     "exception": false,
     "start_time": "2024-09-05T08:49:16.455603",
     "status": "completed"
    },
    "tags": []
   },
   "outputs": [
    {
     "name": "stderr",
     "output_type": "stream",
     "text": [
      "100%|██████████| 1/1 [00:02<00:00,  2.48s/it]\n"
     ]
    }
   ],
   "source": [
    "autocast = torch.cuda.amp.autocast(enabled=USE_AMP, dtype=torch.half)\n",
    "y_preds = []\n",
    "row_names = []\n",
    "\n",
    "with tqdm(test_dl, leave=True) as pbar:\n",
    "    with torch.no_grad():\n",
    "        for idx, (x, si) in enumerate(pbar):\n",
    "            x = x.to(device)\n",
    "            pred_per_study = np.zeros((25, 3))\n",
    "            \n",
    "            for cond in CONDITIONS:\n",
    "                for level in LEVELS:\n",
    "                    row_names.append(si[0] + '_' + cond + '_' + level)\n",
    "            \n",
    "            with autocast:\n",
    "                for m in models:\n",
    "                    y = m(x)[0]\n",
    "                    for col in range(N_LABELS):\n",
    "                        pred = y[col*3:col*3+3]\n",
    "                        y_pred = pred.float().softmax(0).cpu().numpy()\n",
    "                        pred_per_study[col] += y_pred / len(models)\n",
    "                y_preds.append(pred_per_study)\n",
    "\n",
    "y_preds = np.concatenate(y_preds, axis=0)"
   ]
  },
  {
   "cell_type": "markdown",
   "id": "4764d376",
   "metadata": {
    "papermill": {
     "duration": 0.008902,
     "end_time": "2024-09-05T08:49:18.980815",
     "exception": false,
     "start_time": "2024-09-05T08:49:18.971913",
     "status": "completed"
    },
    "tags": []
   },
   "source": [
    "# Make Submission"
   ]
  },
  {
   "cell_type": "code",
   "execution_count": 20,
   "id": "f0383355",
   "metadata": {
    "execution": {
     "iopub.execute_input": "2024-09-05T08:49:19.000646Z",
     "iopub.status.busy": "2024-09-05T08:49:18.999977Z",
     "iopub.status.idle": "2024-09-05T08:49:19.022349Z",
     "shell.execute_reply": "2024-09-05T08:49:19.021465Z"
    },
    "papermill": {
     "duration": 0.034223,
     "end_time": "2024-09-05T08:49:19.024087",
     "exception": false,
     "start_time": "2024-09-05T08:49:18.989864",
     "status": "completed"
    },
    "tags": []
   },
   "outputs": [
    {
     "data": {
      "text/html": [
       "<div>\n",
       "<style scoped>\n",
       "    .dataframe tbody tr th:only-of-type {\n",
       "        vertical-align: middle;\n",
       "    }\n",
       "\n",
       "    .dataframe tbody tr th {\n",
       "        vertical-align: top;\n",
       "    }\n",
       "\n",
       "    .dataframe thead th {\n",
       "        text-align: right;\n",
       "    }\n",
       "</style>\n",
       "<table border=\"1\" class=\"dataframe\">\n",
       "  <thead>\n",
       "    <tr style=\"text-align: right;\">\n",
       "      <th></th>\n",
       "      <th>row_id</th>\n",
       "      <th>normal_mild</th>\n",
       "      <th>moderate</th>\n",
       "      <th>severe</th>\n",
       "    </tr>\n",
       "  </thead>\n",
       "  <tbody>\n",
       "    <tr>\n",
       "      <th>0</th>\n",
       "      <td>44036939_spinal_canal_stenosis_l1_l2</td>\n",
       "      <td>0.210773</td>\n",
       "      <td>0.410302</td>\n",
       "      <td>0.378925</td>\n",
       "    </tr>\n",
       "    <tr>\n",
       "      <th>1</th>\n",
       "      <td>44036939_spinal_canal_stenosis_l2_l3</td>\n",
       "      <td>0.148449</td>\n",
       "      <td>0.349335</td>\n",
       "      <td>0.502216</td>\n",
       "    </tr>\n",
       "    <tr>\n",
       "      <th>2</th>\n",
       "      <td>44036939_spinal_canal_stenosis_l3_l4</td>\n",
       "      <td>0.126800</td>\n",
       "      <td>0.379194</td>\n",
       "      <td>0.494007</td>\n",
       "    </tr>\n",
       "    <tr>\n",
       "      <th>3</th>\n",
       "      <td>44036939_spinal_canal_stenosis_l4_l5</td>\n",
       "      <td>0.239618</td>\n",
       "      <td>0.309991</td>\n",
       "      <td>0.450391</td>\n",
       "    </tr>\n",
       "    <tr>\n",
       "      <th>4</th>\n",
       "      <td>44036939_spinal_canal_stenosis_l5_s1</td>\n",
       "      <td>0.441269</td>\n",
       "      <td>0.221183</td>\n",
       "      <td>0.337548</td>\n",
       "    </tr>\n",
       "    <tr>\n",
       "      <th>5</th>\n",
       "      <td>44036939_left_neural_foraminal_narrowing_l1_l2</td>\n",
       "      <td>0.247931</td>\n",
       "      <td>0.594366</td>\n",
       "      <td>0.157702</td>\n",
       "    </tr>\n",
       "    <tr>\n",
       "      <th>6</th>\n",
       "      <td>44036939_left_neural_foraminal_narrowing_l2_l3</td>\n",
       "      <td>0.176782</td>\n",
       "      <td>0.566543</td>\n",
       "      <td>0.256675</td>\n",
       "    </tr>\n",
       "    <tr>\n",
       "      <th>7</th>\n",
       "      <td>44036939_left_neural_foraminal_narrowing_l3_l4</td>\n",
       "      <td>0.158295</td>\n",
       "      <td>0.312631</td>\n",
       "      <td>0.529074</td>\n",
       "    </tr>\n",
       "    <tr>\n",
       "      <th>8</th>\n",
       "      <td>44036939_left_neural_foraminal_narrowing_l4_l5</td>\n",
       "      <td>0.155677</td>\n",
       "      <td>0.368016</td>\n",
       "      <td>0.476307</td>\n",
       "    </tr>\n",
       "    <tr>\n",
       "      <th>9</th>\n",
       "      <td>44036939_left_neural_foraminal_narrowing_l5_s1</td>\n",
       "      <td>0.200118</td>\n",
       "      <td>0.410111</td>\n",
       "      <td>0.389771</td>\n",
       "    </tr>\n",
       "    <tr>\n",
       "      <th>10</th>\n",
       "      <td>44036939_right_neural_foraminal_narrowing_l1_l2</td>\n",
       "      <td>0.262592</td>\n",
       "      <td>0.375564</td>\n",
       "      <td>0.361844</td>\n",
       "    </tr>\n",
       "    <tr>\n",
       "      <th>11</th>\n",
       "      <td>44036939_right_neural_foraminal_narrowing_l2_l3</td>\n",
       "      <td>0.281465</td>\n",
       "      <td>0.421507</td>\n",
       "      <td>0.297028</td>\n",
       "    </tr>\n",
       "    <tr>\n",
       "      <th>12</th>\n",
       "      <td>44036939_right_neural_foraminal_narrowing_l3_l4</td>\n",
       "      <td>0.142165</td>\n",
       "      <td>0.448065</td>\n",
       "      <td>0.409770</td>\n",
       "    </tr>\n",
       "    <tr>\n",
       "      <th>13</th>\n",
       "      <td>44036939_right_neural_foraminal_narrowing_l4_l5</td>\n",
       "      <td>0.161923</td>\n",
       "      <td>0.333828</td>\n",
       "      <td>0.504249</td>\n",
       "    </tr>\n",
       "    <tr>\n",
       "      <th>14</th>\n",
       "      <td>44036939_right_neural_foraminal_narrowing_l5_s1</td>\n",
       "      <td>0.250258</td>\n",
       "      <td>0.324712</td>\n",
       "      <td>0.425030</td>\n",
       "    </tr>\n",
       "    <tr>\n",
       "      <th>15</th>\n",
       "      <td>44036939_left_subarticular_stenosis_l1_l2</td>\n",
       "      <td>0.159419</td>\n",
       "      <td>0.447381</td>\n",
       "      <td>0.393200</td>\n",
       "    </tr>\n",
       "    <tr>\n",
       "      <th>16</th>\n",
       "      <td>44036939_left_subarticular_stenosis_l2_l3</td>\n",
       "      <td>0.121886</td>\n",
       "      <td>0.365532</td>\n",
       "      <td>0.512582</td>\n",
       "    </tr>\n",
       "    <tr>\n",
       "      <th>17</th>\n",
       "      <td>44036939_left_subarticular_stenosis_l3_l4</td>\n",
       "      <td>0.138715</td>\n",
       "      <td>0.286541</td>\n",
       "      <td>0.574744</td>\n",
       "    </tr>\n",
       "    <tr>\n",
       "      <th>18</th>\n",
       "      <td>44036939_left_subarticular_stenosis_l4_l5</td>\n",
       "      <td>0.133932</td>\n",
       "      <td>0.307580</td>\n",
       "      <td>0.558488</td>\n",
       "    </tr>\n",
       "    <tr>\n",
       "      <th>19</th>\n",
       "      <td>44036939_left_subarticular_stenosis_l5_s1</td>\n",
       "      <td>0.254294</td>\n",
       "      <td>0.323544</td>\n",
       "      <td>0.422162</td>\n",
       "    </tr>\n",
       "    <tr>\n",
       "      <th>20</th>\n",
       "      <td>44036939_right_subarticular_stenosis_l1_l2</td>\n",
       "      <td>0.180062</td>\n",
       "      <td>0.415167</td>\n",
       "      <td>0.404771</td>\n",
       "    </tr>\n",
       "    <tr>\n",
       "      <th>21</th>\n",
       "      <td>44036939_right_subarticular_stenosis_l2_l3</td>\n",
       "      <td>0.111774</td>\n",
       "      <td>0.310567</td>\n",
       "      <td>0.577659</td>\n",
       "    </tr>\n",
       "    <tr>\n",
       "      <th>22</th>\n",
       "      <td>44036939_right_subarticular_stenosis_l3_l4</td>\n",
       "      <td>0.131587</td>\n",
       "      <td>0.289349</td>\n",
       "      <td>0.579064</td>\n",
       "    </tr>\n",
       "    <tr>\n",
       "      <th>23</th>\n",
       "      <td>44036939_right_subarticular_stenosis_l4_l5</td>\n",
       "      <td>0.115045</td>\n",
       "      <td>0.267426</td>\n",
       "      <td>0.617528</td>\n",
       "    </tr>\n",
       "    <tr>\n",
       "      <th>24</th>\n",
       "      <td>44036939_right_subarticular_stenosis_l5_s1</td>\n",
       "      <td>0.242451</td>\n",
       "      <td>0.374040</td>\n",
       "      <td>0.383508</td>\n",
       "    </tr>\n",
       "  </tbody>\n",
       "</table>\n",
       "</div>"
      ],
      "text/plain": [
       "                                             row_id  normal_mild  moderate  \\\n",
       "0              44036939_spinal_canal_stenosis_l1_l2     0.210773  0.410302   \n",
       "1              44036939_spinal_canal_stenosis_l2_l3     0.148449  0.349335   \n",
       "2              44036939_spinal_canal_stenosis_l3_l4     0.126800  0.379194   \n",
       "3              44036939_spinal_canal_stenosis_l4_l5     0.239618  0.309991   \n",
       "4              44036939_spinal_canal_stenosis_l5_s1     0.441269  0.221183   \n",
       "5    44036939_left_neural_foraminal_narrowing_l1_l2     0.247931  0.594366   \n",
       "6    44036939_left_neural_foraminal_narrowing_l2_l3     0.176782  0.566543   \n",
       "7    44036939_left_neural_foraminal_narrowing_l3_l4     0.158295  0.312631   \n",
       "8    44036939_left_neural_foraminal_narrowing_l4_l5     0.155677  0.368016   \n",
       "9    44036939_left_neural_foraminal_narrowing_l5_s1     0.200118  0.410111   \n",
       "10  44036939_right_neural_foraminal_narrowing_l1_l2     0.262592  0.375564   \n",
       "11  44036939_right_neural_foraminal_narrowing_l2_l3     0.281465  0.421507   \n",
       "12  44036939_right_neural_foraminal_narrowing_l3_l4     0.142165  0.448065   \n",
       "13  44036939_right_neural_foraminal_narrowing_l4_l5     0.161923  0.333828   \n",
       "14  44036939_right_neural_foraminal_narrowing_l5_s1     0.250258  0.324712   \n",
       "15        44036939_left_subarticular_stenosis_l1_l2     0.159419  0.447381   \n",
       "16        44036939_left_subarticular_stenosis_l2_l3     0.121886  0.365532   \n",
       "17        44036939_left_subarticular_stenosis_l3_l4     0.138715  0.286541   \n",
       "18        44036939_left_subarticular_stenosis_l4_l5     0.133932  0.307580   \n",
       "19        44036939_left_subarticular_stenosis_l5_s1     0.254294  0.323544   \n",
       "20       44036939_right_subarticular_stenosis_l1_l2     0.180062  0.415167   \n",
       "21       44036939_right_subarticular_stenosis_l2_l3     0.111774  0.310567   \n",
       "22       44036939_right_subarticular_stenosis_l3_l4     0.131587  0.289349   \n",
       "23       44036939_right_subarticular_stenosis_l4_l5     0.115045  0.267426   \n",
       "24       44036939_right_subarticular_stenosis_l5_s1     0.242451  0.374040   \n",
       "\n",
       "      severe  \n",
       "0   0.378925  \n",
       "1   0.502216  \n",
       "2   0.494007  \n",
       "3   0.450391  \n",
       "4   0.337548  \n",
       "5   0.157702  \n",
       "6   0.256675  \n",
       "7   0.529074  \n",
       "8   0.476307  \n",
       "9   0.389771  \n",
       "10  0.361844  \n",
       "11  0.297028  \n",
       "12  0.409770  \n",
       "13  0.504249  \n",
       "14  0.425030  \n",
       "15  0.393200  \n",
       "16  0.512582  \n",
       "17  0.574744  \n",
       "18  0.558488  \n",
       "19  0.422162  \n",
       "20  0.404771  \n",
       "21  0.577659  \n",
       "22  0.579064  \n",
       "23  0.617528  \n",
       "24  0.383508  "
      ]
     },
     "execution_count": 20,
     "metadata": {},
     "output_type": "execute_result"
    }
   ],
   "source": [
    "sub = pd.DataFrame()\n",
    "sub['row_id'] = row_names\n",
    "sub[LABELS] = y_preds\n",
    "sub.head(25)"
   ]
  },
  {
   "cell_type": "code",
   "execution_count": 21,
   "id": "1a71b9b5",
   "metadata": {
    "execution": {
     "iopub.execute_input": "2024-09-05T08:49:19.043812Z",
     "iopub.status.busy": "2024-09-05T08:49:19.043542Z",
     "iopub.status.idle": "2024-09-05T08:49:19.058451Z",
     "shell.execute_reply": "2024-09-05T08:49:19.057552Z"
    },
    "papermill": {
     "duration": 0.027012,
     "end_time": "2024-09-05T08:49:19.060427",
     "exception": false,
     "start_time": "2024-09-05T08:49:19.033415",
     "status": "completed"
    },
    "tags": []
   },
   "outputs": [
    {
     "data": {
      "text/html": [
       "<div>\n",
       "<style scoped>\n",
       "    .dataframe tbody tr th:only-of-type {\n",
       "        vertical-align: middle;\n",
       "    }\n",
       "\n",
       "    .dataframe tbody tr th {\n",
       "        vertical-align: top;\n",
       "    }\n",
       "\n",
       "    .dataframe thead th {\n",
       "        text-align: right;\n",
       "    }\n",
       "</style>\n",
       "<table border=\"1\" class=\"dataframe\">\n",
       "  <thead>\n",
       "    <tr style=\"text-align: right;\">\n",
       "      <th></th>\n",
       "      <th>row_id</th>\n",
       "      <th>normal_mild</th>\n",
       "      <th>moderate</th>\n",
       "      <th>severe</th>\n",
       "    </tr>\n",
       "  </thead>\n",
       "  <tbody>\n",
       "    <tr>\n",
       "      <th>0</th>\n",
       "      <td>44036939_spinal_canal_stenosis_l1_l2</td>\n",
       "      <td>0.210773</td>\n",
       "      <td>0.410302</td>\n",
       "      <td>0.378925</td>\n",
       "    </tr>\n",
       "    <tr>\n",
       "      <th>1</th>\n",
       "      <td>44036939_spinal_canal_stenosis_l2_l3</td>\n",
       "      <td>0.148449</td>\n",
       "      <td>0.349335</td>\n",
       "      <td>0.502216</td>\n",
       "    </tr>\n",
       "    <tr>\n",
       "      <th>2</th>\n",
       "      <td>44036939_spinal_canal_stenosis_l3_l4</td>\n",
       "      <td>0.126800</td>\n",
       "      <td>0.379194</td>\n",
       "      <td>0.494007</td>\n",
       "    </tr>\n",
       "    <tr>\n",
       "      <th>3</th>\n",
       "      <td>44036939_spinal_canal_stenosis_l4_l5</td>\n",
       "      <td>0.239618</td>\n",
       "      <td>0.309991</td>\n",
       "      <td>0.450391</td>\n",
       "    </tr>\n",
       "    <tr>\n",
       "      <th>4</th>\n",
       "      <td>44036939_spinal_canal_stenosis_l5_s1</td>\n",
       "      <td>0.441269</td>\n",
       "      <td>0.221183</td>\n",
       "      <td>0.337548</td>\n",
       "    </tr>\n",
       "  </tbody>\n",
       "</table>\n",
       "</div>"
      ],
      "text/plain": [
       "                                 row_id  normal_mild  moderate    severe\n",
       "0  44036939_spinal_canal_stenosis_l1_l2     0.210773  0.410302  0.378925\n",
       "1  44036939_spinal_canal_stenosis_l2_l3     0.148449  0.349335  0.502216\n",
       "2  44036939_spinal_canal_stenosis_l3_l4     0.126800  0.379194  0.494007\n",
       "3  44036939_spinal_canal_stenosis_l4_l5     0.239618  0.309991  0.450391\n",
       "4  44036939_spinal_canal_stenosis_l5_s1     0.441269  0.221183  0.337548"
      ]
     },
     "execution_count": 21,
     "metadata": {},
     "output_type": "execute_result"
    }
   ],
   "source": [
    "sub.to_csv('submission.csv', index=False)\n",
    "pd.read_csv('submission.csv').head()"
   ]
  },
  {
   "cell_type": "markdown",
   "id": "006e1f63",
   "metadata": {
    "papermill": {
     "duration": 0.009198,
     "end_time": "2024-09-05T08:49:19.079433",
     "exception": false,
     "start_time": "2024-09-05T08:49:19.070235",
     "status": "completed"
    },
    "tags": []
   },
   "source": [
    "# Conclusion\n",
    "We created the dataset, performed training, and inference in this notebook. \n",
    "\n",
    "This competition is a bit complicated to handle the dataset, so there may be a better way.\n",
    "\n",
    "I think there are many other areas to improve in my notebook. I hope you can learn from my notebook and get a better score."
   ]
  },
  {
   "cell_type": "code",
   "execution_count": null,
   "id": "96bec0e2",
   "metadata": {
    "papermill": {
     "duration": 0.009705,
     "end_time": "2024-09-05T08:49:19.099750",
     "exception": false,
     "start_time": "2024-09-05T08:49:19.090045",
     "status": "completed"
    },
    "tags": []
   },
   "outputs": [],
   "source": []
  }
 ],
 "metadata": {
  "kaggle": {
   "accelerator": "nvidiaTeslaT4",
   "dataSources": [
    {
     "databundleVersionId": 8561470,
     "sourceId": 71549,
     "sourceType": "competition"
    },
    {
     "sourceId": 195343455,
     "sourceType": "kernelVersion"
    }
   ],
   "dockerImageVersionId": 30733,
   "isGpuEnabled": true,
   "isInternetEnabled": false,
   "language": "python",
   "sourceType": "notebook"
  },
  "kernelspec": {
   "display_name": "Python 3",
   "language": "python",
   "name": "python3"
  },
  "language_info": {
   "codemirror_mode": {
    "name": "ipython",
    "version": 3
   },
   "file_extension": ".py",
   "mimetype": "text/x-python",
   "name": "python",
   "nbconvert_exporter": "python",
   "pygments_lexer": "ipython3",
   "version": "3.10.13"
  },
  "papermill": {
   "default_parameters": {},
   "duration": 22.149518,
   "end_time": "2024-09-05T08:49:21.548417",
   "environment_variables": {},
   "exception": null,
   "input_path": "__notebook__.ipynb",
   "output_path": "__notebook__.ipynb",
   "parameters": {},
   "start_time": "2024-09-05T08:48:59.398899",
   "version": "2.5.0"
  }
 },
 "nbformat": 4,
 "nbformat_minor": 5
}
